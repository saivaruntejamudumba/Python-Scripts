{
  "nbformat": 4,
  "nbformat_minor": 0,
  "metadata": {
    "colab": {
      "name": "Main Suji wal.ipynb",
      "version": "0.3.2",
      "provenance": [],
      "collapsed_sections": [],
      "include_colab_link": true
    },
    "kernelspec": {
      "name": "python3",
      "display_name": "Python 3"
    }
  },
  "cells": [
    {
      "cell_type": "markdown",
      "metadata": {
        "id": "view-in-github",
        "colab_type": "text"
      },
      "source": [
        "<a href=\"https://colab.research.google.com/github/saivaruntejamudumba/Python-Scripts/blob/master/Main_Suji_wal.ipynb\" target=\"_parent\"><img src=\"https://colab.research.google.com/assets/colab-badge.svg\" alt=\"Open In Colab\"/></a>"
      ]
    },
    {
      "cell_type": "code",
      "metadata": {
        "id": "y47jnmgGpjxs",
        "colab_type": "code",
        "colab": {}
      },
      "source": [
        "def f(N):\n",
        "  i = 0\n",
        "  f = 0\n",
        "  s = 1\n",
        "  series=[]           \n",
        "  while(i < N+2):\n",
        "    if(i <= 1):\n",
        "      n = i\n",
        "    else:\n",
        "      n = f + s\n",
        "      f = s\n",
        "      s = n\n",
        "    if n >= N:\n",
        "      return n\n",
        "      break\n",
        "    i = i + 1\n"
      ],
      "execution_count": 0,
      "outputs": []
    },
    {
      "cell_type": "code",
      "metadata": {
        "id": "BgzNTpT6qtob",
        "colab_type": "code",
        "colab": {}
      },
      "source": [
        "def g(L,R):\n",
        "  sum=0\n",
        "  for x in range(L,R+1):\n",
        "    sum=sum+f(x)\n",
        "  print(sum)\n",
        "  \n",
        "  "
      ],
      "execution_count": 0,
      "outputs": []
    },
    {
      "cell_type": "code",
      "metadata": {
        "id": "Gkef1Dj5r-eR",
        "colab_type": "code",
        "outputId": "d01dd675-5553-4fee-dc0f-0b88be96d58b",
        "colab": {
          "base_uri": "https://localhost:8080/",
          "height": 67
        }
      },
      "source": [
        "#Execute this to enter the inputs \n",
        "L, R = input(\"Enter values of L and R\\n\").split(\" \")\n",
        "g(int(L),int(R))"
      ],
      "execution_count": 0,
      "outputs": [
        {
          "output_type": "stream",
          "text": [
            "Enter values of L and R\n",
            "2 5\n",
            "15\n"
          ],
          "name": "stdout"
        }
      ]
    },
    {
      "cell_type": "code",
      "metadata": {
        "id": "5wzoaPPGAt2I",
        "colab_type": "code",
        "colab": {}
      },
      "source": [
        ""
      ],
      "execution_count": 0,
      "outputs": []
    }
  ]
}