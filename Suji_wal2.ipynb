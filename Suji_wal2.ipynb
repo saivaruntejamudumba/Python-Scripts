{
  "nbformat": 4,
  "nbformat_minor": 0,
  "metadata": {
    "colab": {
      "name": "Suji wal2.ipynb",
      "version": "0.3.2",
      "provenance": [],
      "collapsed_sections": [],
      "include_colab_link": true
    },
    "kernelspec": {
      "name": "python3",
      "display_name": "Python 3"
    }
  },
  "cells": [
    {
      "cell_type": "markdown",
      "metadata": {
        "id": "view-in-github",
        "colab_type": "text"
      },
      "source": [
        "<a href=\"https://colab.research.google.com/github/saivaruntejamudumba/Python-Scripts/blob/master/Suji_wal2.ipynb\" target=\"_parent\"><img src=\"https://colab.research.google.com/assets/colab-badge.svg\" alt=\"Open In Colab\"/></a>"
      ]
    },
    {
      "cell_type": "code",
      "metadata": {
        "id": "y47jnmgGpjxs",
        "colab_type": "code",
        "outputId": "bfc8e1ef-732d-4df8-9823-599378acc821",
        "colab": {
          "base_uri": "https://localhost:8080/",
          "height": 101
        }
      },
      "source": [
        "import math\n",
        "i=0\n",
        "T=int(input(\"Enter T value\\n\"))\n",
        "while(i < T):\n",
        "  n=int(input(\"Enter N value\\n\"))\n",
        "  l1=[]\n",
        "  # Iterating x from 1 to n \n",
        "  for x in range(1, n): \n",
        "    for c in range(1,n-x):\n",
        "      if(c<(n-x) and (c>=(n/x))):\n",
        "        l1.append(x+c)\n",
        "  print(min(l1))\n",
        "  i=i+1\n"
      ],
      "execution_count": 1,
      "outputs": [
        {
          "output_type": "stream",
          "text": [
            "Enter T value\n",
            "1\n",
            "Enter N value\n",
            "15\n",
            "8\n"
          ],
          "name": "stdout"
        }
      ]
    },
    {
      "cell_type": "code",
      "metadata": {
        "id": "whL0GFlN2vAe",
        "colab_type": "code",
        "colab": {}
      },
      "source": [
        ""
      ],
      "execution_count": 0,
      "outputs": []
    }
  ]
}