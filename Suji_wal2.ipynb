{
  "nbformat": 4,
  "nbformat_minor": 0,
  "metadata": {
    "colab": {
      "name": "Suji wal2.ipynb",
      "version": "0.3.2",
      "provenance": [],
      "collapsed_sections": [],
      "include_colab_link": true
    },
    "kernelspec": {
      "name": "python3",
      "display_name": "Python 3"
    }
  },
  "cells": [
    {
      "cell_type": "markdown",
      "metadata": {
        "id": "view-in-github",
        "colab_type": "text"
      },
      "source": [
        "<a href=\"https://colab.research.google.com/github/saivaruntejamudumba/Python-Scripts/blob/master/Suji_wal2.ipynb\" target=\"_parent\"><img src=\"https://colab.research.google.com/assets/colab-badge.svg\" alt=\"Open In Colab\"/></a>"
      ]
    },
    {
      "cell_type": "code",
      "metadata": {
        "id": "y47jnmgGpjxs",
        "colab_type": "code",
        "outputId": "56166e56-25d6-426d-dbca-14d45c04f6c5",
        "colab": {
          "base_uri": "https://localhost:8080/",
          "height": 101
        }
      },
      "source": [
        "import math\n",
        "i=0\n",
        "T=int(input(\"Enter T value\\n\"))\n",
        "while(i < T):\n",
        "  n=int(input(\"Enter N value\\n\"))\n",
        "  mini='NULL'\n",
        "  # Iterating x from 1 to n \n",
        "  for x in range(1, n):\n",
        "    if(n%x!=0):\n",
        "      u=int(n/x)+1\n",
        "    else:\n",
        "      u=int(n/x)\n",
        "    for c in range(u,n-x):\n",
        "      s=x+c\n",
        "      if(mini == 'NULL'):\n",
        "        mini=s\n",
        "      else:\n",
        "        if(s < mini):\n",
        "          mini=s\n",
        "  print(mini)\n",
        "  i=i+1\n"
      ],
      "execution_count": 22,
      "outputs": [
        {
          "output_type": "stream",
          "text": [
            "Enter T value\n",
            "1\n",
            "Enter N value\n",
            "15\n",
            "8\n"
          ],
          "name": "stdout"
        }
      ]
    },
    {
      "cell_type": "code",
      "metadata": {
        "id": "WkPyTgLee32J",
        "colab_type": "code",
        "colab": {}
      },
      "source": [
        ""
      ],
      "execution_count": 0,
      "outputs": []
    }
  ]
}