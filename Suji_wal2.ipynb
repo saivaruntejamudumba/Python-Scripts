{
  "nbformat": 4,
  "nbformat_minor": 0,
  "metadata": {
    "colab": {
      "name": "Suji wal2.ipynb",
      "version": "0.3.2",
      "provenance": [],
      "collapsed_sections": [],
      "include_colab_link": true
    },
    "kernelspec": {
      "name": "python3",
      "display_name": "Python 3"
    }
  },
  "cells": [
    {
      "cell_type": "markdown",
      "metadata": {
        "id": "view-in-github",
        "colab_type": "text"
      },
      "source": [
        "<a href=\"https://colab.research.google.com/github/saivaruntejamudumba/Python-Scripts/blob/master/Suji_wal2.ipynb\" target=\"_parent\"><img src=\"https://colab.research.google.com/assets/colab-badge.svg\" alt=\"Open In Colab\"/></a>"
      ]
    },
    {
      "cell_type": "code",
      "metadata": {
        "id": "y47jnmgGpjxs",
        "colab_type": "code",
        "colab": {
          "base_uri": "https://localhost:8080/",
          "height": 101
        },
        "outputId": "a45455ca-f313-4df7-f689-f511b65d3b34"
      },
      "source": [
        "import math\n",
        "i=0\n",
        "T=int(input(\"Enter T value\\n\"))\n",
        "while(i < T):\n",
        "  n=int(input(\"Enter N value\\n\"))\n",
        "  suml=[]\n",
        "  min=0\n",
        "  # Iterating x from 1 to n \n",
        "  for x in range(1, n): \n",
        "    l1=[]  \n",
        "    for c in range(1,n-x):\n",
        "      if(c<(n-x) and (c>=(n/x))):\n",
        "        l1.append(c)\n",
        "        if(l1!=[]):\n",
        "          for items in l1:\n",
        "            suml.append((x+items))\n",
        "  min=suml[0]\n",
        "  for s in suml:\n",
        "    \n",
        "    \n",
        "    if s < min:\n",
        "      min=s\n",
        "  print(min)\n",
        "  i=i+1\n"
      ],
      "execution_count": 98,
      "outputs": [
        {
          "output_type": "stream",
          "text": [
            "Enter T value\n",
            "1\n",
            "Enter N value\n",
            "15\n",
            "8\n"
          ],
          "name": "stdout"
        }
      ]
    },
    {
      "cell_type": "code",
      "metadata": {
        "id": "whL0GFlN2vAe",
        "colab_type": "code",
        "colab": {}
      },
      "source": [
        ""
      ],
      "execution_count": 0,
      "outputs": []
    }
  ]
}