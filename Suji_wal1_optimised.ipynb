{
  "nbformat": 4,
  "nbformat_minor": 0,
  "metadata": {
    "colab": {
      "name": "Suji wal1 optimised.ipynb",
      "version": "0.3.2",
      "provenance": [],
      "collapsed_sections": [],
      "include_colab_link": true
    },
    "kernelspec": {
      "name": "python3",
      "display_name": "Python 3"
    }
  },
  "cells": [
    {
      "cell_type": "markdown",
      "metadata": {
        "id": "view-in-github",
        "colab_type": "text"
      },
      "source": [
        "<a href=\"https://colab.research.google.com/github/saivaruntejamudumba/Python-Scripts/blob/master/Suji_wal1_optimised.ipynb\" target=\"_parent\"><img src=\"https://colab.research.google.com/assets/colab-badge.svg\" alt=\"Open In Colab\"/></a>"
      ]
    },
    {
      "cell_type": "code",
      "metadata": {
        "id": "kkUF-SfRQul6",
        "colab_type": "code",
        "colab": {
          "base_uri": "https://localhost:8080/",
          "height": 67
        },
        "outputId": "845e1fa1-5ea4-4812-b9fa-e3b11059bc7e"
      },
      "source": [
        "def fib(n): \n",
        "    F = [[1, 1], \n",
        "         [1, 0]] \n",
        "    if (n == 0): \n",
        "        return 0\n",
        "    power(F, n - 1) \n",
        "      \n",
        "    return F[0][0] \n",
        "  \n",
        "def multiply(F, M): \n",
        "  \n",
        "    x = (F[0][0] * M[0][0] + \n",
        "         F[0][1] * M[1][0]) \n",
        "    y = (F[0][0] * M[0][1] +\n",
        "         F[0][1] * M[1][1]) \n",
        "    z = (F[1][0] * M[0][0] + \n",
        "         F[1][1] * M[1][0]) \n",
        "    w = (F[1][0] * M[0][1] + \n",
        "         F[1][1] * M[1][1]) \n",
        "      \n",
        "    F[0][0] = x \n",
        "    F[0][1] = y \n",
        "    F[1][0] = z \n",
        "    F[1][1] = w \n",
        "  \n",
        "def power(F, n): \n",
        "  \n",
        "    M = [[1, 1], \n",
        "         [1, 0]] \n",
        "   \n",
        "    for i in range(2, n + 1): \n",
        "        multiply(F, M) \n",
        "def f(N):\n",
        "  for i in range(N+2):\n",
        "    num=fib(i)\n",
        "    if(num>=N):\n",
        "      return num\n",
        "      break\n",
        "# Driver Code \n",
        "if __name__ == \"__main__\": \n",
        "     \n",
        "    L, R =input(\"Enter values of L and R\\n\").split(\" \")\n",
        "    L=int(L)\n",
        "    R=int(R)\n",
        "    sum=0\n",
        "    for x in range(L,R+1):\n",
        "      sum=sum+f(x)\n",
        "    print(sum)  \n"
      ],
      "execution_count": 14,
      "outputs": [
        {
          "output_type": "stream",
          "text": [
            "Enter values of L and R\n",
            "2 5\n",
            "15\n"
          ],
          "name": "stdout"
        }
      ]
    },
    {
      "cell_type": "code",
      "metadata": {
        "id": "UozznbHZVY0B",
        "colab_type": "code",
        "colab": {}
      },
      "source": [
        ""
      ],
      "execution_count": 0,
      "outputs": []
    }
  ]
}