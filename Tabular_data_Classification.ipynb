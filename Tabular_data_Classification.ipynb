{
  "nbformat": 4,
  "nbformat_minor": 0,
  "metadata": {
    "colab": {
      "name": "Tabular_data_Classification.ipynb",
      "version": "0.3.2",
      "provenance": [],
      "collapsed_sections": []
    },
    "kernelspec": {
      "name": "python3",
      "display_name": "Python 3"
    },
    "accelerator": "GPU"
  },
  "cells": [
    {
      "metadata": {
        "id": "QXeBu4oZpo6l",
        "colab_type": "code",
        "outputId": "a5c6d569-7d4e-4efe-c575-dda425bf4ebb",
        "colab": {
          "base_uri": "https://localhost:8080/",
          "height": 204
        }
      },
      "cell_type": "code",
      "source": [
        "!wget \"https://raw.githubusercontent.com/wshuyi/demo-customer-churn-ann/master/customer_churn.csv\""
      ],
      "execution_count": 421,
      "outputs": [
        {
          "output_type": "stream",
          "text": [
            "--2019-04-22 20:43:13--  https://raw.githubusercontent.com/wshuyi/demo-customer-churn-ann/master/customer_churn.csv\n",
            "Resolving raw.githubusercontent.com (raw.githubusercontent.com)... 151.101.0.133, 151.101.64.133, 151.101.128.133, ...\n",
            "Connecting to raw.githubusercontent.com (raw.githubusercontent.com)|151.101.0.133|:443... connected.\n",
            "HTTP request sent, awaiting response... 200 OK\n",
            "Length: 684858 (669K) [text/plain]\n",
            "Saving to: ‘customer_churn.csv.4’\n",
            "\n",
            "\rcustomer_churn.csv.   0%[                    ]       0  --.-KB/s               \rcustomer_churn.csv. 100%[===================>] 668.81K  --.-KB/s    in 0.05s   \n",
            "\n",
            "2019-04-22 20:43:13 (12.4 MB/s) - ‘customer_churn.csv.4’ saved [684858/684858]\n",
            "\n"
          ],
          "name": "stdout"
        }
      ]
    },
    {
      "metadata": {
        "id": "j9HgqsIIp-8J",
        "colab_type": "code",
        "colab": {}
      },
      "cell_type": "code",
      "source": [
        "import pandas as pd\n",
        "df=pd.read_csv('customer_churn.csv')"
      ],
      "execution_count": 0,
      "outputs": []
    },
    {
      "metadata": {
        "id": "F7JFffnWrZfw",
        "colab_type": "code",
        "outputId": "032a3f69-091c-4b84-a840-ee2accdc922d",
        "colab": {
          "base_uri": "https://localhost:8080/",
          "height": 204
        }
      },
      "cell_type": "code",
      "source": [
        "df.head()"
      ],
      "execution_count": 479,
      "outputs": [
        {
          "output_type": "execute_result",
          "data": {
            "text/html": [
              "<div>\n",
              "<style scoped>\n",
              "    .dataframe tbody tr th:only-of-type {\n",
              "        vertical-align: middle;\n",
              "    }\n",
              "\n",
              "    .dataframe tbody tr th {\n",
              "        vertical-align: top;\n",
              "    }\n",
              "\n",
              "    .dataframe thead th {\n",
              "        text-align: right;\n",
              "    }\n",
              "</style>\n",
              "<table border=\"1\" class=\"dataframe\">\n",
              "  <thead>\n",
              "    <tr style=\"text-align: right;\">\n",
              "      <th></th>\n",
              "      <th>RowNumber</th>\n",
              "      <th>CustomerId</th>\n",
              "      <th>Surname</th>\n",
              "      <th>CreditScore</th>\n",
              "      <th>Geography</th>\n",
              "      <th>Gender</th>\n",
              "      <th>Age</th>\n",
              "      <th>Tenure</th>\n",
              "      <th>Balance</th>\n",
              "      <th>NumOfProducts</th>\n",
              "      <th>HasCrCard</th>\n",
              "      <th>IsActiveMember</th>\n",
              "      <th>EstimatedSalary</th>\n",
              "      <th>Exited</th>\n",
              "    </tr>\n",
              "  </thead>\n",
              "  <tbody>\n",
              "    <tr>\n",
              "      <th>0</th>\n",
              "      <td>1</td>\n",
              "      <td>15634602</td>\n",
              "      <td>Hargrave</td>\n",
              "      <td>619</td>\n",
              "      <td>France</td>\n",
              "      <td>Female</td>\n",
              "      <td>42</td>\n",
              "      <td>2</td>\n",
              "      <td>0.00</td>\n",
              "      <td>1</td>\n",
              "      <td>1</td>\n",
              "      <td>1</td>\n",
              "      <td>101348.88</td>\n",
              "      <td>1</td>\n",
              "    </tr>\n",
              "    <tr>\n",
              "      <th>1</th>\n",
              "      <td>2</td>\n",
              "      <td>15647311</td>\n",
              "      <td>Hill</td>\n",
              "      <td>608</td>\n",
              "      <td>Spain</td>\n",
              "      <td>Female</td>\n",
              "      <td>41</td>\n",
              "      <td>1</td>\n",
              "      <td>83807.86</td>\n",
              "      <td>1</td>\n",
              "      <td>0</td>\n",
              "      <td>1</td>\n",
              "      <td>112542.58</td>\n",
              "      <td>0</td>\n",
              "    </tr>\n",
              "    <tr>\n",
              "      <th>2</th>\n",
              "      <td>3</td>\n",
              "      <td>15619304</td>\n",
              "      <td>Onio</td>\n",
              "      <td>502</td>\n",
              "      <td>France</td>\n",
              "      <td>Female</td>\n",
              "      <td>42</td>\n",
              "      <td>8</td>\n",
              "      <td>159660.80</td>\n",
              "      <td>3</td>\n",
              "      <td>1</td>\n",
              "      <td>0</td>\n",
              "      <td>113931.57</td>\n",
              "      <td>1</td>\n",
              "    </tr>\n",
              "    <tr>\n",
              "      <th>3</th>\n",
              "      <td>4</td>\n",
              "      <td>15701354</td>\n",
              "      <td>Boni</td>\n",
              "      <td>699</td>\n",
              "      <td>France</td>\n",
              "      <td>Female</td>\n",
              "      <td>39</td>\n",
              "      <td>1</td>\n",
              "      <td>0.00</td>\n",
              "      <td>2</td>\n",
              "      <td>0</td>\n",
              "      <td>0</td>\n",
              "      <td>93826.63</td>\n",
              "      <td>0</td>\n",
              "    </tr>\n",
              "    <tr>\n",
              "      <th>4</th>\n",
              "      <td>5</td>\n",
              "      <td>15737888</td>\n",
              "      <td>Mitchell</td>\n",
              "      <td>850</td>\n",
              "      <td>Spain</td>\n",
              "      <td>Female</td>\n",
              "      <td>43</td>\n",
              "      <td>2</td>\n",
              "      <td>125510.82</td>\n",
              "      <td>1</td>\n",
              "      <td>1</td>\n",
              "      <td>1</td>\n",
              "      <td>79084.10</td>\n",
              "      <td>0</td>\n",
              "    </tr>\n",
              "  </tbody>\n",
              "</table>\n",
              "</div>"
            ],
            "text/plain": [
              "   RowNumber  CustomerId   Surname  CreditScore Geography  Gender  Age  \\\n",
              "0          1    15634602  Hargrave          619    France  Female   42   \n",
              "1          2    15647311      Hill          608     Spain  Female   41   \n",
              "2          3    15619304      Onio          502    France  Female   42   \n",
              "3          4    15701354      Boni          699    France  Female   39   \n",
              "4          5    15737888  Mitchell          850     Spain  Female   43   \n",
              "\n",
              "   Tenure    Balance  NumOfProducts  HasCrCard  IsActiveMember  \\\n",
              "0       2       0.00              1          1               1   \n",
              "1       1   83807.86              1          0               1   \n",
              "2       8  159660.80              3          1               0   \n",
              "3       1       0.00              2          0               0   \n",
              "4       2  125510.82              1          1               1   \n",
              "\n",
              "   EstimatedSalary  Exited  \n",
              "0        101348.88       1  \n",
              "1        112542.58       0  \n",
              "2        113931.57       1  \n",
              "3         93826.63       0  \n",
              "4         79084.10       0  "
            ]
          },
          "metadata": {
            "tags": []
          },
          "execution_count": 479
        }
      ]
    },
    {
      "metadata": {
        "id": "RvZ-gZuvrdto",
        "colab_type": "code",
        "outputId": "72728edb-a6ce-4c66-d49e-ce8ec739da7b",
        "colab": {
          "base_uri": "https://localhost:8080/",
          "height": 340
        }
      },
      "cell_type": "code",
      "source": [
        "df.info()"
      ],
      "execution_count": 480,
      "outputs": [
        {
          "output_type": "stream",
          "text": [
            "<class 'pandas.core.frame.DataFrame'>\n",
            "RangeIndex: 10000 entries, 0 to 9999\n",
            "Data columns (total 14 columns):\n",
            "RowNumber          10000 non-null int64\n",
            "CustomerId         10000 non-null int64\n",
            "Surname            10000 non-null object\n",
            "CreditScore        10000 non-null int64\n",
            "Geography          10000 non-null object\n",
            "Gender             10000 non-null object\n",
            "Age                10000 non-null int64\n",
            "Tenure             10000 non-null int64\n",
            "Balance            10000 non-null float64\n",
            "NumOfProducts      10000 non-null int64\n",
            "HasCrCard          10000 non-null int64\n",
            "IsActiveMember     10000 non-null int64\n",
            "EstimatedSalary    10000 non-null float64\n",
            "Exited             10000 non-null int64\n",
            "dtypes: float64(2), int64(9), object(3)\n",
            "memory usage: 1.1+ MB\n"
          ],
          "name": "stdout"
        }
      ]
    },
    {
      "metadata": {
        "id": "iH0rh1ePrnDB",
        "colab_type": "code",
        "outputId": "44f75891-b8ba-4a32-c1c4-5c2b523a6897",
        "colab": {
          "base_uri": "https://localhost:8080/",
          "height": 297
        }
      },
      "cell_type": "code",
      "source": [
        "df.describe()"
      ],
      "execution_count": 481,
      "outputs": [
        {
          "output_type": "execute_result",
          "data": {
            "text/html": [
              "<div>\n",
              "<style scoped>\n",
              "    .dataframe tbody tr th:only-of-type {\n",
              "        vertical-align: middle;\n",
              "    }\n",
              "\n",
              "    .dataframe tbody tr th {\n",
              "        vertical-align: top;\n",
              "    }\n",
              "\n",
              "    .dataframe thead th {\n",
              "        text-align: right;\n",
              "    }\n",
              "</style>\n",
              "<table border=\"1\" class=\"dataframe\">\n",
              "  <thead>\n",
              "    <tr style=\"text-align: right;\">\n",
              "      <th></th>\n",
              "      <th>RowNumber</th>\n",
              "      <th>CustomerId</th>\n",
              "      <th>CreditScore</th>\n",
              "      <th>Age</th>\n",
              "      <th>Tenure</th>\n",
              "      <th>Balance</th>\n",
              "      <th>NumOfProducts</th>\n",
              "      <th>HasCrCard</th>\n",
              "      <th>IsActiveMember</th>\n",
              "      <th>EstimatedSalary</th>\n",
              "      <th>Exited</th>\n",
              "    </tr>\n",
              "  </thead>\n",
              "  <tbody>\n",
              "    <tr>\n",
              "      <th>count</th>\n",
              "      <td>10000.00000</td>\n",
              "      <td>1.000000e+04</td>\n",
              "      <td>10000.000000</td>\n",
              "      <td>10000.000000</td>\n",
              "      <td>10000.000000</td>\n",
              "      <td>10000.000000</td>\n",
              "      <td>10000.000000</td>\n",
              "      <td>10000.00000</td>\n",
              "      <td>10000.000000</td>\n",
              "      <td>10000.000000</td>\n",
              "      <td>10000.000000</td>\n",
              "    </tr>\n",
              "    <tr>\n",
              "      <th>mean</th>\n",
              "      <td>5000.50000</td>\n",
              "      <td>1.569094e+07</td>\n",
              "      <td>650.528800</td>\n",
              "      <td>38.921800</td>\n",
              "      <td>5.012800</td>\n",
              "      <td>76485.889288</td>\n",
              "      <td>1.530200</td>\n",
              "      <td>0.70550</td>\n",
              "      <td>0.515100</td>\n",
              "      <td>100090.239881</td>\n",
              "      <td>0.203700</td>\n",
              "    </tr>\n",
              "    <tr>\n",
              "      <th>std</th>\n",
              "      <td>2886.89568</td>\n",
              "      <td>7.193619e+04</td>\n",
              "      <td>96.653299</td>\n",
              "      <td>10.487806</td>\n",
              "      <td>2.892174</td>\n",
              "      <td>62397.405202</td>\n",
              "      <td>0.581654</td>\n",
              "      <td>0.45584</td>\n",
              "      <td>0.499797</td>\n",
              "      <td>57510.492818</td>\n",
              "      <td>0.402769</td>\n",
              "    </tr>\n",
              "    <tr>\n",
              "      <th>min</th>\n",
              "      <td>1.00000</td>\n",
              "      <td>1.556570e+07</td>\n",
              "      <td>350.000000</td>\n",
              "      <td>18.000000</td>\n",
              "      <td>0.000000</td>\n",
              "      <td>0.000000</td>\n",
              "      <td>1.000000</td>\n",
              "      <td>0.00000</td>\n",
              "      <td>0.000000</td>\n",
              "      <td>11.580000</td>\n",
              "      <td>0.000000</td>\n",
              "    </tr>\n",
              "    <tr>\n",
              "      <th>25%</th>\n",
              "      <td>2500.75000</td>\n",
              "      <td>1.562853e+07</td>\n",
              "      <td>584.000000</td>\n",
              "      <td>32.000000</td>\n",
              "      <td>3.000000</td>\n",
              "      <td>0.000000</td>\n",
              "      <td>1.000000</td>\n",
              "      <td>0.00000</td>\n",
              "      <td>0.000000</td>\n",
              "      <td>51002.110000</td>\n",
              "      <td>0.000000</td>\n",
              "    </tr>\n",
              "    <tr>\n",
              "      <th>50%</th>\n",
              "      <td>5000.50000</td>\n",
              "      <td>1.569074e+07</td>\n",
              "      <td>652.000000</td>\n",
              "      <td>37.000000</td>\n",
              "      <td>5.000000</td>\n",
              "      <td>97198.540000</td>\n",
              "      <td>1.000000</td>\n",
              "      <td>1.00000</td>\n",
              "      <td>1.000000</td>\n",
              "      <td>100193.915000</td>\n",
              "      <td>0.000000</td>\n",
              "    </tr>\n",
              "    <tr>\n",
              "      <th>75%</th>\n",
              "      <td>7500.25000</td>\n",
              "      <td>1.575323e+07</td>\n",
              "      <td>718.000000</td>\n",
              "      <td>44.000000</td>\n",
              "      <td>7.000000</td>\n",
              "      <td>127644.240000</td>\n",
              "      <td>2.000000</td>\n",
              "      <td>1.00000</td>\n",
              "      <td>1.000000</td>\n",
              "      <td>149388.247500</td>\n",
              "      <td>0.000000</td>\n",
              "    </tr>\n",
              "    <tr>\n",
              "      <th>max</th>\n",
              "      <td>10000.00000</td>\n",
              "      <td>1.581569e+07</td>\n",
              "      <td>850.000000</td>\n",
              "      <td>92.000000</td>\n",
              "      <td>10.000000</td>\n",
              "      <td>250898.090000</td>\n",
              "      <td>4.000000</td>\n",
              "      <td>1.00000</td>\n",
              "      <td>1.000000</td>\n",
              "      <td>199992.480000</td>\n",
              "      <td>1.000000</td>\n",
              "    </tr>\n",
              "  </tbody>\n",
              "</table>\n",
              "</div>"
            ],
            "text/plain": [
              "         RowNumber    CustomerId   CreditScore           Age        Tenure  \\\n",
              "count  10000.00000  1.000000e+04  10000.000000  10000.000000  10000.000000   \n",
              "mean    5000.50000  1.569094e+07    650.528800     38.921800      5.012800   \n",
              "std     2886.89568  7.193619e+04     96.653299     10.487806      2.892174   \n",
              "min        1.00000  1.556570e+07    350.000000     18.000000      0.000000   \n",
              "25%     2500.75000  1.562853e+07    584.000000     32.000000      3.000000   \n",
              "50%     5000.50000  1.569074e+07    652.000000     37.000000      5.000000   \n",
              "75%     7500.25000  1.575323e+07    718.000000     44.000000      7.000000   \n",
              "max    10000.00000  1.581569e+07    850.000000     92.000000     10.000000   \n",
              "\n",
              "             Balance  NumOfProducts    HasCrCard  IsActiveMember  \\\n",
              "count   10000.000000   10000.000000  10000.00000    10000.000000   \n",
              "mean    76485.889288       1.530200      0.70550        0.515100   \n",
              "std     62397.405202       0.581654      0.45584        0.499797   \n",
              "min         0.000000       1.000000      0.00000        0.000000   \n",
              "25%         0.000000       1.000000      0.00000        0.000000   \n",
              "50%     97198.540000       1.000000      1.00000        1.000000   \n",
              "75%    127644.240000       2.000000      1.00000        1.000000   \n",
              "max    250898.090000       4.000000      1.00000        1.000000   \n",
              "\n",
              "       EstimatedSalary        Exited  \n",
              "count     10000.000000  10000.000000  \n",
              "mean     100090.239881      0.203700  \n",
              "std       57510.492818      0.402769  \n",
              "min          11.580000      0.000000  \n",
              "25%       51002.110000      0.000000  \n",
              "50%      100193.915000      0.000000  \n",
              "75%      149388.247500      0.000000  \n",
              "max      199992.480000      1.000000  "
            ]
          },
          "metadata": {
            "tags": []
          },
          "execution_count": 481
        }
      ]
    },
    {
      "metadata": {
        "id": "uZq9iYFiqAT9",
        "colab_type": "code",
        "colab": {}
      },
      "cell_type": "code",
      "source": [
        "import numpy as np"
      ],
      "execution_count": 0,
      "outputs": []
    },
    {
      "metadata": {
        "id": "xx7PhR7zqAW2",
        "colab_type": "code",
        "colab": {
          "base_uri": "https://localhost:8080/",
          "height": 34
        },
        "outputId": "43ba52e1-920d-41f9-faad-22f8709aa870"
      },
      "cell_type": "code",
      "source": [
        "len(df)"
      ],
      "execution_count": 483,
      "outputs": [
        {
          "output_type": "execute_result",
          "data": {
            "text/plain": [
              "10000"
            ]
          },
          "metadata": {
            "tags": []
          },
          "execution_count": 483
        }
      ]
    },
    {
      "metadata": {
        "id": "CSfbBf69qFug",
        "colab_type": "code",
        "colab": {
          "base_uri": "https://localhost:8080/",
          "height": 34
        },
        "outputId": "5649c826-10ef-4d8e-fab6-ab690d0b2446"
      },
      "cell_type": "code",
      "source": [
        "df['Exited'].sum()"
      ],
      "execution_count": 484,
      "outputs": [
        {
          "output_type": "execute_result",
          "data": {
            "text/plain": [
              "2037"
            ]
          },
          "metadata": {
            "tags": []
          },
          "execution_count": 484
        }
      ]
    },
    {
      "metadata": {
        "id": "01Nmm-xqqFw3",
        "colab_type": "code",
        "colab": {
          "base_uri": "https://localhost:8080/",
          "height": 34
        },
        "outputId": "e38fdde7-ca22-47ac-88a8-a6f0133c1d47"
      },
      "cell_type": "code",
      "source": [
        "len(df[df['Exited'] == 1])"
      ],
      "execution_count": 485,
      "outputs": [
        {
          "output_type": "execute_result",
          "data": {
            "text/plain": [
              "2037"
            ]
          },
          "metadata": {
            "tags": []
          },
          "execution_count": 485
        }
      ]
    },
    {
      "metadata": {
        "id": "9hwzbQy0qLMW",
        "colab_type": "code",
        "colab": {
          "base_uri": "https://localhost:8080/",
          "height": 34
        },
        "outputId": "beee8845-8531-48c6-e4bd-a8a554d63908"
      },
      "cell_type": "code",
      "source": [
        "len(df[df['Exited'] == 0])"
      ],
      "execution_count": 486,
      "outputs": [
        {
          "output_type": "execute_result",
          "data": {
            "text/plain": [
              "7963"
            ]
          },
          "metadata": {
            "tags": []
          },
          "execution_count": 486
        }
      ]
    },
    {
      "metadata": {
        "id": "G33fkoIVsKVs",
        "colab_type": "code",
        "colab": {
          "base_uri": "https://localhost:8080/",
          "height": 68
        },
        "outputId": "79e5d7e8-efb4-4c5f-e363-805205a902aa"
      },
      "cell_type": "code",
      "source": [
        "df['Exited'].value_counts()"
      ],
      "execution_count": 487,
      "outputs": [
        {
          "output_type": "execute_result",
          "data": {
            "text/plain": [
              "0    7963\n",
              "1    2037\n",
              "Name: Exited, dtype: int64"
            ]
          },
          "metadata": {
            "tags": []
          },
          "execution_count": 487
        }
      ]
    },
    {
      "metadata": {
        "id": "VbAbGGSzsKYK",
        "colab_type": "code",
        "colab": {
          "base_uri": "https://localhost:8080/",
          "height": 282
        },
        "outputId": "73b776eb-0efe-40df-c8cb-105c1e8fc2ca"
      },
      "cell_type": "code",
      "source": [
        "df['Exited'].value_counts().plot(kind='bar')"
      ],
      "execution_count": 488,
      "outputs": [
        {
          "output_type": "execute_result",
          "data": {
            "text/plain": [
              "<matplotlib.axes._subplots.AxesSubplot at 0x7fd1977ea518>"
            ]
          },
          "metadata": {
            "tags": []
          },
          "execution_count": 488
        },
        {
          "output_type": "display_data",
          "data": {
            "image/png": "[encoded data removed]",
            "text/plain": [
              "<Figure size 432x288 with 1 Axes>"
            ]
          },
          "metadata": {
            "tags": []
          }
        }
      ]
    },
    {
      "metadata": {
        "id": "66nILggwzq63",
        "colab_type": "text"
      },
      "cell_type": "markdown",
      "source": [
        "### Since we have unequal samples for Exited 0 and Exited 1 the model results in a Dummy one with same values for accuracy and loss for every Epoch. So, in order to correct it, we sample the dataframe with equal number of samples for Exited 0 and Exited 1"
      ]
    },
    {
      "metadata": {
        "id": "AshiETF5sqsL",
        "colab_type": "code",
        "colab": {
          "base_uri": "https://localhost:8080/",
          "height": 34
        },
        "outputId": "198718f3-cb81-4349-e072-6f8b4487b9fd"
      },
      "cell_type": "code",
      "source": [
        "count_class_0, count_class_1 = df.Exited.value_counts()\n",
        "count_class_0"
      ],
      "execution_count": 489,
      "outputs": [
        {
          "output_type": "execute_result",
          "data": {
            "text/plain": [
              "7963"
            ]
          },
          "metadata": {
            "tags": []
          },
          "execution_count": 489
        }
      ]
    },
    {
      "metadata": {
        "id": "iZBXgMCOsqux",
        "colab_type": "code",
        "colab": {}
      },
      "cell_type": "code",
      "source": [
        "dfe0=df[df['Exited'] == 0]"
      ],
      "execution_count": 0,
      "outputs": []
    },
    {
      "metadata": {
        "id": "xGDmEWl4t6eq",
        "colab_type": "code",
        "colab": {}
      },
      "cell_type": "code",
      "source": [
        "dfe1=df[df['Exited'] == 1]"
      ],
      "execution_count": 0,
      "outputs": []
    },
    {
      "metadata": {
        "id": "YFp5of4Ut6jy",
        "colab_type": "code",
        "colab": {
          "base_uri": "https://localhost:8080/",
          "height": 204
        },
        "outputId": "55c3710e-fc31-4ef7-a1f1-b36427e092aa"
      },
      "cell_type": "code",
      "source": [
        "dfe0.head()"
      ],
      "execution_count": 492,
      "outputs": [
        {
          "output_type": "execute_result",
          "data": {
            "text/html": [
              "<div>\n",
              "<style scoped>\n",
              "    .dataframe tbody tr th:only-of-type {\n",
              "        vertical-align: middle;\n",
              "    }\n",
              "\n",
              "    .dataframe tbody tr th {\n",
              "        vertical-align: top;\n",
              "    }\n",
              "\n",
              "    .dataframe thead th {\n",
              "        text-align: right;\n",
              "    }\n",
              "</style>\n",
              "<table border=\"1\" class=\"dataframe\">\n",
              "  <thead>\n",
              "    <tr style=\"text-align: right;\">\n",
              "      <th></th>\n",
              "      <th>RowNumber</th>\n",
              "      <th>CustomerId</th>\n",
              "      <th>Surname</th>\n",
              "      <th>CreditScore</th>\n",
              "      <th>Geography</th>\n",
              "      <th>Gender</th>\n",
              "      <th>Age</th>\n",
              "      <th>Tenure</th>\n",
              "      <th>Balance</th>\n",
              "      <th>NumOfProducts</th>\n",
              "      <th>HasCrCard</th>\n",
              "      <th>IsActiveMember</th>\n",
              "      <th>EstimatedSalary</th>\n",
              "      <th>Exited</th>\n",
              "    </tr>\n",
              "  </thead>\n",
              "  <tbody>\n",
              "    <tr>\n",
              "      <th>1</th>\n",
              "      <td>2</td>\n",
              "      <td>15647311</td>\n",
              "      <td>Hill</td>\n",
              "      <td>608</td>\n",
              "      <td>Spain</td>\n",
              "      <td>Female</td>\n",
              "      <td>41</td>\n",
              "      <td>1</td>\n",
              "      <td>83807.86</td>\n",
              "      <td>1</td>\n",
              "      <td>0</td>\n",
              "      <td>1</td>\n",
              "      <td>112542.58</td>\n",
              "      <td>0</td>\n",
              "    </tr>\n",
              "    <tr>\n",
              "      <th>3</th>\n",
              "      <td>4</td>\n",
              "      <td>15701354</td>\n",
              "      <td>Boni</td>\n",
              "      <td>699</td>\n",
              "      <td>France</td>\n",
              "      <td>Female</td>\n",
              "      <td>39</td>\n",
              "      <td>1</td>\n",
              "      <td>0.00</td>\n",
              "      <td>2</td>\n",
              "      <td>0</td>\n",
              "      <td>0</td>\n",
              "      <td>93826.63</td>\n",
              "      <td>0</td>\n",
              "    </tr>\n",
              "    <tr>\n",
              "      <th>4</th>\n",
              "      <td>5</td>\n",
              "      <td>15737888</td>\n",
              "      <td>Mitchell</td>\n",
              "      <td>850</td>\n",
              "      <td>Spain</td>\n",
              "      <td>Female</td>\n",
              "      <td>43</td>\n",
              "      <td>2</td>\n",
              "      <td>125510.82</td>\n",
              "      <td>1</td>\n",
              "      <td>1</td>\n",
              "      <td>1</td>\n",
              "      <td>79084.10</td>\n",
              "      <td>0</td>\n",
              "    </tr>\n",
              "    <tr>\n",
              "      <th>6</th>\n",
              "      <td>7</td>\n",
              "      <td>15592531</td>\n",
              "      <td>Bartlett</td>\n",
              "      <td>822</td>\n",
              "      <td>France</td>\n",
              "      <td>Male</td>\n",
              "      <td>50</td>\n",
              "      <td>7</td>\n",
              "      <td>0.00</td>\n",
              "      <td>2</td>\n",
              "      <td>1</td>\n",
              "      <td>1</td>\n",
              "      <td>10062.80</td>\n",
              "      <td>0</td>\n",
              "    </tr>\n",
              "    <tr>\n",
              "      <th>8</th>\n",
              "      <td>9</td>\n",
              "      <td>15792365</td>\n",
              "      <td>He</td>\n",
              "      <td>501</td>\n",
              "      <td>France</td>\n",
              "      <td>Male</td>\n",
              "      <td>44</td>\n",
              "      <td>4</td>\n",
              "      <td>142051.07</td>\n",
              "      <td>2</td>\n",
              "      <td>0</td>\n",
              "      <td>1</td>\n",
              "      <td>74940.50</td>\n",
              "      <td>0</td>\n",
              "    </tr>\n",
              "  </tbody>\n",
              "</table>\n",
              "</div>"
            ],
            "text/plain": [
              "   RowNumber  CustomerId   Surname  CreditScore Geography  Gender  Age  \\\n",
              "1          2    15647311      Hill          608     Spain  Female   41   \n",
              "3          4    15701354      Boni          699    France  Female   39   \n",
              "4          5    15737888  Mitchell          850     Spain  Female   43   \n",
              "6          7    15592531  Bartlett          822    France    Male   50   \n",
              "8          9    15792365        He          501    France    Male   44   \n",
              "\n",
              "   Tenure    Balance  NumOfProducts  HasCrCard  IsActiveMember  \\\n",
              "1       1   83807.86              1          0               1   \n",
              "3       1       0.00              2          0               0   \n",
              "4       2  125510.82              1          1               1   \n",
              "6       7       0.00              2          1               1   \n",
              "8       4  142051.07              2          0               1   \n",
              "\n",
              "   EstimatedSalary  Exited  \n",
              "1        112542.58       0  \n",
              "3         93826.63       0  \n",
              "4         79084.10       0  \n",
              "6         10062.80       0  \n",
              "8         74940.50       0  "
            ]
          },
          "metadata": {
            "tags": []
          },
          "execution_count": 492
        }
      ]
    },
    {
      "metadata": {
        "id": "AIClPwA5t6mi",
        "colab_type": "code",
        "colab": {
          "base_uri": "https://localhost:8080/",
          "height": 204
        },
        "outputId": "51b972a8-9f7d-4df2-b5d5-bcdba40cdfd8"
      },
      "cell_type": "code",
      "source": [
        "dfe1.head()"
      ],
      "execution_count": 493,
      "outputs": [
        {
          "output_type": "execute_result",
          "data": {
            "text/html": [
              "<div>\n",
              "<style scoped>\n",
              "    .dataframe tbody tr th:only-of-type {\n",
              "        vertical-align: middle;\n",
              "    }\n",
              "\n",
              "    .dataframe tbody tr th {\n",
              "        vertical-align: top;\n",
              "    }\n",
              "\n",
              "    .dataframe thead th {\n",
              "        text-align: right;\n",
              "    }\n",
              "</style>\n",
              "<table border=\"1\" class=\"dataframe\">\n",
              "  <thead>\n",
              "    <tr style=\"text-align: right;\">\n",
              "      <th></th>\n",
              "      <th>RowNumber</th>\n",
              "      <th>CustomerId</th>\n",
              "      <th>Surname</th>\n",
              "      <th>CreditScore</th>\n",
              "      <th>Geography</th>\n",
              "      <th>Gender</th>\n",
              "      <th>Age</th>\n",
              "      <th>Tenure</th>\n",
              "      <th>Balance</th>\n",
              "      <th>NumOfProducts</th>\n",
              "      <th>HasCrCard</th>\n",
              "      <th>IsActiveMember</th>\n",
              "      <th>EstimatedSalary</th>\n",
              "      <th>Exited</th>\n",
              "    </tr>\n",
              "  </thead>\n",
              "  <tbody>\n",
              "    <tr>\n",
              "      <th>0</th>\n",
              "      <td>1</td>\n",
              "      <td>15634602</td>\n",
              "      <td>Hargrave</td>\n",
              "      <td>619</td>\n",
              "      <td>France</td>\n",
              "      <td>Female</td>\n",
              "      <td>42</td>\n",
              "      <td>2</td>\n",
              "      <td>0.00</td>\n",
              "      <td>1</td>\n",
              "      <td>1</td>\n",
              "      <td>1</td>\n",
              "      <td>101348.88</td>\n",
              "      <td>1</td>\n",
              "    </tr>\n",
              "    <tr>\n",
              "      <th>2</th>\n",
              "      <td>3</td>\n",
              "      <td>15619304</td>\n",
              "      <td>Onio</td>\n",
              "      <td>502</td>\n",
              "      <td>France</td>\n",
              "      <td>Female</td>\n",
              "      <td>42</td>\n",
              "      <td>8</td>\n",
              "      <td>159660.80</td>\n",
              "      <td>3</td>\n",
              "      <td>1</td>\n",
              "      <td>0</td>\n",
              "      <td>113931.57</td>\n",
              "      <td>1</td>\n",
              "    </tr>\n",
              "    <tr>\n",
              "      <th>5</th>\n",
              "      <td>6</td>\n",
              "      <td>15574012</td>\n",
              "      <td>Chu</td>\n",
              "      <td>645</td>\n",
              "      <td>Spain</td>\n",
              "      <td>Male</td>\n",
              "      <td>44</td>\n",
              "      <td>8</td>\n",
              "      <td>113755.78</td>\n",
              "      <td>2</td>\n",
              "      <td>1</td>\n",
              "      <td>0</td>\n",
              "      <td>149756.71</td>\n",
              "      <td>1</td>\n",
              "    </tr>\n",
              "    <tr>\n",
              "      <th>7</th>\n",
              "      <td>8</td>\n",
              "      <td>15656148</td>\n",
              "      <td>Obinna</td>\n",
              "      <td>376</td>\n",
              "      <td>Germany</td>\n",
              "      <td>Female</td>\n",
              "      <td>29</td>\n",
              "      <td>4</td>\n",
              "      <td>115046.74</td>\n",
              "      <td>4</td>\n",
              "      <td>1</td>\n",
              "      <td>0</td>\n",
              "      <td>119346.88</td>\n",
              "      <td>1</td>\n",
              "    </tr>\n",
              "    <tr>\n",
              "      <th>16</th>\n",
              "      <td>17</td>\n",
              "      <td>15737452</td>\n",
              "      <td>Romeo</td>\n",
              "      <td>653</td>\n",
              "      <td>Germany</td>\n",
              "      <td>Male</td>\n",
              "      <td>58</td>\n",
              "      <td>1</td>\n",
              "      <td>132602.88</td>\n",
              "      <td>1</td>\n",
              "      <td>1</td>\n",
              "      <td>0</td>\n",
              "      <td>5097.67</td>\n",
              "      <td>1</td>\n",
              "    </tr>\n",
              "  </tbody>\n",
              "</table>\n",
              "</div>"
            ],
            "text/plain": [
              "    RowNumber  CustomerId   Surname  CreditScore Geography  Gender  Age  \\\n",
              "0           1    15634602  Hargrave          619    France  Female   42   \n",
              "2           3    15619304      Onio          502    France  Female   42   \n",
              "5           6    15574012       Chu          645     Spain    Male   44   \n",
              "7           8    15656148    Obinna          376   Germany  Female   29   \n",
              "16         17    15737452     Romeo          653   Germany    Male   58   \n",
              "\n",
              "    Tenure    Balance  NumOfProducts  HasCrCard  IsActiveMember  \\\n",
              "0        2       0.00              1          1               1   \n",
              "2        8  159660.80              3          1               0   \n",
              "5        8  113755.78              2          1               0   \n",
              "7        4  115046.74              4          1               0   \n",
              "16       1  132602.88              1          1               0   \n",
              "\n",
              "    EstimatedSalary  Exited  \n",
              "0         101348.88       1  \n",
              "2         113931.57       1  \n",
              "5         149756.71       1  \n",
              "7         119346.88       1  \n",
              "16          5097.67       1  "
            ]
          },
          "metadata": {
            "tags": []
          },
          "execution_count": 493
        }
      ]
    },
    {
      "metadata": {
        "id": "7LwU-YryvDEL",
        "colab_type": "code",
        "colab": {}
      },
      "cell_type": "code",
      "source": [
        "exit1count=len(dfe1)"
      ],
      "execution_count": 0,
      "outputs": []
    },
    {
      "metadata": {
        "id": "nsQCTttnt6pH",
        "colab_type": "code",
        "colab": {
          "base_uri": "https://localhost:8080/",
          "height": 34
        },
        "outputId": "ee163e07-a469-4b76-d4eb-61a1b6edfa9a"
      },
      "cell_type": "code",
      "source": [
        "dfe0samp=dfe0.sample(n=exit1count)\n",
        "len(dfe0samp)"
      ],
      "execution_count": 495,
      "outputs": [
        {
          "output_type": "execute_result",
          "data": {
            "text/plain": [
              "2037"
            ]
          },
          "metadata": {
            "tags": []
          },
          "execution_count": 495
        }
      ]
    },
    {
      "metadata": {
        "id": "V1CecR-Jt6rS",
        "colab_type": "code",
        "colab": {
          "base_uri": "https://localhost:8080/",
          "height": 204
        },
        "outputId": "5091836e-2003-4240-8430-4351d7222374"
      },
      "cell_type": "code",
      "source": [
        "dfe0samp.head()"
      ],
      "execution_count": 496,
      "outputs": [
        {
          "output_type": "execute_result",
          "data": {
            "text/html": [
              "<div>\n",
              "<style scoped>\n",
              "    .dataframe tbody tr th:only-of-type {\n",
              "        vertical-align: middle;\n",
              "    }\n",
              "\n",
              "    .dataframe tbody tr th {\n",
              "        vertical-align: top;\n",
              "    }\n",
              "\n",
              "    .dataframe thead th {\n",
              "        text-align: right;\n",
              "    }\n",
              "</style>\n",
              "<table border=\"1\" class=\"dataframe\">\n",
              "  <thead>\n",
              "    <tr style=\"text-align: right;\">\n",
              "      <th></th>\n",
              "      <th>RowNumber</th>\n",
              "      <th>CustomerId</th>\n",
              "      <th>Surname</th>\n",
              "      <th>CreditScore</th>\n",
              "      <th>Geography</th>\n",
              "      <th>Gender</th>\n",
              "      <th>Age</th>\n",
              "      <th>Tenure</th>\n",
              "      <th>Balance</th>\n",
              "      <th>NumOfProducts</th>\n",
              "      <th>HasCrCard</th>\n",
              "      <th>IsActiveMember</th>\n",
              "      <th>EstimatedSalary</th>\n",
              "      <th>Exited</th>\n",
              "    </tr>\n",
              "  </thead>\n",
              "  <tbody>\n",
              "    <tr>\n",
              "      <th>6798</th>\n",
              "      <td>6799</td>\n",
              "      <td>15799925</td>\n",
              "      <td>Uwakwe</td>\n",
              "      <td>800</td>\n",
              "      <td>France</td>\n",
              "      <td>Male</td>\n",
              "      <td>60</td>\n",
              "      <td>6</td>\n",
              "      <td>88541.57</td>\n",
              "      <td>2</td>\n",
              "      <td>1</td>\n",
              "      <td>1</td>\n",
              "      <td>131718.12</td>\n",
              "      <td>0</td>\n",
              "    </tr>\n",
              "    <tr>\n",
              "      <th>7904</th>\n",
              "      <td>7905</td>\n",
              "      <td>15783338</td>\n",
              "      <td>Williams</td>\n",
              "      <td>449</td>\n",
              "      <td>Spain</td>\n",
              "      <td>Male</td>\n",
              "      <td>32</td>\n",
              "      <td>0</td>\n",
              "      <td>155619.36</td>\n",
              "      <td>1</td>\n",
              "      <td>1</td>\n",
              "      <td>1</td>\n",
              "      <td>166692.03</td>\n",
              "      <td>0</td>\n",
              "    </tr>\n",
              "    <tr>\n",
              "      <th>8063</th>\n",
              "      <td>8064</td>\n",
              "      <td>15663888</td>\n",
              "      <td>Connor</td>\n",
              "      <td>549</td>\n",
              "      <td>Germany</td>\n",
              "      <td>Male</td>\n",
              "      <td>34</td>\n",
              "      <td>6</td>\n",
              "      <td>204017.40</td>\n",
              "      <td>2</td>\n",
              "      <td>1</td>\n",
              "      <td>0</td>\n",
              "      <td>109538.35</td>\n",
              "      <td>0</td>\n",
              "    </tr>\n",
              "    <tr>\n",
              "      <th>4522</th>\n",
              "      <td>4523</td>\n",
              "      <td>15705309</td>\n",
              "      <td>Yuriev</td>\n",
              "      <td>629</td>\n",
              "      <td>Spain</td>\n",
              "      <td>Male</td>\n",
              "      <td>39</td>\n",
              "      <td>5</td>\n",
              "      <td>0.00</td>\n",
              "      <td>2</td>\n",
              "      <td>0</td>\n",
              "      <td>0</td>\n",
              "      <td>116748.14</td>\n",
              "      <td>0</td>\n",
              "    </tr>\n",
              "    <tr>\n",
              "      <th>8677</th>\n",
              "      <td>8678</td>\n",
              "      <td>15757829</td>\n",
              "      <td>Timperley</td>\n",
              "      <td>609</td>\n",
              "      <td>Germany</td>\n",
              "      <td>Female</td>\n",
              "      <td>40</td>\n",
              "      <td>10</td>\n",
              "      <td>137389.77</td>\n",
              "      <td>2</td>\n",
              "      <td>1</td>\n",
              "      <td>0</td>\n",
              "      <td>170122.22</td>\n",
              "      <td>0</td>\n",
              "    </tr>\n",
              "  </tbody>\n",
              "</table>\n",
              "</div>"
            ],
            "text/plain": [
              "      RowNumber  CustomerId    Surname  CreditScore Geography  Gender  Age  \\\n",
              "6798       6799    15799925     Uwakwe          800    France    Male   60   \n",
              "7904       7905    15783338   Williams          449     Spain    Male   32   \n",
              "8063       8064    15663888     Connor          549   Germany    Male   34   \n",
              "4522       4523    15705309     Yuriev          629     Spain    Male   39   \n",
              "8677       8678    15757829  Timperley          609   Germany  Female   40   \n",
              "\n",
              "      Tenure    Balance  NumOfProducts  HasCrCard  IsActiveMember  \\\n",
              "6798       6   88541.57              2          1               1   \n",
              "7904       0  155619.36              1          1               1   \n",
              "8063       6  204017.40              2          1               0   \n",
              "4522       5       0.00              2          0               0   \n",
              "8677      10  137389.77              2          1               0   \n",
              "\n",
              "      EstimatedSalary  Exited  \n",
              "6798        131718.12       0  \n",
              "7904        166692.03       0  \n",
              "8063        109538.35       0  \n",
              "4522        116748.14       0  \n",
              "8677        170122.22       0  "
            ]
          },
          "metadata": {
            "tags": []
          },
          "execution_count": 496
        }
      ]
    },
    {
      "metadata": {
        "id": "PDIBPzlEt6tv",
        "colab_type": "code",
        "colab": {
          "base_uri": "https://localhost:8080/",
          "height": 204
        },
        "outputId": "71c1071f-2d92-4f16-ab68-e140c7db8dd2"
      },
      "cell_type": "code",
      "source": [
        "unisamp=dfe0samp.append(dfe1, ignore_index=True)\n",
        "unisamp.head()"
      ],
      "execution_count": 497,
      "outputs": [
        {
          "output_type": "execute_result",
          "data": {
            "text/html": [
              "<div>\n",
              "<style scoped>\n",
              "    .dataframe tbody tr th:only-of-type {\n",
              "        vertical-align: middle;\n",
              "    }\n",
              "\n",
              "    .dataframe tbody tr th {\n",
              "        vertical-align: top;\n",
              "    }\n",
              "\n",
              "    .dataframe thead th {\n",
              "        text-align: right;\n",
              "    }\n",
              "</style>\n",
              "<table border=\"1\" class=\"dataframe\">\n",
              "  <thead>\n",
              "    <tr style=\"text-align: right;\">\n",
              "      <th></th>\n",
              "      <th>RowNumber</th>\n",
              "      <th>CustomerId</th>\n",
              "      <th>Surname</th>\n",
              "      <th>CreditScore</th>\n",
              "      <th>Geography</th>\n",
              "      <th>Gender</th>\n",
              "      <th>Age</th>\n",
              "      <th>Tenure</th>\n",
              "      <th>Balance</th>\n",
              "      <th>NumOfProducts</th>\n",
              "      <th>HasCrCard</th>\n",
              "      <th>IsActiveMember</th>\n",
              "      <th>EstimatedSalary</th>\n",
              "      <th>Exited</th>\n",
              "    </tr>\n",
              "  </thead>\n",
              "  <tbody>\n",
              "    <tr>\n",
              "      <th>0</th>\n",
              "      <td>6799</td>\n",
              "      <td>15799925</td>\n",
              "      <td>Uwakwe</td>\n",
              "      <td>800</td>\n",
              "      <td>France</td>\n",
              "      <td>Male</td>\n",
              "      <td>60</td>\n",
              "      <td>6</td>\n",
              "      <td>88541.57</td>\n",
              "      <td>2</td>\n",
              "      <td>1</td>\n",
              "      <td>1</td>\n",
              "      <td>131718.12</td>\n",
              "      <td>0</td>\n",
              "    </tr>\n",
              "    <tr>\n",
              "      <th>1</th>\n",
              "      <td>7905</td>\n",
              "      <td>15783338</td>\n",
              "      <td>Williams</td>\n",
              "      <td>449</td>\n",
              "      <td>Spain</td>\n",
              "      <td>Male</td>\n",
              "      <td>32</td>\n",
              "      <td>0</td>\n",
              "      <td>155619.36</td>\n",
              "      <td>1</td>\n",
              "      <td>1</td>\n",
              "      <td>1</td>\n",
              "      <td>166692.03</td>\n",
              "      <td>0</td>\n",
              "    </tr>\n",
              "    <tr>\n",
              "      <th>2</th>\n",
              "      <td>8064</td>\n",
              "      <td>15663888</td>\n",
              "      <td>Connor</td>\n",
              "      <td>549</td>\n",
              "      <td>Germany</td>\n",
              "      <td>Male</td>\n",
              "      <td>34</td>\n",
              "      <td>6</td>\n",
              "      <td>204017.40</td>\n",
              "      <td>2</td>\n",
              "      <td>1</td>\n",
              "      <td>0</td>\n",
              "      <td>109538.35</td>\n",
              "      <td>0</td>\n",
              "    </tr>\n",
              "    <tr>\n",
              "      <th>3</th>\n",
              "      <td>4523</td>\n",
              "      <td>15705309</td>\n",
              "      <td>Yuriev</td>\n",
              "      <td>629</td>\n",
              "      <td>Spain</td>\n",
              "      <td>Male</td>\n",
              "      <td>39</td>\n",
              "      <td>5</td>\n",
              "      <td>0.00</td>\n",
              "      <td>2</td>\n",
              "      <td>0</td>\n",
              "      <td>0</td>\n",
              "      <td>116748.14</td>\n",
              "      <td>0</td>\n",
              "    </tr>\n",
              "    <tr>\n",
              "      <th>4</th>\n",
              "      <td>8678</td>\n",
              "      <td>15757829</td>\n",
              "      <td>Timperley</td>\n",
              "      <td>609</td>\n",
              "      <td>Germany</td>\n",
              "      <td>Female</td>\n",
              "      <td>40</td>\n",
              "      <td>10</td>\n",
              "      <td>137389.77</td>\n",
              "      <td>2</td>\n",
              "      <td>1</td>\n",
              "      <td>0</td>\n",
              "      <td>170122.22</td>\n",
              "      <td>0</td>\n",
              "    </tr>\n",
              "  </tbody>\n",
              "</table>\n",
              "</div>"
            ],
            "text/plain": [
              "   RowNumber  CustomerId    Surname  CreditScore Geography  Gender  Age  \\\n",
              "0       6799    15799925     Uwakwe          800    France    Male   60   \n",
              "1       7905    15783338   Williams          449     Spain    Male   32   \n",
              "2       8064    15663888     Connor          549   Germany    Male   34   \n",
              "3       4523    15705309     Yuriev          629     Spain    Male   39   \n",
              "4       8678    15757829  Timperley          609   Germany  Female   40   \n",
              "\n",
              "   Tenure    Balance  NumOfProducts  HasCrCard  IsActiveMember  \\\n",
              "0       6   88541.57              2          1               1   \n",
              "1       0  155619.36              1          1               1   \n",
              "2       6  204017.40              2          1               0   \n",
              "3       5       0.00              2          0               0   \n",
              "4      10  137389.77              2          1               0   \n",
              "\n",
              "   EstimatedSalary  Exited  \n",
              "0        131718.12       0  \n",
              "1        166692.03       0  \n",
              "2        109538.35       0  \n",
              "3        116748.14       0  \n",
              "4        170122.22       0  "
            ]
          },
          "metadata": {
            "tags": []
          },
          "execution_count": 497
        }
      ]
    },
    {
      "metadata": {
        "id": "SLLU6fVbw3Mi",
        "colab_type": "code",
        "colab": {
          "base_uri": "https://localhost:8080/",
          "height": 204
        },
        "outputId": "ae653f1e-9abc-4248-9377-0442f8704d72"
      },
      "cell_type": "code",
      "source": [
        "unisamp.drop(['RowNumber'], axis=1, inplace=True)\n",
        "unisamp.head()"
      ],
      "execution_count": 498,
      "outputs": [
        {
          "output_type": "execute_result",
          "data": {
            "text/html": [
              "<div>\n",
              "<style scoped>\n",
              "    .dataframe tbody tr th:only-of-type {\n",
              "        vertical-align: middle;\n",
              "    }\n",
              "\n",
              "    .dataframe tbody tr th {\n",
              "        vertical-align: top;\n",
              "    }\n",
              "\n",
              "    .dataframe thead th {\n",
              "        text-align: right;\n",
              "    }\n",
              "</style>\n",
              "<table border=\"1\" class=\"dataframe\">\n",
              "  <thead>\n",
              "    <tr style=\"text-align: right;\">\n",
              "      <th></th>\n",
              "      <th>CustomerId</th>\n",
              "      <th>Surname</th>\n",
              "      <th>CreditScore</th>\n",
              "      <th>Geography</th>\n",
              "      <th>Gender</th>\n",
              "      <th>Age</th>\n",
              "      <th>Tenure</th>\n",
              "      <th>Balance</th>\n",
              "      <th>NumOfProducts</th>\n",
              "      <th>HasCrCard</th>\n",
              "      <th>IsActiveMember</th>\n",
              "      <th>EstimatedSalary</th>\n",
              "      <th>Exited</th>\n",
              "    </tr>\n",
              "  </thead>\n",
              "  <tbody>\n",
              "    <tr>\n",
              "      <th>0</th>\n",
              "      <td>15799925</td>\n",
              "      <td>Uwakwe</td>\n",
              "      <td>800</td>\n",
              "      <td>France</td>\n",
              "      <td>Male</td>\n",
              "      <td>60</td>\n",
              "      <td>6</td>\n",
              "      <td>88541.57</td>\n",
              "      <td>2</td>\n",
              "      <td>1</td>\n",
              "      <td>1</td>\n",
              "      <td>131718.12</td>\n",
              "      <td>0</td>\n",
              "    </tr>\n",
              "    <tr>\n",
              "      <th>1</th>\n",
              "      <td>15783338</td>\n",
              "      <td>Williams</td>\n",
              "      <td>449</td>\n",
              "      <td>Spain</td>\n",
              "      <td>Male</td>\n",
              "      <td>32</td>\n",
              "      <td>0</td>\n",
              "      <td>155619.36</td>\n",
              "      <td>1</td>\n",
              "      <td>1</td>\n",
              "      <td>1</td>\n",
              "      <td>166692.03</td>\n",
              "      <td>0</td>\n",
              "    </tr>\n",
              "    <tr>\n",
              "      <th>2</th>\n",
              "      <td>15663888</td>\n",
              "      <td>Connor</td>\n",
              "      <td>549</td>\n",
              "      <td>Germany</td>\n",
              "      <td>Male</td>\n",
              "      <td>34</td>\n",
              "      <td>6</td>\n",
              "      <td>204017.40</td>\n",
              "      <td>2</td>\n",
              "      <td>1</td>\n",
              "      <td>0</td>\n",
              "      <td>109538.35</td>\n",
              "      <td>0</td>\n",
              "    </tr>\n",
              "    <tr>\n",
              "      <th>3</th>\n",
              "      <td>15705309</td>\n",
              "      <td>Yuriev</td>\n",
              "      <td>629</td>\n",
              "      <td>Spain</td>\n",
              "      <td>Male</td>\n",
              "      <td>39</td>\n",
              "      <td>5</td>\n",
              "      <td>0.00</td>\n",
              "      <td>2</td>\n",
              "      <td>0</td>\n",
              "      <td>0</td>\n",
              "      <td>116748.14</td>\n",
              "      <td>0</td>\n",
              "    </tr>\n",
              "    <tr>\n",
              "      <th>4</th>\n",
              "      <td>15757829</td>\n",
              "      <td>Timperley</td>\n",
              "      <td>609</td>\n",
              "      <td>Germany</td>\n",
              "      <td>Female</td>\n",
              "      <td>40</td>\n",
              "      <td>10</td>\n",
              "      <td>137389.77</td>\n",
              "      <td>2</td>\n",
              "      <td>1</td>\n",
              "      <td>0</td>\n",
              "      <td>170122.22</td>\n",
              "      <td>0</td>\n",
              "    </tr>\n",
              "  </tbody>\n",
              "</table>\n",
              "</div>"
            ],
            "text/plain": [
              "   CustomerId    Surname  CreditScore Geography  Gender  Age  Tenure  \\\n",
              "0    15799925     Uwakwe          800    France    Male   60       6   \n",
              "1    15783338   Williams          449     Spain    Male   32       0   \n",
              "2    15663888     Connor          549   Germany    Male   34       6   \n",
              "3    15705309     Yuriev          629     Spain    Male   39       5   \n",
              "4    15757829  Timperley          609   Germany  Female   40      10   \n",
              "\n",
              "     Balance  NumOfProducts  HasCrCard  IsActiveMember  EstimatedSalary  \\\n",
              "0   88541.57              2          1               1        131718.12   \n",
              "1  155619.36              1          1               1        166692.03   \n",
              "2  204017.40              2          1               0        109538.35   \n",
              "3       0.00              2          0               0        116748.14   \n",
              "4  137389.77              2          1               0        170122.22   \n",
              "\n",
              "   Exited  \n",
              "0       0  \n",
              "1       0  \n",
              "2       0  \n",
              "3       0  \n",
              "4       0  "
            ]
          },
          "metadata": {
            "tags": []
          },
          "execution_count": 498
        }
      ]
    },
    {
      "metadata": {
        "id": "kEN0gl00wZDE",
        "colab_type": "code",
        "colab": {
          "base_uri": "https://localhost:8080/",
          "height": 282
        },
        "outputId": "c4b21f12-2e85-46e6-d126-2931fc356c97"
      },
      "cell_type": "code",
      "source": [
        "unisamp['Exited'].value_counts().plot(kind='bar')"
      ],
      "execution_count": 499,
      "outputs": [
        {
          "output_type": "execute_result",
          "data": {
            "text/plain": [
              "<matplotlib.axes._subplots.AxesSubplot at 0x7fd1977fd4a8>"
            ]
          },
          "metadata": {
            "tags": []
          },
          "execution_count": 499
        },
        {
          "output_type": "display_data",
          "data": {
            "image/png": "[encoded data removed]",
            "text/plain": [
              "<Figure size 432x288 with 1 Axes>"
            ]
          },
          "metadata": {
            "tags": []
          }
        }
      ]
    },
    {
      "metadata": {
        "id": "JOxywkyKroW3",
        "colab_type": "code",
        "colab": {}
      },
      "cell_type": "code",
      "source": [
        "!pip install -q tensorflow==2.0.0-alpha0"
      ],
      "execution_count": 0,
      "outputs": []
    },
    {
      "metadata": {
        "id": "CWzqc0adryjK",
        "colab_type": "code",
        "colab": {}
      },
      "cell_type": "code",
      "source": [
        "import tensorflow as tf\n",
        "from tensorflow import keras"
      ],
      "execution_count": 0,
      "outputs": []
    },
    {
      "metadata": {
        "id": "llQvd1japon9",
        "colab_type": "code",
        "colab": {
          "base_uri": "https://localhost:8080/",
          "height": 204
        },
        "outputId": "32a79758-3c76-4692-b6e4-d38a350538f4"
      },
      "cell_type": "code",
      "source": [
        "df=unisamp\n",
        "df.head()"
      ],
      "execution_count": 502,
      "outputs": [
        {
          "output_type": "execute_result",
          "data": {
            "text/html": [
              "<div>\n",
              "<style scoped>\n",
              "    .dataframe tbody tr th:only-of-type {\n",
              "        vertical-align: middle;\n",
              "    }\n",
              "\n",
              "    .dataframe tbody tr th {\n",
              "        vertical-align: top;\n",
              "    }\n",
              "\n",
              "    .dataframe thead th {\n",
              "        text-align: right;\n",
              "    }\n",
              "</style>\n",
              "<table border=\"1\" class=\"dataframe\">\n",
              "  <thead>\n",
              "    <tr style=\"text-align: right;\">\n",
              "      <th></th>\n",
              "      <th>CustomerId</th>\n",
              "      <th>Surname</th>\n",
              "      <th>CreditScore</th>\n",
              "      <th>Geography</th>\n",
              "      <th>Gender</th>\n",
              "      <th>Age</th>\n",
              "      <th>Tenure</th>\n",
              "      <th>Balance</th>\n",
              "      <th>NumOfProducts</th>\n",
              "      <th>HasCrCard</th>\n",
              "      <th>IsActiveMember</th>\n",
              "      <th>EstimatedSalary</th>\n",
              "      <th>Exited</th>\n",
              "    </tr>\n",
              "  </thead>\n",
              "  <tbody>\n",
              "    <tr>\n",
              "      <th>0</th>\n",
              "      <td>15799925</td>\n",
              "      <td>Uwakwe</td>\n",
              "      <td>800</td>\n",
              "      <td>France</td>\n",
              "      <td>Male</td>\n",
              "      <td>60</td>\n",
              "      <td>6</td>\n",
              "      <td>88541.57</td>\n",
              "      <td>2</td>\n",
              "      <td>1</td>\n",
              "      <td>1</td>\n",
              "      <td>131718.12</td>\n",
              "      <td>0</td>\n",
              "    </tr>\n",
              "    <tr>\n",
              "      <th>1</th>\n",
              "      <td>15783338</td>\n",
              "      <td>Williams</td>\n",
              "      <td>449</td>\n",
              "      <td>Spain</td>\n",
              "      <td>Male</td>\n",
              "      <td>32</td>\n",
              "      <td>0</td>\n",
              "      <td>155619.36</td>\n",
              "      <td>1</td>\n",
              "      <td>1</td>\n",
              "      <td>1</td>\n",
              "      <td>166692.03</td>\n",
              "      <td>0</td>\n",
              "    </tr>\n",
              "    <tr>\n",
              "      <th>2</th>\n",
              "      <td>15663888</td>\n",
              "      <td>Connor</td>\n",
              "      <td>549</td>\n",
              "      <td>Germany</td>\n",
              "      <td>Male</td>\n",
              "      <td>34</td>\n",
              "      <td>6</td>\n",
              "      <td>204017.40</td>\n",
              "      <td>2</td>\n",
              "      <td>1</td>\n",
              "      <td>0</td>\n",
              "      <td>109538.35</td>\n",
              "      <td>0</td>\n",
              "    </tr>\n",
              "    <tr>\n",
              "      <th>3</th>\n",
              "      <td>15705309</td>\n",
              "      <td>Yuriev</td>\n",
              "      <td>629</td>\n",
              "      <td>Spain</td>\n",
              "      <td>Male</td>\n",
              "      <td>39</td>\n",
              "      <td>5</td>\n",
              "      <td>0.00</td>\n",
              "      <td>2</td>\n",
              "      <td>0</td>\n",
              "      <td>0</td>\n",
              "      <td>116748.14</td>\n",
              "      <td>0</td>\n",
              "    </tr>\n",
              "    <tr>\n",
              "      <th>4</th>\n",
              "      <td>15757829</td>\n",
              "      <td>Timperley</td>\n",
              "      <td>609</td>\n",
              "      <td>Germany</td>\n",
              "      <td>Female</td>\n",
              "      <td>40</td>\n",
              "      <td>10</td>\n",
              "      <td>137389.77</td>\n",
              "      <td>2</td>\n",
              "      <td>1</td>\n",
              "      <td>0</td>\n",
              "      <td>170122.22</td>\n",
              "      <td>0</td>\n",
              "    </tr>\n",
              "  </tbody>\n",
              "</table>\n",
              "</div>"
            ],
            "text/plain": [
              "   CustomerId    Surname  CreditScore Geography  Gender  Age  Tenure  \\\n",
              "0    15799925     Uwakwe          800    France    Male   60       6   \n",
              "1    15783338   Williams          449     Spain    Male   32       0   \n",
              "2    15663888     Connor          549   Germany    Male   34       6   \n",
              "3    15705309     Yuriev          629     Spain    Male   39       5   \n",
              "4    15757829  Timperley          609   Germany  Female   40      10   \n",
              "\n",
              "     Balance  NumOfProducts  HasCrCard  IsActiveMember  EstimatedSalary  \\\n",
              "0   88541.57              2          1               1        131718.12   \n",
              "1  155619.36              1          1               1        166692.03   \n",
              "2  204017.40              2          1               0        109538.35   \n",
              "3       0.00              2          0               0        116748.14   \n",
              "4  137389.77              2          1               0        170122.22   \n",
              "\n",
              "   Exited  \n",
              "0       0  \n",
              "1       0  \n",
              "2       0  \n",
              "3       0  \n",
              "4       0  "
            ]
          },
          "metadata": {
            "tags": []
          },
          "execution_count": 502
        }
      ]
    },
    {
      "metadata": {
        "id": "DCPJgcaC0I2B",
        "colab_type": "text"
      },
      "cell_type": "markdown",
      "source": [
        "### Since we have various fields with different scales, machine might not be able to find the true relationship between them (Eg: Salary >> Age, Salary >>> Tenure), which results in a faulty model. So we convert them all onto a common scale using the Standard Scaler as below:"
      ]
    },
    {
      "metadata": {
        "id": "SQB6mKHkoGnT",
        "colab_type": "code",
        "colab": {}
      },
      "cell_type": "code",
      "source": [
        "from sklearn.preprocessing import StandardScaler\n",
        "sc = StandardScaler()\n",
        "df[numeric_columns] = sc.fit_transform(df[numeric_columns])"
      ],
      "execution_count": 0,
      "outputs": []
    },
    {
      "metadata": {
        "id": "SzvspuZcpsVO",
        "colab_type": "code",
        "colab": {
          "base_uri": "https://localhost:8080/",
          "height": 204
        },
        "outputId": "a1660281-df7a-4547-f558-a6adcd1044be"
      },
      "cell_type": "code",
      "source": [
        "df.head()"
      ],
      "execution_count": 504,
      "outputs": [
        {
          "output_type": "execute_result",
          "data": {
            "text/html": [
              "<div>\n",
              "<style scoped>\n",
              "    .dataframe tbody tr th:only-of-type {\n",
              "        vertical-align: middle;\n",
              "    }\n",
              "\n",
              "    .dataframe tbody tr th {\n",
              "        vertical-align: top;\n",
              "    }\n",
              "\n",
              "    .dataframe thead th {\n",
              "        text-align: right;\n",
              "    }\n",
              "</style>\n",
              "<table border=\"1\" class=\"dataframe\">\n",
              "  <thead>\n",
              "    <tr style=\"text-align: right;\">\n",
              "      <th></th>\n",
              "      <th>CustomerId</th>\n",
              "      <th>Surname</th>\n",
              "      <th>CreditScore</th>\n",
              "      <th>Geography</th>\n",
              "      <th>Gender</th>\n",
              "      <th>Age</th>\n",
              "      <th>Tenure</th>\n",
              "      <th>Balance</th>\n",
              "      <th>NumOfProducts</th>\n",
              "      <th>HasCrCard</th>\n",
              "      <th>IsActiveMember</th>\n",
              "      <th>EstimatedSalary</th>\n",
              "      <th>Exited</th>\n",
              "    </tr>\n",
              "  </thead>\n",
              "  <tbody>\n",
              "    <tr>\n",
              "      <th>0</th>\n",
              "      <td>15799925</td>\n",
              "      <td>Uwakwe</td>\n",
              "      <td>1.513154</td>\n",
              "      <td>France</td>\n",
              "      <td>Male</td>\n",
              "      <td>1.791765</td>\n",
              "      <td>0.337355</td>\n",
              "      <td>0.103465</td>\n",
              "      <td>0.728644</td>\n",
              "      <td>1</td>\n",
              "      <td>1</td>\n",
              "      <td>0.547449</td>\n",
              "      <td>0</td>\n",
              "    </tr>\n",
              "    <tr>\n",
              "      <th>1</th>\n",
              "      <td>15783338</td>\n",
              "      <td>Williams</td>\n",
              "      <td>-2.044557</td>\n",
              "      <td>Spain</td>\n",
              "      <td>Male</td>\n",
              "      <td>-0.864482</td>\n",
              "      <td>-1.709384</td>\n",
              "      <td>1.198875</td>\n",
              "      <td>-0.759324</td>\n",
              "      <td>1</td>\n",
              "      <td>1</td>\n",
              "      <td>1.157086</td>\n",
              "      <td>0</td>\n",
              "    </tr>\n",
              "    <tr>\n",
              "      <th>2</th>\n",
              "      <td>15663888</td>\n",
              "      <td>Connor</td>\n",
              "      <td>-1.030964</td>\n",
              "      <td>Germany</td>\n",
              "      <td>Male</td>\n",
              "      <td>-0.674750</td>\n",
              "      <td>0.337355</td>\n",
              "      <td>1.989237</td>\n",
              "      <td>0.728644</td>\n",
              "      <td>1</td>\n",
              "      <td>0</td>\n",
              "      <td>0.160829</td>\n",
              "      <td>0</td>\n",
              "    </tr>\n",
              "    <tr>\n",
              "      <th>3</th>\n",
              "      <td>15705309</td>\n",
              "      <td>Yuriev</td>\n",
              "      <td>-0.220089</td>\n",
              "      <td>Spain</td>\n",
              "      <td>Male</td>\n",
              "      <td>-0.200420</td>\n",
              "      <td>-0.003768</td>\n",
              "      <td>-1.342459</td>\n",
              "      <td>0.728644</td>\n",
              "      <td>0</td>\n",
              "      <td>0</td>\n",
              "      <td>0.286504</td>\n",
              "      <td>0</td>\n",
              "    </tr>\n",
              "    <tr>\n",
              "      <th>4</th>\n",
              "      <td>15757829</td>\n",
              "      <td>Timperley</td>\n",
              "      <td>-0.422808</td>\n",
              "      <td>Germany</td>\n",
              "      <td>Female</td>\n",
              "      <td>-0.105554</td>\n",
              "      <td>1.701848</td>\n",
              "      <td>0.901178</td>\n",
              "      <td>0.728644</td>\n",
              "      <td>1</td>\n",
              "      <td>0</td>\n",
              "      <td>1.216878</td>\n",
              "      <td>0</td>\n",
              "    </tr>\n",
              "  </tbody>\n",
              "</table>\n",
              "</div>"
            ],
            "text/plain": [
              "   CustomerId    Surname  CreditScore Geography  Gender       Age    Tenure  \\\n",
              "0    15799925     Uwakwe     1.513154    France    Male  1.791765  0.337355   \n",
              "1    15783338   Williams    -2.044557     Spain    Male -0.864482 -1.709384   \n",
              "2    15663888     Connor    -1.030964   Germany    Male -0.674750  0.337355   \n",
              "3    15705309     Yuriev    -0.220089     Spain    Male -0.200420 -0.003768   \n",
              "4    15757829  Timperley    -0.422808   Germany  Female -0.105554  1.701848   \n",
              "\n",
              "    Balance  NumOfProducts  HasCrCard  IsActiveMember  EstimatedSalary  Exited  \n",
              "0  0.103465       0.728644          1               1         0.547449       0  \n",
              "1  1.198875      -0.759324          1               1         1.157086       0  \n",
              "2  1.989237       0.728644          1               0         0.160829       0  \n",
              "3 -1.342459       0.728644          0               0         0.286504       0  \n",
              "4  0.901178       0.728644          1               0         1.216878       0  "
            ]
          },
          "metadata": {
            "tags": []
          },
          "execution_count": 504
        }
      ]
    },
    {
      "metadata": {
        "id": "uIWuYMuMsfoW",
        "colab_type": "code",
        "colab": {}
      },
      "cell_type": "code",
      "source": [
        "from sklearn.model_selection import train_test_split"
      ],
      "execution_count": 0,
      "outputs": []
    },
    {
      "metadata": {
        "id": "CPSKVxwrsrlc",
        "colab_type": "code",
        "colab": {}
      },
      "cell_type": "code",
      "source": [
        "train, test = train_test_split(df, test_size = 0.2, random_state = 1)"
      ],
      "execution_count": 0,
      "outputs": []
    },
    {
      "metadata": {
        "id": "tKJyR6gMtJ4g",
        "colab_type": "code",
        "outputId": "b44d2238-08fb-4ef1-9a20-fec76e1bcf34",
        "colab": {
          "base_uri": "https://localhost:8080/",
          "height": 204
        }
      },
      "cell_type": "code",
      "source": [
        "train.head()"
      ],
      "execution_count": 507,
      "outputs": [
        {
          "output_type": "execute_result",
          "data": {
            "text/html": [
              "<div>\n",
              "<style scoped>\n",
              "    .dataframe tbody tr th:only-of-type {\n",
              "        vertical-align: middle;\n",
              "    }\n",
              "\n",
              "    .dataframe tbody tr th {\n",
              "        vertical-align: top;\n",
              "    }\n",
              "\n",
              "    .dataframe thead th {\n",
              "        text-align: right;\n",
              "    }\n",
              "</style>\n",
              "<table border=\"1\" class=\"dataframe\">\n",
              "  <thead>\n",
              "    <tr style=\"text-align: right;\">\n",
              "      <th></th>\n",
              "      <th>CustomerId</th>\n",
              "      <th>Surname</th>\n",
              "      <th>CreditScore</th>\n",
              "      <th>Geography</th>\n",
              "      <th>Gender</th>\n",
              "      <th>Age</th>\n",
              "      <th>Tenure</th>\n",
              "      <th>Balance</th>\n",
              "      <th>NumOfProducts</th>\n",
              "      <th>HasCrCard</th>\n",
              "      <th>IsActiveMember</th>\n",
              "      <th>EstimatedSalary</th>\n",
              "      <th>Exited</th>\n",
              "    </tr>\n",
              "  </thead>\n",
              "  <tbody>\n",
              "    <tr>\n",
              "      <th>3985</th>\n",
              "      <td>15775192</td>\n",
              "      <td>Rounsevell</td>\n",
              "      <td>0.823911</td>\n",
              "      <td>Germany</td>\n",
              "      <td>Female</td>\n",
              "      <td>0.653374</td>\n",
              "      <td>-0.344891</td>\n",
              "      <td>0.338967</td>\n",
              "      <td>-0.759324</td>\n",
              "      <td>1</td>\n",
              "      <td>0</td>\n",
              "      <td>0.358054</td>\n",
              "      <td>1</td>\n",
              "    </tr>\n",
              "    <tr>\n",
              "      <th>829</th>\n",
              "      <td>15797197</td>\n",
              "      <td>Macleod</td>\n",
              "      <td>0.276571</td>\n",
              "      <td>Spain</td>\n",
              "      <td>Male</td>\n",
              "      <td>-1.149080</td>\n",
              "      <td>0.337355</td>\n",
              "      <td>-1.342459</td>\n",
              "      <td>0.728644</td>\n",
              "      <td>1</td>\n",
              "      <td>0</td>\n",
              "      <td>-0.625224</td>\n",
              "      <td>0</td>\n",
              "    </tr>\n",
              "    <tr>\n",
              "      <th>546</th>\n",
              "      <td>15739194</td>\n",
              "      <td>Manfrin</td>\n",
              "      <td>-1.041100</td>\n",
              "      <td>Spain</td>\n",
              "      <td>Male</td>\n",
              "      <td>-0.295286</td>\n",
              "      <td>-1.709384</td>\n",
              "      <td>1.565285</td>\n",
              "      <td>0.728644</td>\n",
              "      <td>1</td>\n",
              "      <td>0</td>\n",
              "      <td>-1.078593</td>\n",
              "      <td>0</td>\n",
              "    </tr>\n",
              "    <tr>\n",
              "      <th>1401</th>\n",
              "      <td>15813640</td>\n",
              "      <td>Shih</td>\n",
              "      <td>-0.088322</td>\n",
              "      <td>France</td>\n",
              "      <td>Female</td>\n",
              "      <td>-0.105554</td>\n",
              "      <td>0.678479</td>\n",
              "      <td>-1.342459</td>\n",
              "      <td>0.728644</td>\n",
              "      <td>1</td>\n",
              "      <td>0</td>\n",
              "      <td>-1.561819</td>\n",
              "      <td>0</td>\n",
              "    </tr>\n",
              "    <tr>\n",
              "      <th>2779</th>\n",
              "      <td>15653251</td>\n",
              "      <td>Hickey</td>\n",
              "      <td>-2.460130</td>\n",
              "      <td>France</td>\n",
              "      <td>Female</td>\n",
              "      <td>4.068548</td>\n",
              "      <td>1.019602</td>\n",
              "      <td>0.092553</td>\n",
              "      <td>-0.759324</td>\n",
              "      <td>0</td>\n",
              "      <td>0</td>\n",
              "      <td>1.536955</td>\n",
              "      <td>1</td>\n",
              "    </tr>\n",
              "  </tbody>\n",
              "</table>\n",
              "</div>"
            ],
            "text/plain": [
              "      CustomerId     Surname  CreditScore Geography  Gender       Age  \\\n",
              "3985    15775192  Rounsevell     0.823911   Germany  Female  0.653374   \n",
              "829     15797197     Macleod     0.276571     Spain    Male -1.149080   \n",
              "546     15739194     Manfrin    -1.041100     Spain    Male -0.295286   \n",
              "1401    15813640        Shih    -0.088322    France  Female -0.105554   \n",
              "2779    15653251      Hickey    -2.460130    France  Female  4.068548   \n",
              "\n",
              "        Tenure   Balance  NumOfProducts  HasCrCard  IsActiveMember  \\\n",
              "3985 -0.344891  0.338967      -0.759324          1               0   \n",
              "829   0.337355 -1.342459       0.728644          1               0   \n",
              "546  -1.709384  1.565285       0.728644          1               0   \n",
              "1401  0.678479 -1.342459       0.728644          1               0   \n",
              "2779  1.019602  0.092553      -0.759324          0               0   \n",
              "\n",
              "      EstimatedSalary  Exited  \n",
              "3985         0.358054       1  \n",
              "829         -0.625224       0  \n",
              "546         -1.078593       0  \n",
              "1401        -1.561819       0  \n",
              "2779         1.536955       1  "
            ]
          },
          "metadata": {
            "tags": []
          },
          "execution_count": 507
        }
      ]
    },
    {
      "metadata": {
        "id": "_R9eRyS8t8Xh",
        "colab_type": "code",
        "outputId": "00812882-a77b-4733-b6a8-5b45f0447ce7",
        "colab": {
          "base_uri": "https://localhost:8080/",
          "height": 34
        }
      },
      "cell_type": "code",
      "source": [
        "len(train)"
      ],
      "execution_count": 508,
      "outputs": [
        {
          "output_type": "execute_result",
          "data": {
            "text/plain": [
              "3259"
            ]
          },
          "metadata": {
            "tags": []
          },
          "execution_count": 508
        }
      ]
    },
    {
      "metadata": {
        "id": "HB2zIibct-FG",
        "colab_type": "code",
        "outputId": "f732af23-9bd6-4c74-f822-2d5d6d331b8e",
        "colab": {
          "base_uri": "https://localhost:8080/",
          "height": 34
        }
      },
      "cell_type": "code",
      "source": [
        "len(test)"
      ],
      "execution_count": 509,
      "outputs": [
        {
          "output_type": "execute_result",
          "data": {
            "text/plain": [
              "815"
            ]
          },
          "metadata": {
            "tags": []
          },
          "execution_count": 509
        }
      ]
    },
    {
      "metadata": {
        "id": "p6q6HUy5tUpj",
        "colab_type": "code",
        "colab": {}
      },
      "cell_type": "code",
      "source": [
        "train, valid = train_test_split(train, test_size=0.2, random_state=1)"
      ],
      "execution_count": 0,
      "outputs": []
    },
    {
      "metadata": {
        "id": "jAcuGpk8tgf6",
        "colab_type": "code",
        "outputId": "7577ded7-592e-4c7c-aded-2b3d8308abb7",
        "colab": {
          "base_uri": "https://localhost:8080/",
          "height": 204
        }
      },
      "cell_type": "code",
      "source": [
        "train.head()"
      ],
      "execution_count": 511,
      "outputs": [
        {
          "output_type": "execute_result",
          "data": {
            "text/html": [
              "<div>\n",
              "<style scoped>\n",
              "    .dataframe tbody tr th:only-of-type {\n",
              "        vertical-align: middle;\n",
              "    }\n",
              "\n",
              "    .dataframe tbody tr th {\n",
              "        vertical-align: top;\n",
              "    }\n",
              "\n",
              "    .dataframe thead th {\n",
              "        text-align: right;\n",
              "    }\n",
              "</style>\n",
              "<table border=\"1\" class=\"dataframe\">\n",
              "  <thead>\n",
              "    <tr style=\"text-align: right;\">\n",
              "      <th></th>\n",
              "      <th>CustomerId</th>\n",
              "      <th>Surname</th>\n",
              "      <th>CreditScore</th>\n",
              "      <th>Geography</th>\n",
              "      <th>Gender</th>\n",
              "      <th>Age</th>\n",
              "      <th>Tenure</th>\n",
              "      <th>Balance</th>\n",
              "      <th>NumOfProducts</th>\n",
              "      <th>HasCrCard</th>\n",
              "      <th>IsActiveMember</th>\n",
              "      <th>EstimatedSalary</th>\n",
              "      <th>Exited</th>\n",
              "    </tr>\n",
              "  </thead>\n",
              "  <tbody>\n",
              "    <tr>\n",
              "      <th>1416</th>\n",
              "      <td>15726234</td>\n",
              "      <td>Trentini</td>\n",
              "      <td>0.580649</td>\n",
              "      <td>Spain</td>\n",
              "      <td>Female</td>\n",
              "      <td>-0.010688</td>\n",
              "      <td>-0.003768</td>\n",
              "      <td>-1.342459</td>\n",
              "      <td>-0.759324</td>\n",
              "      <td>0</td>\n",
              "      <td>1</td>\n",
              "      <td>0.988212</td>\n",
              "      <td>0</td>\n",
              "    </tr>\n",
              "    <tr>\n",
              "      <th>609</th>\n",
              "      <td>15632272</td>\n",
              "      <td>Lung</td>\n",
              "      <td>1.432067</td>\n",
              "      <td>France</td>\n",
              "      <td>Female</td>\n",
              "      <td>0.084178</td>\n",
              "      <td>-1.027138</td>\n",
              "      <td>-1.342459</td>\n",
              "      <td>0.728644</td>\n",
              "      <td>1</td>\n",
              "      <td>0</td>\n",
              "      <td>-0.133310</td>\n",
              "      <td>0</td>\n",
              "    </tr>\n",
              "    <tr>\n",
              "      <th>2100</th>\n",
              "      <td>15590241</td>\n",
              "      <td>Chuang</td>\n",
              "      <td>1.006358</td>\n",
              "      <td>Spain</td>\n",
              "      <td>Female</td>\n",
              "      <td>-0.674750</td>\n",
              "      <td>1.360725</td>\n",
              "      <td>0.499979</td>\n",
              "      <td>-0.759324</td>\n",
              "      <td>0</td>\n",
              "      <td>0</td>\n",
              "      <td>0.873123</td>\n",
              "      <td>1</td>\n",
              "    </tr>\n",
              "    <tr>\n",
              "      <th>1476</th>\n",
              "      <td>15790594</td>\n",
              "      <td>Bednall</td>\n",
              "      <td>-1.172867</td>\n",
              "      <td>France</td>\n",
              "      <td>Female</td>\n",
              "      <td>-1.338812</td>\n",
              "      <td>0.337355</td>\n",
              "      <td>-1.342459</td>\n",
              "      <td>0.728644</td>\n",
              "      <td>0</td>\n",
              "      <td>1</td>\n",
              "      <td>-0.880908</td>\n",
              "      <td>0</td>\n",
              "    </tr>\n",
              "    <tr>\n",
              "      <th>3348</th>\n",
              "      <td>15687421</td>\n",
              "      <td>Highland</td>\n",
              "      <td>-0.929604</td>\n",
              "      <td>Spain</td>\n",
              "      <td>Male</td>\n",
              "      <td>2.455827</td>\n",
              "      <td>1.360725</td>\n",
              "      <td>0.713861</td>\n",
              "      <td>-0.759324</td>\n",
              "      <td>1</td>\n",
              "      <td>0</td>\n",
              "      <td>1.317783</td>\n",
              "      <td>1</td>\n",
              "    </tr>\n",
              "  </tbody>\n",
              "</table>\n",
              "</div>"
            ],
            "text/plain": [
              "      CustomerId   Surname  CreditScore Geography  Gender       Age    Tenure  \\\n",
              "1416    15726234  Trentini     0.580649     Spain  Female -0.010688 -0.003768   \n",
              "609     15632272      Lung     1.432067    France  Female  0.084178 -1.027138   \n",
              "2100    15590241    Chuang     1.006358     Spain  Female -0.674750  1.360725   \n",
              "1476    15790594   Bednall    -1.172867    France  Female -1.338812  0.337355   \n",
              "3348    15687421  Highland    -0.929604     Spain    Male  2.455827  1.360725   \n",
              "\n",
              "       Balance  NumOfProducts  HasCrCard  IsActiveMember  EstimatedSalary  \\\n",
              "1416 -1.342459      -0.759324          0               1         0.988212   \n",
              "609  -1.342459       0.728644          1               0        -0.133310   \n",
              "2100  0.499979      -0.759324          0               0         0.873123   \n",
              "1476 -1.342459       0.728644          0               1        -0.880908   \n",
              "3348  0.713861      -0.759324          1               0         1.317783   \n",
              "\n",
              "      Exited  \n",
              "1416       0  \n",
              "609        0  \n",
              "2100       1  \n",
              "1476       0  \n",
              "3348       1  "
            ]
          },
          "metadata": {
            "tags": []
          },
          "execution_count": 511
        }
      ]
    },
    {
      "metadata": {
        "id": "t1Rc4y-9thlT",
        "colab_type": "code",
        "outputId": "18f78f50-fe22-44c4-bcf5-8fe47826b45c",
        "colab": {
          "base_uri": "https://localhost:8080/",
          "height": 204
        }
      },
      "cell_type": "code",
      "source": [
        "valid.head()"
      ],
      "execution_count": 512,
      "outputs": [
        {
          "output_type": "execute_result",
          "data": {
            "text/html": [
              "<div>\n",
              "<style scoped>\n",
              "    .dataframe tbody tr th:only-of-type {\n",
              "        vertical-align: middle;\n",
              "    }\n",
              "\n",
              "    .dataframe tbody tr th {\n",
              "        vertical-align: top;\n",
              "    }\n",
              "\n",
              "    .dataframe thead th {\n",
              "        text-align: right;\n",
              "    }\n",
              "</style>\n",
              "<table border=\"1\" class=\"dataframe\">\n",
              "  <thead>\n",
              "    <tr style=\"text-align: right;\">\n",
              "      <th></th>\n",
              "      <th>CustomerId</th>\n",
              "      <th>Surname</th>\n",
              "      <th>CreditScore</th>\n",
              "      <th>Geography</th>\n",
              "      <th>Gender</th>\n",
              "      <th>Age</th>\n",
              "      <th>Tenure</th>\n",
              "      <th>Balance</th>\n",
              "      <th>NumOfProducts</th>\n",
              "      <th>HasCrCard</th>\n",
              "      <th>IsActiveMember</th>\n",
              "      <th>EstimatedSalary</th>\n",
              "      <th>Exited</th>\n",
              "    </tr>\n",
              "  </thead>\n",
              "  <tbody>\n",
              "    <tr>\n",
              "      <th>3683</th>\n",
              "      <td>15772482</td>\n",
              "      <td>Iloerika</td>\n",
              "      <td>1.807096</td>\n",
              "      <td>Germany</td>\n",
              "      <td>Male</td>\n",
              "      <td>-1.243946</td>\n",
              "      <td>-0.686014</td>\n",
              "      <td>0.819783</td>\n",
              "      <td>2.216613</td>\n",
              "      <td>1</td>\n",
              "      <td>0</td>\n",
              "      <td>0.079789</td>\n",
              "      <td>1</td>\n",
              "    </tr>\n",
              "    <tr>\n",
              "      <th>2112</th>\n",
              "      <td>15661629</td>\n",
              "      <td>Ricci</td>\n",
              "      <td>-1.304634</td>\n",
              "      <td>Spain</td>\n",
              "      <td>Male</td>\n",
              "      <td>-0.674750</td>\n",
              "      <td>1.360725</td>\n",
              "      <td>0.722303</td>\n",
              "      <td>-0.759324</td>\n",
              "      <td>1</td>\n",
              "      <td>0</td>\n",
              "      <td>1.288805</td>\n",
              "      <td>1</td>\n",
              "    </tr>\n",
              "    <tr>\n",
              "      <th>3746</th>\n",
              "      <td>15777060</td>\n",
              "      <td>Olszewski</td>\n",
              "      <td>1.209076</td>\n",
              "      <td>France</td>\n",
              "      <td>Female</td>\n",
              "      <td>-0.769616</td>\n",
              "      <td>-0.344891</td>\n",
              "      <td>-1.342459</td>\n",
              "      <td>-0.759324</td>\n",
              "      <td>1</td>\n",
              "      <td>0</td>\n",
              "      <td>-1.293941</td>\n",
              "      <td>1</td>\n",
              "    </tr>\n",
              "    <tr>\n",
              "      <th>619</th>\n",
              "      <td>15729362</td>\n",
              "      <td>Lombardi</td>\n",
              "      <td>0.955678</td>\n",
              "      <td>France</td>\n",
              "      <td>Male</td>\n",
              "      <td>-0.485018</td>\n",
              "      <td>1.019602</td>\n",
              "      <td>-0.244622</td>\n",
              "      <td>-0.759324</td>\n",
              "      <td>1</td>\n",
              "      <td>0</td>\n",
              "      <td>0.531264</td>\n",
              "      <td>0</td>\n",
              "    </tr>\n",
              "    <tr>\n",
              "      <th>618</th>\n",
              "      <td>15810942</td>\n",
              "      <td>Chiemela</td>\n",
              "      <td>-2.085100</td>\n",
              "      <td>Germany</td>\n",
              "      <td>Female</td>\n",
              "      <td>1.886631</td>\n",
              "      <td>-1.027138</td>\n",
              "      <td>0.905514</td>\n",
              "      <td>-0.759324</td>\n",
              "      <td>0</td>\n",
              "      <td>1</td>\n",
              "      <td>-1.227192</td>\n",
              "      <td>0</td>\n",
              "    </tr>\n",
              "  </tbody>\n",
              "</table>\n",
              "</div>"
            ],
            "text/plain": [
              "      CustomerId    Surname  CreditScore Geography  Gender       Age  \\\n",
              "3683    15772482   Iloerika     1.807096   Germany    Male -1.243946   \n",
              "2112    15661629      Ricci    -1.304634     Spain    Male -0.674750   \n",
              "3746    15777060  Olszewski     1.209076    France  Female -0.769616   \n",
              "619     15729362   Lombardi     0.955678    France    Male -0.485018   \n",
              "618     15810942   Chiemela    -2.085100   Germany  Female  1.886631   \n",
              "\n",
              "        Tenure   Balance  NumOfProducts  HasCrCard  IsActiveMember  \\\n",
              "3683 -0.686014  0.819783       2.216613          1               0   \n",
              "2112  1.360725  0.722303      -0.759324          1               0   \n",
              "3746 -0.344891 -1.342459      -0.759324          1               0   \n",
              "619   1.019602 -0.244622      -0.759324          1               0   \n",
              "618  -1.027138  0.905514      -0.759324          0               1   \n",
              "\n",
              "      EstimatedSalary  Exited  \n",
              "3683         0.079789       1  \n",
              "2112         1.288805       1  \n",
              "3746        -1.293941       1  \n",
              "619          0.531264       0  \n",
              "618         -1.227192       0  "
            ]
          },
          "metadata": {
            "tags": []
          },
          "execution_count": 512
        }
      ]
    },
    {
      "metadata": {
        "id": "icIxi2CAtjVP",
        "colab_type": "code",
        "outputId": "02dda268-21db-4bf5-e933-abc7912f7948",
        "colab": {
          "base_uri": "https://localhost:8080/",
          "height": 204
        }
      },
      "cell_type": "code",
      "source": [
        "test.head()"
      ],
      "execution_count": 513,
      "outputs": [
        {
          "output_type": "execute_result",
          "data": {
            "text/html": [
              "<div>\n",
              "<style scoped>\n",
              "    .dataframe tbody tr th:only-of-type {\n",
              "        vertical-align: middle;\n",
              "    }\n",
              "\n",
              "    .dataframe tbody tr th {\n",
              "        vertical-align: top;\n",
              "    }\n",
              "\n",
              "    .dataframe thead th {\n",
              "        text-align: right;\n",
              "    }\n",
              "</style>\n",
              "<table border=\"1\" class=\"dataframe\">\n",
              "  <thead>\n",
              "    <tr style=\"text-align: right;\">\n",
              "      <th></th>\n",
              "      <th>CustomerId</th>\n",
              "      <th>Surname</th>\n",
              "      <th>CreditScore</th>\n",
              "      <th>Geography</th>\n",
              "      <th>Gender</th>\n",
              "      <th>Age</th>\n",
              "      <th>Tenure</th>\n",
              "      <th>Balance</th>\n",
              "      <th>NumOfProducts</th>\n",
              "      <th>HasCrCard</th>\n",
              "      <th>IsActiveMember</th>\n",
              "      <th>EstimatedSalary</th>\n",
              "      <th>Exited</th>\n",
              "    </tr>\n",
              "  </thead>\n",
              "  <tbody>\n",
              "    <tr>\n",
              "      <th>3154</th>\n",
              "      <td>15724076</td>\n",
              "      <td>Christie</td>\n",
              "      <td>1.665193</td>\n",
              "      <td>Spain</td>\n",
              "      <td>Female</td>\n",
              "      <td>1.507167</td>\n",
              "      <td>-0.003768</td>\n",
              "      <td>-1.342459</td>\n",
              "      <td>2.216613</td>\n",
              "      <td>0</td>\n",
              "      <td>0</td>\n",
              "      <td>-1.069760</td>\n",
              "      <td>1</td>\n",
              "    </tr>\n",
              "    <tr>\n",
              "      <th>846</th>\n",
              "      <td>15617134</td>\n",
              "      <td>Iqbal</td>\n",
              "      <td>0.661736</td>\n",
              "      <td>France</td>\n",
              "      <td>Male</td>\n",
              "      <td>-0.295286</td>\n",
              "      <td>-0.344891</td>\n",
              "      <td>-1.342459</td>\n",
              "      <td>0.728644</td>\n",
              "      <td>1</td>\n",
              "      <td>0</td>\n",
              "      <td>1.557771</td>\n",
              "      <td>0</td>\n",
              "    </tr>\n",
              "    <tr>\n",
              "      <th>3335</th>\n",
              "      <td>15620756</td>\n",
              "      <td>Stokes</td>\n",
              "      <td>0.975950</td>\n",
              "      <td>France</td>\n",
              "      <td>Male</td>\n",
              "      <td>0.748240</td>\n",
              "      <td>0.337355</td>\n",
              "      <td>1.971065</td>\n",
              "      <td>-0.759324</td>\n",
              "      <td>1</td>\n",
              "      <td>1</td>\n",
              "      <td>-1.447019</td>\n",
              "      <td>1</td>\n",
              "    </tr>\n",
              "    <tr>\n",
              "      <th>3116</th>\n",
              "      <td>15587174</td>\n",
              "      <td>Kerr</td>\n",
              "      <td>0.763096</td>\n",
              "      <td>France</td>\n",
              "      <td>Male</td>\n",
              "      <td>-1.149080</td>\n",
              "      <td>0.678479</td>\n",
              "      <td>-1.342459</td>\n",
              "      <td>0.728644</td>\n",
              "      <td>1</td>\n",
              "      <td>1</td>\n",
              "      <td>-0.147603</td>\n",
              "      <td>1</td>\n",
              "    </tr>\n",
              "    <tr>\n",
              "      <th>1644</th>\n",
              "      <td>15661007</td>\n",
              "      <td>Thompson</td>\n",
              "      <td>0.094124</td>\n",
              "      <td>France</td>\n",
              "      <td>Male</td>\n",
              "      <td>-0.769616</td>\n",
              "      <td>-1.709384</td>\n",
              "      <td>-0.153873</td>\n",
              "      <td>-0.759324</td>\n",
              "      <td>0</td>\n",
              "      <td>0</td>\n",
              "      <td>1.407397</td>\n",
              "      <td>0</td>\n",
              "    </tr>\n",
              "  </tbody>\n",
              "</table>\n",
              "</div>"
            ],
            "text/plain": [
              "      CustomerId   Surname  CreditScore Geography  Gender       Age    Tenure  \\\n",
              "3154    15724076  Christie     1.665193     Spain  Female  1.507167 -0.003768   \n",
              "846     15617134     Iqbal     0.661736    France    Male -0.295286 -0.344891   \n",
              "3335    15620756    Stokes     0.975950    France    Male  0.748240  0.337355   \n",
              "3116    15587174      Kerr     0.763096    France    Male -1.149080  0.678479   \n",
              "1644    15661007  Thompson     0.094124    France    Male -0.769616 -1.709384   \n",
              "\n",
              "       Balance  NumOfProducts  HasCrCard  IsActiveMember  EstimatedSalary  \\\n",
              "3154 -1.342459       2.216613          0               0        -1.069760   \n",
              "846  -1.342459       0.728644          1               0         1.557771   \n",
              "3335  1.971065      -0.759324          1               1        -1.447019   \n",
              "3116 -1.342459       0.728644          1               1        -0.147603   \n",
              "1644 -0.153873      -0.759324          0               0         1.407397   \n",
              "\n",
              "      Exited  \n",
              "3154       1  \n",
              "846        0  \n",
              "3335       1  \n",
              "3116       1  \n",
              "1644       0  "
            ]
          },
          "metadata": {
            "tags": []
          },
          "execution_count": 513
        }
      ]
    },
    {
      "metadata": {
        "id": "SqbwdOfEtkSP",
        "colab_type": "code",
        "outputId": "ebd89dfe-fcb7-4a2c-9c56-51268668bb57",
        "colab": {
          "base_uri": "https://localhost:8080/",
          "height": 34
        }
      },
      "cell_type": "code",
      "source": [
        "len(valid)"
      ],
      "execution_count": 514,
      "outputs": [
        {
          "output_type": "execute_result",
          "data": {
            "text/plain": [
              "652"
            ]
          },
          "metadata": {
            "tags": []
          },
          "execution_count": 514
        }
      ]
    },
    {
      "metadata": {
        "id": "VWA9py0AuDN7",
        "colab_type": "code",
        "outputId": "b19ff072-309c-4383-d5cb-3bf5627e57c5",
        "colab": {
          "base_uri": "https://localhost:8080/",
          "height": 34
        }
      },
      "cell_type": "code",
      "source": [
        "len(train)"
      ],
      "execution_count": 515,
      "outputs": [
        {
          "output_type": "execute_result",
          "data": {
            "text/plain": [
              "2607"
            ]
          },
          "metadata": {
            "tags": []
          },
          "execution_count": 515
        }
      ]
    },
    {
      "metadata": {
        "id": "CFZwh_HDuFaN",
        "colab_type": "code",
        "colab": {}
      },
      "cell_type": "code",
      "source": [
        "from tensorflow import feature_column"
      ],
      "execution_count": 0,
      "outputs": []
    },
    {
      "metadata": {
        "id": "WwxvSe4CueNm",
        "colab_type": "code",
        "colab": {}
      },
      "cell_type": "code",
      "source": [
        "tf.random.set_seed(1)"
      ],
      "execution_count": 0,
      "outputs": []
    },
    {
      "metadata": {
        "id": "AJJn7q1tugeH",
        "colab_type": "code",
        "colab": {}
      },
      "cell_type": "code",
      "source": [
        "numeric_columns = ['CreditScore', 'Age', 'Tenure', 'Balance', 'NumOfProducts', 'EstimatedSalary']\n",
        "categorical_columns = ['Geography',\n",
        "       'Gender', 'HasCrCard',\n",
        "       'IsActiveMember']"
      ],
      "execution_count": 0,
      "outputs": []
    },
    {
      "metadata": {
        "id": "u4EuVU8JvByo",
        "colab_type": "code",
        "colab": {}
      },
      "cell_type": "code",
      "source": [
        "feature_columns=[]"
      ],
      "execution_count": 0,
      "outputs": []
    },
    {
      "metadata": {
        "id": "5Q3edwd4vi9m",
        "colab_type": "code",
        "colab": {}
      },
      "cell_type": "code",
      "source": [
        "for header in numeric_columns:\n",
        "  feature_columns.append(feature_column.numeric_column(header))"
      ],
      "execution_count": 0,
      "outputs": []
    },
    {
      "metadata": {
        "id": "GkmysgZpxR8f",
        "colab_type": "code",
        "outputId": "6a1c626b-1523-4b7f-aef0-225a377bfaa2",
        "colab": {
          "base_uri": "https://localhost:8080/",
          "height": 119
        }
      },
      "cell_type": "code",
      "source": [
        "feature_columns"
      ],
      "execution_count": 521,
      "outputs": [
        {
          "output_type": "execute_result",
          "data": {
            "text/plain": [
              "[NumericColumn(key='CreditScore', shape=(1,), default_value=None, dtype=tf.float32, normalizer_fn=None),\n",
              " NumericColumn(key='Age', shape=(1,), default_value=None, dtype=tf.float32, normalizer_fn=None),\n",
              " NumericColumn(key='Tenure', shape=(1,), default_value=None, dtype=tf.float32, normalizer_fn=None),\n",
              " NumericColumn(key='Balance', shape=(1,), default_value=None, dtype=tf.float32, normalizer_fn=None),\n",
              " NumericColumn(key='NumOfProducts', shape=(1,), default_value=None, dtype=tf.float32, normalizer_fn=None),\n",
              " NumericColumn(key='EstimatedSalary', shape=(1,), default_value=None, dtype=tf.float32, normalizer_fn=None)]"
            ]
          },
          "metadata": {
            "tags": []
          },
          "execution_count": 521
        }
      ]
    },
    {
      "metadata": {
        "id": "lN_8LqUlwF-Z",
        "colab_type": "code",
        "colab": {}
      },
      "cell_type": "code",
      "source": [
        "def get_one_hot_rom_categorical(colname):\n",
        "  categorical = feature_column.categorical_column_with_vocabulary_list(\n",
        "  colname,\n",
        "  train[colname].unique().tolist())\n",
        "  return feature_column.indicator_column(categorical)"
      ],
      "execution_count": 0,
      "outputs": []
    },
    {
      "metadata": {
        "id": "OW4pIAhKwsn3",
        "colab_type": "code",
        "outputId": "ecef5e16-efe8-466f-8dae-9a1baffebc1c",
        "colab": {
          "base_uri": "https://localhost:8080/",
          "height": 34
        }
      },
      "cell_type": "code",
      "source": [
        "get_one_hot_rom_categorical(\"Geography\")"
      ],
      "execution_count": 523,
      "outputs": [
        {
          "output_type": "execute_result",
          "data": {
            "text/plain": [
              "IndicatorColumn(categorical_column=VocabularyListCategoricalColumn(key='Geography', vocabulary_list=('Spain', 'France', 'Germany'), dtype=tf.string, default_value=-1, num_oov_buckets=0))"
            ]
          },
          "metadata": {
            "tags": []
          },
          "execution_count": 523
        }
      ]
    },
    {
      "metadata": {
        "id": "4tLo44Tvw05T",
        "colab_type": "code",
        "colab": {}
      },
      "cell_type": "code",
      "source": [
        "for col in categorical_columns:\n",
        "  feature_columns.append(get_one_hot_rom_categorical(col))"
      ],
      "execution_count": 0,
      "outputs": []
    },
    {
      "metadata": {
        "id": "i_NOZY54xlQI",
        "colab_type": "code",
        "outputId": "032e8bc8-842e-46a4-d755-891bfe4ab3b2",
        "colab": {
          "base_uri": "https://localhost:8080/",
          "height": 187
        }
      },
      "cell_type": "code",
      "source": [
        "feature_columns"
      ],
      "execution_count": 525,
      "outputs": [
        {
          "output_type": "execute_result",
          "data": {
            "text/plain": [
              "[NumericColumn(key='CreditScore', shape=(1,), default_value=None, dtype=tf.float32, normalizer_fn=None),\n",
              " NumericColumn(key='Age', shape=(1,), default_value=None, dtype=tf.float32, normalizer_fn=None),\n",
              " NumericColumn(key='Tenure', shape=(1,), default_value=None, dtype=tf.float32, normalizer_fn=None),\n",
              " NumericColumn(key='Balance', shape=(1,), default_value=None, dtype=tf.float32, normalizer_fn=None),\n",
              " NumericColumn(key='NumOfProducts', shape=(1,), default_value=None, dtype=tf.float32, normalizer_fn=None),\n",
              " NumericColumn(key='EstimatedSalary', shape=(1,), default_value=None, dtype=tf.float32, normalizer_fn=None),\n",
              " IndicatorColumn(categorical_column=VocabularyListCategoricalColumn(key='Geography', vocabulary_list=('Spain', 'France', 'Germany'), dtype=tf.string, default_value=-1, num_oov_buckets=0)),\n",
              " IndicatorColumn(categorical_column=VocabularyListCategoricalColumn(key='Gender', vocabulary_list=('Female', 'Male'), dtype=tf.string, default_value=-1, num_oov_buckets=0)),\n",
              " IndicatorColumn(categorical_column=VocabularyListCategoricalColumn(key='HasCrCard', vocabulary_list=(0, 1), dtype=tf.int64, default_value=-1, num_oov_buckets=0)),\n",
              " IndicatorColumn(categorical_column=VocabularyListCategoricalColumn(key='IsActiveMember', vocabulary_list=(1, 0), dtype=tf.int64, default_value=-1, num_oov_buckets=0))]"
            ]
          },
          "metadata": {
            "tags": []
          },
          "execution_count": 525
        }
      ]
    },
    {
      "metadata": {
        "id": "KFZHAR43xuL-",
        "colab_type": "code",
        "colab": {}
      },
      "cell_type": "code",
      "source": [
        "from tensorflow.keras import layers"
      ],
      "execution_count": 0,
      "outputs": []
    },
    {
      "metadata": {
        "id": "gVx9FbRmxxE_",
        "colab_type": "code",
        "colab": {}
      },
      "cell_type": "code",
      "source": [
        "feature_layer = layers.DenseFeatures(feature_columns)"
      ],
      "execution_count": 0,
      "outputs": []
    },
    {
      "metadata": {
        "id": "s46_DF64xy5B",
        "colab_type": "code",
        "outputId": "a52b3b5e-e556-4481-abfd-7b28fd7c2992",
        "colab": {
          "base_uri": "https://localhost:8080/",
          "height": 34
        }
      },
      "cell_type": "code",
      "source": [
        "feature_layer"
      ],
      "execution_count": 528,
      "outputs": [
        {
          "output_type": "execute_result",
          "data": {
            "text/plain": [
              "<tensorflow.python.feature_column.feature_column_v2.DenseFeatures at 0x7fd19c1d0978>"
            ]
          },
          "metadata": {
            "tags": []
          },
          "execution_count": 528
        }
      ]
    },
    {
      "metadata": {
        "id": "O8U-gEX5iAxW",
        "colab_type": "code",
        "colab": {}
      },
      "cell_type": "code",
      "source": [
        "model = keras.Sequential()\n",
        "model.add(feature_layer)\n",
        "model.add(layers.Dense(200, activation='relu'))\n",
        "model.add(layers.Dense(100, activation='relu'))\n",
        "model.add(layers.Dense(1, activation='sigmoid'))\n"
      ],
      "execution_count": 0,
      "outputs": []
    },
    {
      "metadata": {
        "id": "QO8rYGnmyGQf",
        "colab_type": "code",
        "colab": {}
      },
      "cell_type": "code",
      "source": [
        "model.compile(optimizer='adam',\n",
        "             loss='binary_crossentropy',\n",
        "             metrics=['accuracy'])"
      ],
      "execution_count": 0,
      "outputs": []
    },
    {
      "metadata": {
        "id": "MPAAtyfQyPO2",
        "colab_type": "code",
        "colab": {}
      },
      "cell_type": "code",
      "source": [
        "def df_to_tfdata(df, shuffle=True, bs=32):\n",
        "  df = df.copy()\n",
        "  labels = df.pop('Exited')\n",
        "  ds = tf.data.Dataset.from_tensor_slices((dict(df), labels))\n",
        "  if shuffle:\n",
        "    ds = ds.shuffle(buffer_size=len(df), seed=1)\n",
        "  ds = ds.batch(bs)\n",
        "  return ds"
      ],
      "execution_count": 0,
      "outputs": []
    },
    {
      "metadata": {
        "id": "N_Do88mKzAz0",
        "colab_type": "code",
        "colab": {}
      },
      "cell_type": "code",
      "source": [
        "train_ds=df_to_tfdata(train)"
      ],
      "execution_count": 0,
      "outputs": []
    },
    {
      "metadata": {
        "id": "yYKKDNBU0C1n",
        "colab_type": "code",
        "colab": {}
      },
      "cell_type": "code",
      "source": [
        "valid_ds = df_to_tfdata(valid, shuffle=False)\n",
        "test_ds = df_to_tfdata(test, shuffle=False)"
      ],
      "execution_count": 0,
      "outputs": []
    },
    {
      "metadata": {
        "id": "NfkMXyR3y2d0",
        "colab_type": "text"
      },
      "cell_type": "markdown",
      "source": [
        "## Before sampling and applying standard scaler result:\n",
        "\n",
        "#### Resulted in Dummy Model"
      ]
    },
    {
      "metadata": {
        "id": "-2FaevaB0EnI",
        "colab_type": "code",
        "outputId": "a5564ec8-51f1-41ab-9edf-74843cf96e21",
        "colab": {
          "base_uri": "https://localhost:8080/",
          "height": 204
        }
      },
      "cell_type": "code",
      "source": [
        "\n",
        "model.fit(train_ds,\n",
        "         validation_data = valid_ds,\n",
        "         epochs=5)"
      ],
      "execution_count": 420,
      "outputs": [
        {
          "output_type": "stream",
          "text": [
            "Epoch 1/5\n",
            "82/82 [==============================] - 2s 22ms/step - loss: 7.6882 - accuracy: 0.4994 - val_loss: 7.5754 - val_accuracy: 0.4985\n",
            "Epoch 2/5\n",
            "82/82 [==============================] - 2s 19ms/step - loss: 7.6882 - accuracy: 0.4994 - val_loss: 7.5754 - val_accuracy: 0.4985\n",
            "Epoch 3/5\n",
            "82/82 [==============================] - 2s 19ms/step - loss: 7.6882 - accuracy: 0.4994 - val_loss: 7.5754 - val_accuracy: 0.4985\n",
            "Epoch 4/5\n",
            "82/82 [==============================] - 2s 20ms/step - loss: 7.6882 - accuracy: 0.4994 - val_loss: 7.5754 - val_accuracy: 0.4985\n",
            "Epoch 5/5\n",
            "82/82 [==============================] - 2s 19ms/step - loss: 7.6882 - accuracy: 0.4994 - val_loss: 7.5754 - val_accuracy: 0.4985\n"
          ],
          "name": "stdout"
        },
        {
          "output_type": "execute_result",
          "data": {
            "text/plain": [
              "<tensorflow.python.keras.callbacks.History at 0x7fd1a6ca7c18>"
            ]
          },
          "metadata": {
            "tags": []
          },
          "execution_count": 420
        }
      ]
    },
    {
      "metadata": {
        "id": "INYItHAjzDnw",
        "colab_type": "text"
      },
      "cell_type": "markdown",
      "source": [
        "## After sampling and applying standard scaler result:"
      ]
    },
    {
      "metadata": {
        "id": "6SG7rMHszCnY",
        "colab_type": "code",
        "colab": {
          "base_uri": "https://localhost:8080/",
          "height": 204
        },
        "outputId": "f667593f-195f-4495-d190-ffee1c43c08e"
      },
      "cell_type": "code",
      "source": [
        "model.fit(train_ds,\n",
        "         validation_data = valid_ds,\n",
        "         epochs=5)"
      ],
      "execution_count": 534,
      "outputs": [
        {
          "output_type": "stream",
          "text": [
            "Epoch 1/5\n",
            "82/82 [==============================] - 2s 22ms/step - loss: 0.5800 - accuracy: 0.6613 - val_loss: 0.4997 - val_accuracy: 0.7684\n",
            "Epoch 2/5\n",
            "82/82 [==============================] - 2s 20ms/step - loss: 0.5045 - accuracy: 0.7500 - val_loss: 0.4590 - val_accuracy: 0.7776\n",
            "Epoch 3/5\n",
            "82/82 [==============================] - 2s 19ms/step - loss: 0.4725 - accuracy: 0.7598 - val_loss: 0.4486 - val_accuracy: 0.7745\n",
            "Epoch 4/5\n",
            "82/82 [==============================] - 2s 20ms/step - loss: 0.4595 - accuracy: 0.7678 - val_loss: 0.4465 - val_accuracy: 0.7791\n",
            "Epoch 5/5\n",
            "82/82 [==============================] - 2s 19ms/step - loss: 0.4509 - accuracy: 0.7673 - val_loss: 0.4460 - val_accuracy: 0.7853\n"
          ],
          "name": "stdout"
        },
        {
          "output_type": "execute_result",
          "data": {
            "text/plain": [
              "<tensorflow.python.keras.callbacks.History at 0x7fd19785ab00>"
            ]
          },
          "metadata": {
            "tags": []
          },
          "execution_count": 534
        }
      ]
    },
    {
      "metadata": {
        "id": "cgk_lTKppGj7",
        "colab_type": "code",
        "colab": {
          "base_uri": "https://localhost:8080/",
          "height": 51
        },
        "outputId": "f1786048-4291-40be-9c0a-32df62a9a148"
      },
      "cell_type": "code",
      "source": [
        "model.evaluate(test_ds)"
      ],
      "execution_count": 535,
      "outputs": [
        {
          "output_type": "stream",
          "text": [
            "26/26 [==============================] - 0s 13ms/step - loss: 0.4637 - accuracy: 0.7853\n"
          ],
          "name": "stdout"
        },
        {
          "output_type": "execute_result",
          "data": {
            "text/plain": [
              "[0.4637184211840996, 0.78527606]"
            ]
          },
          "metadata": {
            "tags": []
          },
          "execution_count": 535
        }
      ]
    }
  ]
}