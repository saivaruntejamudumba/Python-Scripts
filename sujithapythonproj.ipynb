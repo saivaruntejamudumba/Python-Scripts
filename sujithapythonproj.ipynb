{
  "nbformat": 4,
  "nbformat_minor": 0,
  "metadata": {
    "colab": {
      "name": "sujithapythonproj.ipynb",
      "version": "0.3.2",
      "provenance": [],
      "collapsed_sections": [],
      "include_colab_link": true
    },
    "kernelspec": {
      "name": "python3",
      "display_name": "Python 3"
    },
    "accelerator": "GPU"
  },
  "cells": [
    {
      "cell_type": "markdown",
      "metadata": {
        "id": "view-in-github",
        "colab_type": "text"
      },
      "source": [
        "<a href=\"https://colab.research.google.com/github/saivaruntejamudumba/Python-Scripts/blob/master/sujithapythonproj.ipynb\" target=\"_parent\"><img src=\"https://colab.research.google.com/assets/colab-badge.svg\" alt=\"Open In Colab\"/></a>"
      ]
    },
    {
      "cell_type": "code",
      "metadata": {
        "id": "PYHMpzM80mpb",
        "colab_type": "code",
        "colab": {}
      },
      "source": [
        "import re\n",
        "\n",
        "bm = ['ALK', 'EGFR', 'HRAS', 'PD-L1', 'BRCA1','BRCA2','GATA3','GATA2','PROGESTERONE', 'ESTROGEN', 'RECEPTOR\\n']\n",
        "\n",
        "\n",
        "pnvlist=['positive','positive\\n''positive:', 'negative','negtive']\n",
        "\n",
        "faillist=['failed','retest','unable']\n",
        "dictwithlists={}\n",
        "for i in range(3000):\n",
        "  if((i==2761) | (i==2907)):\n",
        "    continue\n",
        "    \n",
        "  else:\n",
        "    f= open(\"report.\"+str(i)+\".txt\",\"r\")\n",
        "    next(f)\n",
        "    l=[]\n",
        "    l.append(i+1)\n",
        "    bmlist=[]\n",
        "    plist=[]\n",
        "    fllist=[]\n",
        "    percent= \"NULL\"\n",
        "    intensity= \"NULL\"\n",
        "    for line in f:\n",
        "    \n",
        "      #For bio markers\n",
        "      wlist=[]\n",
        "      wlist=line.split(' ')\n",
        "      for w in wlist:\n",
        "        if w in bm:\n",
        "          bmlist.append(w.strip('\\n'))\n",
        "      bstr=' '.join(bmlist)\n",
        "    \n",
        "      #For sentiment\n",
        "      slist=[]\n",
        "      slist=line.lower().split(' ')\n",
        "      for s in slist:\n",
        "        if s.strip('\\n') in pnvlist:\n",
        "          plist.append(s)\n",
        "    \n",
        "      #For failed case\n",
        "      flist=[]\n",
        "      flist=line.lower().split(' ')\n",
        "      for s in range(len(flist)):\n",
        "        if flist[s] in faillist:\n",
        "          fllist.append(flist[s])\n",
        "    \n",
        "      #For percentage\n",
        "    \n",
        "      regex = r\".\\d%\"\n",
        "      matches = re.finditer(regex, line, re.MULTILINE)\n",
        "      for matchNum, match in enumerate(matches, start=1):\n",
        "        percent=match.group()\n",
        "    \n",
        "      #For Intensity\n",
        "    \n",
        "      regex = r\".\\d[+*].\"\n",
        "      matches = re.finditer(regex, line, re.MULTILINE)\n",
        "      for matchNum, match in enumerate(matches, start=1):\n",
        "        intensity=match.group()\n",
        "    \n",
        "        \n",
        "    if ((len(bmlist) == 0) and (len(fllist)==0)):\n",
        "      l.append('no_biomarkers')\n",
        "    \n",
        "    elif len(fllist)!=0:\n",
        "      l.append('failed')\n",
        "    else:\n",
        "      if len(plist) == 0:\n",
        "        l.append(\"pos_neg_vous\")\n",
        "        bdict={bstr: 'vous'}\n",
        "        l.append(bdict)\n",
        "      else:\n",
        "        l.append(\"pos_neg_vous\")\n",
        "        bdict={bstr: plist[0].strip('\\n')}\n",
        "        l.append(bdict)\n",
        "    if(percent != \"NULL\"):\n",
        "      l.append(percent)\n",
        "    if(intensity != \"NULL\"):\n",
        "      l.append(intensity)\n",
        "  \n",
        "  \n",
        "    dictwithlists.update({i+1: l})"
      ],
      "execution_count": 0,
      "outputs": []
    },
    {
      "cell_type": "code",
      "metadata": {
        "id": "PRPsPYpn9H9H",
        "colab_type": "code",
        "colab": {}
      },
      "source": [
        "with open('outputs.tsv', 'w') as file:\n",
        "    for nested_list in dictwithlists.values():\n",
        "        for word in nested_list:\n",
        "             file.write(str(word) + '\\t')\n",
        "        file.write('\\n')"
      ],
      "execution_count": 0,
      "outputs": []
    }
  ]
}