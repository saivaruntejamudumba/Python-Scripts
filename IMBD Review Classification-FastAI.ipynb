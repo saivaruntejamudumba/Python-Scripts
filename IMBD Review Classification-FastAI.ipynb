{
  "nbformat": 4,
  "nbformat_minor": 0,
  "metadata": {
    "colab": {
      "name": "Mudumba_SelfStudy7.ipynb",
      "version": "0.3.2",
      "provenance": [],
      "collapsed_sections": []
    },
    "kernelspec": {
      "name": "python3",
      "display_name": "Python 3"
    },
    "accelerator": "GPU"
  },
  "cells": [
    {
      "metadata": {
        "id": "6J7_yXb7k341",
        "colab_type": "code",
        "colab": {}
      },
      "cell_type": "code",
      "source": [
        ""
      ],
      "execution_count": 0,
      "outputs": []
    },
    {
      "metadata": {
        "id": "9NRaYvdClF0B",
        "colab_type": "text"
      },
      "cell_type": "markdown",
      "source": [
        "#IMDB REVIEW CLASSIFICATION USING FastAI"
      ]
    },
    {
      "metadata": {
        "id": "aogkzLY4li9a",
        "colab_type": "text"
      },
      "cell_type": "markdown",
      "source": [
        "#IMDB Review Classification"
      ]
    },
    {
      "metadata": {
        "id": "8EZpbWmIBAdA",
        "colab_type": "code",
        "colab": {}
      },
      "cell_type": "code",
      "source": [
        "%reload_ext autoreload\n",
        "%autoreload 2\n",
        "%matplotlib inline"
      ],
      "execution_count": 0,
      "outputs": []
    },
    {
      "metadata": {
        "id": "AGz9ciYOGyKb",
        "colab_type": "code",
        "colab": {}
      },
      "cell_type": "code",
      "source": [
        "from fastai import *\n",
        "from fastai.text import *"
      ],
      "execution_count": 0,
      "outputs": []
    },
    {
      "metadata": {
        "id": "OmDbbx8flxtI",
        "colab_type": "text"
      },
      "cell_type": "markdown",
      "source": [
        "###Data Preparation"
      ]
    },
    {
      "metadata": {
        "id": "_iRYoMWoBHp2",
        "colab_type": "code",
        "colab": {
          "base_uri": "https://localhost:8080/",
          "height": 52
        },
        "outputId": "4c2bb3a1-c4dd-4617-8eb2-2f1ac6c904c1"
      },
      "cell_type": "code",
      "source": [
        "path = untar_data(URLs.IMDB_SAMPLE)\n",
        "path.ls()"
      ],
      "execution_count": 30,
      "outputs": [
        {
          "output_type": "execute_result",
          "data": {
            "text/plain": [
              "[PosixPath('/root/.fastai/data/imdb_sample/texts.csv'),\n",
              " PosixPath('/root/.fastai/data/imdb_sample/data_save.pkl')]"
            ]
          },
          "metadata": {
            "tags": []
          },
          "execution_count": 30
        }
      ]
    },
    {
      "metadata": {
        "id": "3sXlk448BMDn",
        "colab_type": "code",
        "colab": {
          "base_uri": "https://localhost:8080/",
          "height": 203
        },
        "outputId": "1babb3ee-bc6d-4b4b-cc26-c6dd1ef95383"
      },
      "cell_type": "code",
      "source": [
        "df = pd.read_csv(path/'texts.csv')\n",
        "df.head()"
      ],
      "execution_count": 31,
      "outputs": [
        {
          "output_type": "execute_result",
          "data": {
            "text/html": [
              "<div>\n",
              "<style scoped>\n",
              "    .dataframe tbody tr th:only-of-type {\n",
              "        vertical-align: middle;\n",
              "    }\n",
              "\n",
              "    .dataframe tbody tr th {\n",
              "        vertical-align: top;\n",
              "    }\n",
              "\n",
              "    .dataframe thead th {\n",
              "        text-align: right;\n",
              "    }\n",
              "</style>\n",
              "<table border=\"1\" class=\"dataframe\">\n",
              "  <thead>\n",
              "    <tr style=\"text-align: right;\">\n",
              "      <th></th>\n",
              "      <th>label</th>\n",
              "      <th>text</th>\n",
              "      <th>is_valid</th>\n",
              "    </tr>\n",
              "  </thead>\n",
              "  <tbody>\n",
              "    <tr>\n",
              "      <th>0</th>\n",
              "      <td>negative</td>\n",
              "      <td>Un-bleeping-believable! Meg Ryan doesn't even ...</td>\n",
              "      <td>False</td>\n",
              "    </tr>\n",
              "    <tr>\n",
              "      <th>1</th>\n",
              "      <td>positive</td>\n",
              "      <td>This is a extremely well-made film. The acting...</td>\n",
              "      <td>False</td>\n",
              "    </tr>\n",
              "    <tr>\n",
              "      <th>2</th>\n",
              "      <td>negative</td>\n",
              "      <td>Every once in a long while a movie will come a...</td>\n",
              "      <td>False</td>\n",
              "    </tr>\n",
              "    <tr>\n",
              "      <th>3</th>\n",
              "      <td>positive</td>\n",
              "      <td>Name just says it all. I watched this movie wi...</td>\n",
              "      <td>False</td>\n",
              "    </tr>\n",
              "    <tr>\n",
              "      <th>4</th>\n",
              "      <td>negative</td>\n",
              "      <td>This movie succeeds at being one of the most u...</td>\n",
              "      <td>False</td>\n",
              "    </tr>\n",
              "  </tbody>\n",
              "</table>\n",
              "</div>"
            ],
            "text/plain": [
              "      label                                               text  is_valid\n",
              "0  negative  Un-bleeping-believable! Meg Ryan doesn't even ...     False\n",
              "1  positive  This is a extremely well-made film. The acting...     False\n",
              "2  negative  Every once in a long while a movie will come a...     False\n",
              "3  positive  Name just says it all. I watched this movie wi...     False\n",
              "4  negative  This movie succeeds at being one of the most u...     False"
            ]
          },
          "metadata": {
            "tags": []
          },
          "execution_count": 31
        }
      ]
    },
    {
      "metadata": {
        "id": "D3W-iTarBOil",
        "colab_type": "code",
        "colab": {
          "base_uri": "https://localhost:8080/",
          "height": 55
        },
        "outputId": "cf79e13c-30be-4969-bafb-48bc01264fd0"
      },
      "cell_type": "code",
      "source": [
        "df['text'][1]"
      ],
      "execution_count": 32,
      "outputs": [
        {
          "output_type": "execute_result",
          "data": {
            "text/plain": [
              "'This is a extremely well-made film. The acting, script and camera-work are all first-rate. The music is good, too, though it is mostly early in the film, when things are still relatively cheery. There are no really superstars in the cast, though several faces will be familiar. The entire cast does an excellent job with the script.<br /><br />But it is hard to watch, because there is no good end to a situation like the one presented. It is now fashionable to blame the British for setting Hindus and Muslims against each other, and then cruelly separating them into two countries. There is some merit in this view, but it\\'s also true that no one forced Hindus and Muslims in the region to mistreat each other as they did around the time of partition. It seems more likely that the British simply saw the tensions between the religions and were clever enough to exploit them to their own ends.<br /><br />The result is that there is much cruelty and inhumanity in the situation and this is very unpleasant to remember and to see on the screen. But it is never painted as a black-and-white case. There is baseness and nobility on both sides, and also the hope for change in the younger generation.<br /><br />There is redemption of a sort, in the end, when Puro has to make a hard choice between a man who has ruined her life, but also truly loved her, and her family which has disowned her, then later come looking for her. But by that point, she has no option that is without great pain for her.<br /><br />This film carries the message that both Muslims and Hindus have their grave faults, and also that both can be dignified and caring people. The reality of partition makes that realisation all the more wrenching, since there can never be real reconciliation across the India/Pakistan border. In that sense, it is similar to \"Mr & Mrs Iyer\".<br /><br />In the end, we were glad to have seen the film, even though the resolution was heartbreaking. If the UK and US could deal with their own histories of racism with this kind of frankness, they would certainly be better off.'"
            ]
          },
          "metadata": {
            "tags": []
          },
          "execution_count": 32
        }
      ]
    },
    {
      "metadata": {
        "id": "0v8miTVhBQlZ",
        "colab_type": "code",
        "colab": {}
      },
      "cell_type": "code",
      "source": [
        "data_lm = TextDataBunch.from_csv(path, 'texts.csv')"
      ],
      "execution_count": 0,
      "outputs": []
    },
    {
      "metadata": {
        "id": "XJQVcECjBTUV",
        "colab_type": "code",
        "colab": {}
      },
      "cell_type": "code",
      "source": [
        "data_lm.save()"
      ],
      "execution_count": 0,
      "outputs": []
    },
    {
      "metadata": {
        "id": "eKNsQUCgBXSg",
        "colab_type": "code",
        "colab": {}
      },
      "cell_type": "code",
      "source": [
        "data = load_data(path)"
      ],
      "execution_count": 0,
      "outputs": []
    },
    {
      "metadata": {
        "id": "EjnOug5Cl801",
        "colab_type": "text"
      },
      "cell_type": "markdown",
      "source": [
        "###Tokenization"
      ]
    },
    {
      "metadata": {
        "id": "Mwzka8MEBZgw",
        "colab_type": "code",
        "colab": {
          "base_uri": "https://localhost:8080/",
          "height": 289
        },
        "outputId": "7014ece0-304f-4177-b5a5-e4fbf81d4746"
      },
      "cell_type": "code",
      "source": [
        "data = TextClasDataBunch.from_csv(path, 'texts.csv')\n",
        "data.show_batch()"
      ],
      "execution_count": 36,
      "outputs": [
        {
          "output_type": "display_data",
          "data": {
            "text/html": [
              "<table border=\"1\" class=\"dataframe\">\n",
              "  <thead>\n",
              "    <tr style=\"text-align: right;\">\n",
              "      <th>text</th>\n",
              "      <th>target</th>\n",
              "    </tr>\n",
              "  </thead>\n",
              "  <tbody>\n",
              "    <tr>\n",
              "      <td>xxbos xxmaj now that xxmaj che(2008 ) has finished its relatively short xxmaj australian cinema run ( extremely limited xxunk screen in xxmaj xxunk , after xxunk ) , i can xxunk join both xxunk of \" xxmaj at xxmaj the xxmaj movies \" in taking xxmaj steven xxmaj soderbergh to task . \\n \\n  xxmaj it 's usually satisfying to watch a film director change his style /</td>\n",
              "      <td>negative</td>\n",
              "    </tr>\n",
              "    <tr>\n",
              "      <td>xxbos xxmaj this film sat on my xxmaj tivo for weeks before i watched it . i dreaded a self - indulgent xxunk flick about relationships gone bad . i was wrong ; this was an xxunk xxunk into the screwed - up xxunk of xxmaj new xxmaj yorkers . \\n \\n  xxmaj the format is the same as xxmaj max xxmaj xxunk ' \" xxmaj la xxmaj ronde</td>\n",
              "      <td>positive</td>\n",
              "    </tr>\n",
              "    <tr>\n",
              "      <td>xxbos xxmaj many neglect that this is n't just a classic due to the fact that it 's the first xxup 3d game , or even the first xxunk - up . xxmaj it 's also one of the first stealth games , one of the xxunk definitely the first ) truly claustrophobic games , and just a pretty well - xxunk gaming experience in general . xxmaj with graphics</td>\n",
              "      <td>positive</td>\n",
              "    </tr>\n",
              "    <tr>\n",
              "      <td>xxbos xxmaj to review this movie , i without any doubt would have to quote that memorable scene in xxmaj tarantino 's \" xxmaj pulp xxmaj fiction \" ( xxunk ) when xxmaj jules and xxmaj vincent are talking about xxmaj mia xxmaj wallace and what she does for a living . xxmaj jules tells xxmaj vincent that the \" xxmaj only thing she did worthwhile was pilot \" .</td>\n",
              "      <td>negative</td>\n",
              "    </tr>\n",
              "    <tr>\n",
              "      <td>xxbos xxmaj how viewers react to this new \" adaption \" of xxmaj shirley xxmaj jackson 's book , which was promoted as xxup not being a remake of the original 1963 movie ( true enough ) , will be based , i suspect , on the following : those who were big fans of either the book or original movie are not going to think much of this one</td>\n",
              "      <td>negative</td>\n",
              "    </tr>\n",
              "  </tbody>\n",
              "</table>"
            ],
            "text/plain": [
              "<IPython.core.display.HTML object>"
            ]
          },
          "metadata": {
            "tags": []
          }
        }
      ]
    },
    {
      "metadata": {
        "id": "J08leepWmDpm",
        "colab_type": "text"
      },
      "cell_type": "markdown",
      "source": [
        "###Numericalization"
      ]
    },
    {
      "metadata": {
        "id": "lfdn2BKZBcP5",
        "colab_type": "code",
        "colab": {
          "base_uri": "https://localhost:8080/",
          "height": 193
        },
        "outputId": "7666d1ac-a133-48ca-dc37-0e76f456e145"
      },
      "cell_type": "code",
      "source": [
        "data.vocab.itos[:10]"
      ],
      "execution_count": 37,
      "outputs": [
        {
          "output_type": "execute_result",
          "data": {
            "text/plain": [
              "['xxunk',\n",
              " 'xxpad',\n",
              " 'xxbos',\n",
              " 'xxfld',\n",
              " 'xxmaj',\n",
              " 'xxup',\n",
              " 'xxrep',\n",
              " 'xxwrep',\n",
              " 'the',\n",
              " ',']"
            ]
          },
          "metadata": {
            "tags": []
          },
          "execution_count": 37
        }
      ]
    },
    {
      "metadata": {
        "id": "YwFQaC1hBf_w",
        "colab_type": "code",
        "colab": {
          "base_uri": "https://localhost:8080/",
          "height": 336
        },
        "outputId": "209198b9-0fc7-468c-918d-58a416a039b5"
      },
      "cell_type": "code",
      "source": [
        "data.train_ds[0][0]"
      ],
      "execution_count": 38,
      "outputs": [
        {
          "output_type": "execute_result",
          "data": {
            "text/plain": [
              "Text xxbos i do n't think most of us would tend to apply the term \" must - see \" to action films , but i was very impressed at how good this film was and it deservedly gets the \" must - see \" xxunk from me . \n",
              " \n",
              "  xxmaj mandy played by xxmaj xxunk xxmaj lee ( daughter of the late and great xxmaj bruce xxmaj lee and sister of the late xxmaj brandon xxmaj lee ) is xxunk by xxmaj martin , a professional thief to help pull off a diamond heist at a museum for a criminal syndicate , and get rewarded xxunk for it . xxmaj little do they know that another pair of thieves ( xxmaj lucy and xxmaj tommy , a pair of xxunk ) , who were xxunk earlier by xxmaj mandy and xxmaj martin to get in on the deal , are also planning to steal the diamond . \n",
              " \n",
              "  xxmaj how each pair of thieves plans out the heist is a xxunk to watch . xxmaj things go awry , as xxmaj martin and xxmaj mandy xxunk find themselves a step behind xxmaj lucy and xxmaj tommy . \n",
              " \n",
              "  xxmaj you 'll find yourself rooting for these thieves as they find that they need each other to stay alive from the crime syndicate , who are not happy at all that the diamond is not in its hands . \n",
              " \n",
              "  xxmaj action fans will not be disappointed , as there 's a healthy dose of gun battles , martial arts , and hand - to - hand combat sequences . \n",
              " \n",
              "  xxmaj what is surprising is that , it 's not just the action that carries this film , but the romance and laughs ( and i do n't mean your typical one - liners prevalent in action films ) that sneak in . \n",
              " \n",
              "  xxmaj it 's not easy to root for bad guys , but we get to see the human side of these thieves and the chemistry they develop . \n",
              " \n",
              "  a great film and one xxup not to miss ! \n",
              " \n",
              "  9 out of 10"
            ]
          },
          "metadata": {
            "tags": []
          },
          "execution_count": 38
        }
      ]
    },
    {
      "metadata": {
        "id": "wDW1hQ17Bih_",
        "colab_type": "code",
        "colab": {
          "base_uri": "https://localhost:8080/",
          "height": 35
        },
        "outputId": "20201d46-f572-4d84-f053-4dc558a42a6d"
      },
      "cell_type": "code",
      "source": [
        "data.train_ds[0][0].data[:10]"
      ],
      "execution_count": 39,
      "outputs": [
        {
          "output_type": "execute_result",
          "data": {
            "text/plain": [
              "array([   2,   18,   59,   34,  124,  110,   13,  196,   73, 1450])"
            ]
          },
          "metadata": {
            "tags": []
          },
          "execution_count": 39
        }
      ]
    },
    {
      "metadata": {
        "id": "y9O4w42gBkyr",
        "colab_type": "code",
        "colab": {}
      },
      "cell_type": "code",
      "source": [
        "data = (TextList.from_csv(path, 'texts.csv', cols='text')\n",
        "                .split_from_df(col=2)\n",
        "                .label_from_df(cols=0)\n",
        "                .databunch())"
      ],
      "execution_count": 0,
      "outputs": []
    },
    {
      "metadata": {
        "id": "RucoIW8CmQtc",
        "colab_type": "text"
      },
      "cell_type": "markdown",
      "source": [
        "###Language Model"
      ]
    },
    {
      "metadata": {
        "id": "MG9rhxHZBnBk",
        "colab_type": "code",
        "colab": {}
      },
      "cell_type": "code",
      "source": [
        "bs=48"
      ],
      "execution_count": 0,
      "outputs": []
    },
    {
      "metadata": {
        "id": "lQKMtRmhBqvd",
        "colab_type": "code",
        "colab": {
          "base_uri": "https://localhost:8080/",
          "height": 175
        },
        "outputId": "3283ce46-9fed-429d-e43c-cd4c1913bc59"
      },
      "cell_type": "code",
      "source": [
        "path = untar_data(URLs.IMDB)\n",
        "path.ls()"
      ],
      "execution_count": 42,
      "outputs": [
        {
          "output_type": "execute_result",
          "data": {
            "text/plain": [
              "[PosixPath('/root/.fastai/data/imdb/train'),\n",
              " PosixPath('/root/.fastai/data/imdb/data_lm.pkl'),\n",
              " PosixPath('/root/.fastai/data/imdb/README'),\n",
              " PosixPath('/root/.fastai/data/imdb/models'),\n",
              " PosixPath('/root/.fastai/data/imdb/imdb.vocab'),\n",
              " PosixPath('/root/.fastai/data/imdb/tmp_lm'),\n",
              " PosixPath('/root/.fastai/data/imdb/unsup'),\n",
              " PosixPath('/root/.fastai/data/imdb/tmp_clas'),\n",
              " PosixPath('/root/.fastai/data/imdb/test')]"
            ]
          },
          "metadata": {
            "tags": []
          },
          "execution_count": 42
        }
      ]
    },
    {
      "metadata": {
        "id": "LvH_YZq4BtSf",
        "colab_type": "code",
        "colab": {
          "base_uri": "https://localhost:8080/",
          "height": 87
        },
        "outputId": "6f9a2ba1-2f77-4fd0-af4f-afccdbf57a37"
      },
      "cell_type": "code",
      "source": [
        "(path/'train').ls()"
      ],
      "execution_count": 43,
      "outputs": [
        {
          "output_type": "execute_result",
          "data": {
            "text/plain": [
              "[PosixPath('/root/.fastai/data/imdb/train/neg'),\n",
              " PosixPath('/root/.fastai/data/imdb/train/unsupBow.feat'),\n",
              " PosixPath('/root/.fastai/data/imdb/train/pos'),\n",
              " PosixPath('/root/.fastai/data/imdb/train/labeledBow.feat')]"
            ]
          },
          "metadata": {
            "tags": []
          },
          "execution_count": 43
        }
      ]
    },
    {
      "metadata": {
        "id": "8sOy3D8IBwqZ",
        "colab_type": "code",
        "colab": {}
      },
      "cell_type": "code",
      "source": [
        "data_lm = (TextList.from_folder(path)\n",
        "           #Inputs: all the text files in path\n",
        "            .filter_by_folder(include=['train', 'test', 'unsup']) \n",
        "           #We may have other temp folders that contain text files so we only keep what's in train and test\n",
        "            .split_by_rand_pct(0.1)\n",
        "           #We randomly split and keep 10% (10,000 reviews) for validation\n",
        "            .label_for_lm()           \n",
        "           #We want to do a language model so we label accordingly\n",
        "            .databunch(bs=bs))\n",
        "data_lm.save('data_lm.pkl')"
      ],
      "execution_count": 0,
      "outputs": []
    },
    {
      "metadata": {
        "id": "O4M4X7SGBwsP",
        "colab_type": "code",
        "colab": {}
      },
      "cell_type": "code",
      "source": [
        "data_lm = load_data(path, 'data_lm.pkl', bs=bs)"
      ],
      "execution_count": 0,
      "outputs": []
    },
    {
      "metadata": {
        "id": "SGN80I1OBwvk",
        "colab_type": "code",
        "colab": {
          "base_uri": "https://localhost:8080/",
          "height": 289
        },
        "outputId": "07c63494-7591-4dd2-a875-cf78539a4bbf"
      },
      "cell_type": "code",
      "source": [
        "data_lm.show_batch()"
      ],
      "execution_count": 47,
      "outputs": [
        {
          "output_type": "display_data",
          "data": {
            "text/html": [
              "<table border=\"1\" class=\"dataframe\">\n",
              "  <thead>\n",
              "    <tr style=\"text-align: right;\">\n",
              "      <th>idx</th>\n",
              "      <th>text</th>\n",
              "    </tr>\n",
              "  </thead>\n",
              "  <tbody>\n",
              "    <tr>\n",
              "      <td>0</td>\n",
              "      <td>current , which it would n't . \\n \\n  xxmaj it would be possible with a dozen large car batteries and an xxunk , but that system would n't fit into the case . xxmaj sorry to be anal , but this is n't even close to being plausible . xxmaj the rest of the film was n't a great deal better and i 'm left wondering why the</td>\n",
              "    </tr>\n",
              "    <tr>\n",
              "      <td>1</td>\n",
              "      <td>the most interesting thing in this film . despite its short running time ( just over an hour ) i think the reason that this film was rarely seen on xxup tv was that after 20 minutes you begin to lose patience with it . xxmaj as good as the talk is , i just wished someone would do something . xxmaj when it finally did happen , in the</td>\n",
              "    </tr>\n",
              "    <tr>\n",
              "      <td>2</td>\n",
              "      <td>a slimy corporate lawyer ) . xxmaj the slim story , about a grueling audition for a xxmaj broadway show which turns into a therapy session for the actor - dancer - singers , is pushed right up on us , with loud , brassy talents playing to the rafters . xxmaj nothing is modulated or subtle , particularly a laughable subplot about a ex - dancer returning to the</td>\n",
              "    </tr>\n",
              "    <tr>\n",
              "      <td>3</td>\n",
              "      <td>pooja xxmaj singh ( xxmaj kareena xxmaj kapoor ) , who 's not exactly who she seems , the meek and sweet natured hottie . xxmaj she engages xxmaj jimmy 's services for her boss , mobster xxmaj bhaiyyaji ( xxmaj anil xxmaj kapoor ) , who probably gets most of the laughs as he speaks broken xxmaj english and phrases must like how an ah - xxunk does it</td>\n",
              "    </tr>\n",
              "    <tr>\n",
              "      <td>4</td>\n",
              "      <td>slow and sadly not funny . xxmaj just plain boring xxunk running into each other and trying to make us laugh .. not working . \\n \\n  xxmaj maybe next time knox . \\n \\n  xxmaj maybe re - cutting this movie and adding better scenes would do a lot of healing but for now its just not good . xxbos xxmaj during the xxmaj civil xxmaj war</td>\n",
              "    </tr>\n",
              "  </tbody>\n",
              "</table>"
            ],
            "text/plain": [
              "<IPython.core.display.HTML object>"
            ]
          },
          "metadata": {
            "tags": []
          }
        }
      ]
    },
    {
      "metadata": {
        "id": "ox0Wd6iABwyd",
        "colab_type": "code",
        "colab": {}
      },
      "cell_type": "code",
      "source": [
        "learn = language_model_learner(data_lm, AWD_LSTM, drop_mult=0.3)"
      ],
      "execution_count": 0,
      "outputs": []
    },
    {
      "metadata": {
        "id": "uRvpK8qiB_Ii",
        "colab_type": "code",
        "colab": {
          "base_uri": "https://localhost:8080/",
          "height": 35
        },
        "outputId": "a51ae40a-7667-4dbe-c191-a78c85115748"
      },
      "cell_type": "code",
      "source": [
        "learn.lr_find()"
      ],
      "execution_count": 49,
      "outputs": [
        {
          "output_type": "display_data",
          "data": {
            "text/html": [
              ""
            ],
            "text/plain": [
              "<IPython.core.display.HTML object>"
            ]
          },
          "metadata": {
            "tags": []
          }
        },
        {
          "output_type": "stream",
          "text": [
            "LR Finder is complete, type {learner_name}.recorder.plot() to see the graph.\n"
          ],
          "name": "stdout"
        }
      ]
    },
    {
      "metadata": {
        "id": "1CPxG_OJZkyS",
        "colab_type": "code",
        "colab": {
          "base_uri": "https://localhost:8080/",
          "height": 279
        },
        "outputId": "c31ded8d-fac4-47b9-81e2-5d8b48714096"
      },
      "cell_type": "code",
      "source": [
        "learn.recorder.plot(skip_end=15)"
      ],
      "execution_count": 50,
      "outputs": [
        {
          "output_type": "display_data",
          "data": {
            "image/png": "[encoded data removed]",
            "text/plain": [
              "<Figure size 432x288 with 1 Axes>"
            ]
          },
          "metadata": {
            "tags": []
          }
        }
      ]
    },
    {
      "metadata": {
        "id": "lHf4MnhqB_PZ",
        "colab_type": "code",
        "colab": {
          "base_uri": "https://localhost:8080/",
          "height": 103
        },
        "outputId": "0132c193-0fc1-4529-f4ce-adcaf0e579cc"
      },
      "cell_type": "code",
      "source": [
        "learn.fit_one_cycle(1, 1e-2, moms=(0.8,0.7))"
      ],
      "execution_count": 51,
      "outputs": [
        {
          "output_type": "display_data",
          "data": {
            "text/html": [
              "Total time: 1:25:00 <p><table border=\"1\" class=\"dataframe\">\n",
              "  <thead>\n",
              "    <tr style=\"text-align: left;\">\n",
              "      <th>epoch</th>\n",
              "      <th>train_loss</th>\n",
              "      <th>valid_loss</th>\n",
              "      <th>accuracy</th>\n",
              "      <th>time</th>\n",
              "    </tr>\n",
              "  </thead>\n",
              "  <tbody>\n",
              "    <tr>\n",
              "      <td>0</td>\n",
              "      <td>4.216326</td>\n",
              "      <td>4.056893</td>\n",
              "      <td>0.293112</td>\n",
              "      <td>1:25:00</td>\n",
              "    </tr>\n",
              "  </tbody>\n",
              "</table>"
            ],
            "text/plain": [
              "<IPython.core.display.HTML object>"
            ]
          },
          "metadata": {
            "tags": []
          }
        }
      ]
    },
    {
      "metadata": {
        "id": "Qm89F8uTB_HH",
        "colab_type": "code",
        "colab": {}
      },
      "cell_type": "code",
      "source": [
        "learn.save('fit_head')"
      ],
      "execution_count": 0,
      "outputs": []
    },
    {
      "metadata": {
        "id": "9bNeGII_oUKs",
        "colab_type": "code",
        "colab": {}
      },
      "cell_type": "code",
      "source": [
        "learn.load('fit_head');"
      ],
      "execution_count": 0,
      "outputs": []
    },
    {
      "metadata": {
        "id": "JR1-9aLwoUMv",
        "colab_type": "code",
        "colab": {}
      },
      "cell_type": "code",
      "source": [
        "learn.unfreeze()"
      ],
      "execution_count": 0,
      "outputs": []
    },
    {
      "metadata": {
        "id": "Oxzd8Jb8oUQN",
        "colab_type": "code",
        "colab": {
          "base_uri": "https://localhost:8080/",
          "height": 103
        },
        "outputId": "f7baffb7-67d7-49ff-dfaa-893cda458006"
      },
      "cell_type": "code",
      "source": [
        "learn.fit_one_cycle(1, 1e-3, moms=(0.8,0.7))"
      ],
      "execution_count": 55,
      "outputs": [
        {
          "output_type": "display_data",
          "data": {
            "text/html": [
              "Total time: 1:34:47 <p><table border=\"1\" class=\"dataframe\">\n",
              "  <thead>\n",
              "    <tr style=\"text-align: left;\">\n",
              "      <th>epoch</th>\n",
              "      <th>train_loss</th>\n",
              "      <th>valid_loss</th>\n",
              "      <th>accuracy</th>\n",
              "      <th>time</th>\n",
              "    </tr>\n",
              "  </thead>\n",
              "  <tbody>\n",
              "    <tr>\n",
              "      <td>0</td>\n",
              "      <td>3.871475</td>\n",
              "      <td>3.797189</td>\n",
              "      <td>0.322009</td>\n",
              "      <td>1:34:47</td>\n",
              "    </tr>\n",
              "  </tbody>\n",
              "</table>"
            ],
            "text/plain": [
              "<IPython.core.display.HTML object>"
            ]
          },
          "metadata": {
            "tags": []
          }
        }
      ]
    },
    {
      "metadata": {
        "id": "IyR70UKcu5ku",
        "colab_type": "text"
      },
      "cell_type": "markdown",
      "source": [
        "In this case I changed the cycle length parameter of the fit_one_cycle method to 1 from 10 since I face some GPU performance and memory allocation problems."
      ]
    },
    {
      "metadata": {
        "id": "m5Hjp_eboUSN",
        "colab_type": "code",
        "colab": {}
      },
      "cell_type": "code",
      "source": [
        "learn.save('fine_tuned')"
      ],
      "execution_count": 0,
      "outputs": []
    },
    {
      "metadata": {
        "id": "0keGiw8ToUVo",
        "colab_type": "code",
        "colab": {}
      },
      "cell_type": "code",
      "source": [
        "learn.load('fine_tuned');"
      ],
      "execution_count": 0,
      "outputs": []
    },
    {
      "metadata": {
        "id": "TXEEabs0oUXk",
        "colab_type": "code",
        "colab": {}
      },
      "cell_type": "code",
      "source": [
        "TEXT = \"I liked this movie because\"\n",
        "N_WORDS = 40\n",
        "N_SENTENCES = 2"
      ],
      "execution_count": 0,
      "outputs": []
    },
    {
      "metadata": {
        "id": "brMSVQJxoUbF",
        "colab_type": "code",
        "colab": {
          "base_uri": "https://localhost:8080/",
          "height": 107
        },
        "outputId": "de61a952-370a-4c2b-dc4b-8a24018a8f38"
      },
      "cell_type": "code",
      "source": [
        "print(\"\\n\".join(learn.predict(TEXT, N_WORDS, temperature=0.75) for _ in range(N_SENTENCES)))"
      ],
      "execution_count": 66,
      "outputs": [
        {
          "output_type": "stream",
          "text": [
            "I liked this movie because it was so EXTREMELY funny , and it was fun to sit down and watch it again . \n",
            " \n",
            "  i never heard of M. E. Draft , Richard Pryor , Cary Grant\n",
            "I liked this movie because it was a great movie . i a love story and i adore it so well . i think this movie has a perfect twist for Dennis Quaid , he was great , and in that movie he\n"
          ],
          "name": "stdout"
        }
      ]
    },
    {
      "metadata": {
        "id": "PWZGe7fDoUdS",
        "colab_type": "code",
        "colab": {}
      },
      "cell_type": "code",
      "source": [
        "learn.save_encoder('fine_tuned_enc')\n"
      ],
      "execution_count": 0,
      "outputs": []
    },
    {
      "metadata": {
        "id": "Hiz3RtL-md_G",
        "colab_type": "text"
      },
      "cell_type": "markdown",
      "source": [
        "###Classifier"
      ]
    },
    {
      "metadata": {
        "id": "oLSAel38o0kI",
        "colab_type": "code",
        "colab": {}
      },
      "cell_type": "code",
      "source": [
        "path = untar_data(URLs.IMDB)"
      ],
      "execution_count": 0,
      "outputs": []
    },
    {
      "metadata": {
        "id": "8twrejYto0mG",
        "colab_type": "code",
        "colab": {}
      },
      "cell_type": "code",
      "source": [
        "data_clas = (TextList.from_folder(path, vocab=data_lm.vocab)\n",
        "             #grab all the text files in path\n",
        "             .split_by_folder(valid='test')\n",
        "             #split by train and valid folder (that only keeps 'train' and 'test' so no need to filter)\n",
        "             .label_from_folder(classes=['neg', 'pos'])\n",
        "             #label them all with their folders\n",
        "             .databunch(bs=bs))\n",
        "\n",
        "data_clas.save('data_clas.pkl')"
      ],
      "execution_count": 0,
      "outputs": []
    },
    {
      "metadata": {
        "id": "xwd6s1iQo0pX",
        "colab_type": "code",
        "colab": {}
      },
      "cell_type": "code",
      "source": [
        "data_clas = load_data(path, 'data_clas.pkl', bs=bs)"
      ],
      "execution_count": 0,
      "outputs": []
    },
    {
      "metadata": {
        "id": "-tygoZQuo0sN",
        "colab_type": "code",
        "colab": {
          "base_uri": "https://localhost:8080/",
          "height": 289
        },
        "outputId": "d1216c3f-91ec-4364-e1d0-f75027af5ea8"
      },
      "cell_type": "code",
      "source": [
        "data_clas.show_batch()"
      ],
      "execution_count": 71,
      "outputs": [
        {
          "output_type": "display_data",
          "data": {
            "text/html": [
              "<table border=\"1\" class=\"dataframe\">\n",
              "  <thead>\n",
              "    <tr style=\"text-align: right;\">\n",
              "      <th>text</th>\n",
              "      <th>target</th>\n",
              "    </tr>\n",
              "  </thead>\n",
              "  <tbody>\n",
              "    <tr>\n",
              "      <td>xxbos xxmaj match 1 : xxmaj tag xxmaj team xxmaj table xxmaj match xxmaj bubba xxmaj ray and xxmaj spike xxmaj dudley vs xxmaj eddie xxmaj guerrero and xxmaj chris xxmaj benoit xxmaj bubba xxmaj ray and xxmaj spike xxmaj dudley started things off with a xxmaj tag xxmaj team xxmaj table xxmaj match against xxmaj eddie xxmaj guerrero and xxmaj chris xxmaj benoit . xxmaj according to the rules</td>\n",
              "      <td>pos</td>\n",
              "    </tr>\n",
              "    <tr>\n",
              "      <td>xxbos xxmaj some have praised xxunk :- xxmaj the xxmaj lost xxmaj xxunk as a xxmaj disney adventure for adults . i do n't think so -- at least not for thinking adults . \\n \\n  xxmaj this script suggests a beginning as a live - action movie , that struck someone as the type of crap you can not sell to adults anymore . xxmaj the \" crack</td>\n",
              "      <td>neg</td>\n",
              "    </tr>\n",
              "    <tr>\n",
              "      <td>xxbos xxup anchors xxup aweigh sees two eager young sailors , xxmaj joe xxmaj brady ( xxmaj gene xxmaj kelly ) and xxmaj clarence xxmaj doolittle / xxmaj brooklyn ( xxmaj frank xxmaj sinatra ) , get a special four - day shore leave . xxmaj eager to get to the girls , particularly xxmaj joe 's xxmaj lola , neither xxmaj joe nor xxmaj brooklyn figure on the interruption</td>\n",
              "      <td>pos</td>\n",
              "    </tr>\n",
              "    <tr>\n",
              "      <td>xxbos xxup myra xxup breckinridge is one of those rare films that established its place in film history immediately . xxmaj praise for the film was absolutely nonexistent , even from the people involved in making it . xxmaj this film was loathed from day one . xxmaj while every now and then one will come across some maverick who will praise the film on philosophical grounds ( aggressive feminism</td>\n",
              "      <td>neg</td>\n",
              "    </tr>\n",
              "    <tr>\n",
              "      <td>xxbos xxmaj god ! xxmaj zorro has been the the subject of about as many movies as xxmaj tarzan , and probably had about as many actors in the title role . \\n \\n  xxmaj this xxmaj serial is one of my own personal favourites , and as previously stated , it is one of the xxmaj top 5 xxmaj sound xxmaj serials . xxmaj oddly enough , this</td>\n",
              "      <td>pos</td>\n",
              "    </tr>\n",
              "  </tbody>\n",
              "</table>"
            ],
            "text/plain": [
              "<IPython.core.display.HTML object>"
            ]
          },
          "metadata": {
            "tags": []
          }
        }
      ]
    },
    {
      "metadata": {
        "id": "QA2BzmYBoUhX",
        "colab_type": "code",
        "colab": {}
      },
      "cell_type": "code",
      "source": [
        "learn = text_classifier_learner(data_clas, AWD_LSTM, drop_mult=0.5)\n",
        "learn.load_encoder('fine_tuned_enc')"
      ],
      "execution_count": 0,
      "outputs": []
    },
    {
      "metadata": {
        "id": "fnm8mzthpA4E",
        "colab_type": "code",
        "colab": {
          "base_uri": "https://localhost:8080/",
          "height": 35
        },
        "outputId": "8d6432d7-79cd-4603-bdf0-7658419cac10"
      },
      "cell_type": "code",
      "source": [
        "learn.lr_find()"
      ],
      "execution_count": 73,
      "outputs": [
        {
          "output_type": "display_data",
          "data": {
            "text/html": [
              ""
            ],
            "text/plain": [
              "<IPython.core.display.HTML object>"
            ]
          },
          "metadata": {
            "tags": []
          }
        },
        {
          "output_type": "stream",
          "text": [
            "LR Finder is complete, type {learner_name}.recorder.plot() to see the graph.\n"
          ],
          "name": "stdout"
        }
      ]
    },
    {
      "metadata": {
        "id": "kzWe4jT2pBD7",
        "colab_type": "code",
        "colab": {
          "base_uri": "https://localhost:8080/",
          "height": 279
        },
        "outputId": "805d439d-db15-4bfc-c0c9-bb31b03cb401"
      },
      "cell_type": "code",
      "source": [
        "learn.recorder.plot()"
      ],
      "execution_count": 74,
      "outputs": [
        {
          "output_type": "display_data",
          "data": {
            "image/png": "[encoded data removed]",
            "text/plain": [
              "<Figure size 432x288 with 1 Axes>"
            ]
          },
          "metadata": {
            "tags": []
          }
        }
      ]
    },
    {
      "metadata": {
        "id": "4iXzuGcFpGKB",
        "colab_type": "code",
        "colab": {
          "base_uri": "https://localhost:8080/",
          "height": 103
        },
        "outputId": "e4706946-c1bc-4dfe-eaf1-93ad03ee3442"
      },
      "cell_type": "code",
      "source": [
        "learn.fit_one_cycle(1, 2e-2, moms=(0.8,0.7))"
      ],
      "execution_count": 75,
      "outputs": [
        {
          "output_type": "display_data",
          "data": {
            "text/html": [
              "Total time: 11:19 <p><table border=\"1\" class=\"dataframe\">\n",
              "  <thead>\n",
              "    <tr style=\"text-align: left;\">\n",
              "      <th>epoch</th>\n",
              "      <th>train_loss</th>\n",
              "      <th>valid_loss</th>\n",
              "      <th>accuracy</th>\n",
              "      <th>time</th>\n",
              "    </tr>\n",
              "  </thead>\n",
              "  <tbody>\n",
              "    <tr>\n",
              "      <td>0</td>\n",
              "      <td>0.339996</td>\n",
              "      <td>0.252327</td>\n",
              "      <td>0.897360</td>\n",
              "      <td>11:19</td>\n",
              "    </tr>\n",
              "  </tbody>\n",
              "</table>"
            ],
            "text/plain": [
              "<IPython.core.display.HTML object>"
            ]
          },
          "metadata": {
            "tags": []
          }
        }
      ]
    },
    {
      "metadata": {
        "id": "BIYtkSmipGVI",
        "colab_type": "code",
        "colab": {}
      },
      "cell_type": "code",
      "source": [
        "learn.save('first')"
      ],
      "execution_count": 0,
      "outputs": []
    },
    {
      "metadata": {
        "id": "z3MzwNrODMrK",
        "colab_type": "code",
        "colab": {
          "base_uri": "https://localhost:8080/",
          "height": 4930
        },
        "outputId": "c1ad9adf-d491-4ad5-ac2b-ceaee44bd787"
      },
      "cell_type": "code",
      "source": [
        "learn.load('first')"
      ],
      "execution_count": 77,
      "outputs": [
        {
          "output_type": "execute_result",
          "data": {
            "text/plain": [
              "RNNLearner(data=TextClasDataBunch;\n",
              "\n",
              "Train: LabelList (25000 items)\n",
              "x: TextList\n",
              "xxbos i vowed a long time ago to xxup never , xxup ever watch a movie that has xxup anyone who xxup ever was a regular cast member of \" xxmaj saturday xxmaj night xxmaj live \" . i did n't rent \" xxmaj corky xxmaj romano \" but i was forced by my unfailing good manners to watch it for half an hour . xxmaj then my good manners failed . xxmaj stupid , not funny . xxmaj tedious , not hilarious . xxmaj bad , not good . xxmaj that in a nutshell is all i can say for this video .,xxbos xxmaj the worst kind of film . xxmaj basically , the xxup us xxmaj declaration of xxmaj independence was replaced with a plasma screen and this fooled the museum 's security for several days . xxmaj eh ? \n",
              " \n",
              "  xxmaj the plasma screen that would theoretically run for less than 2 seconds off that watch battery , assuming it had a low enough internal resistance to deliver the required current , which it would n't . \n",
              " \n",
              "  xxmaj it would be possible with a dozen large car batteries and an xxunk , but that system would n't fit into the case . xxmaj sorry to be anal , but this is n't even close to being plausible . xxmaj the rest of the film was n't a great deal better and i 'm left wondering why the budget could n't have been donated to charity or me .,xxbos xxmaj years after the fall of the last of the great corporations , the world has fallen into a new dark age where cyborgs are harvested for their parts . xxmaj cash , a female cyborg , travels to a wasteland doctor to receive news that she is pregnant . xxmaj on the run from xxmaj xxunk ( bounty hunters who hunt cyborgs ) , xxmaj cash tries to find her way to xxmaj xxunk , the mythical refuge for cyborgs . \n",
              " \n",
              "  \" xxmaj cyborg 3 : xxmaj the xxmaj xxunk \" is the third ( & last so far ) entry in the xxup cyborg trilogy . xxmaj the first film was originally planned to be a sequel to xxup masters xxup of xxup the xxup universe , but was quickly rewritten into a standard post - apocalyptic martial - arts fest that became something of a cult classic due to its cheesy action scenes . xxup cyborg 2 : xxup glass xxup shadow was a sequel that actually improved upon its predecessor but was not widely seen ( & was dismissed by those few who saw it as cheap fodder ) . \n",
              " \n",
              "  xxmaj this film , for one thing , tries to be a meld of the first two films ( the first was a cheesy action film while the second was a smart xxmaj cyberpunk story ) but unfortunately falls short on both counts . xxmaj the budget was obviously lower than xxup cyborg 2 , with the film being set in the desert wastelands ( like so many post - apocalyptic action films of the 90s were ) , shot around old industrial buildings to conserve costs . \n",
              " \n",
              "  xxmaj the film 's story centres on a plot device , that of a pregnant cyborg , that is as interesting as it is absurd ( this film is not the first to try that idea ; the anime xxup ova series xxup armitage xxup iii uses it to a greater extent ) . xxmaj but the film falls into the same trap that so many low - budget sci - fi action films fall victim to , in the fact that the snags ( synthetic organisms ) featured are nothing more than androids . xxmaj the visual effects amount to nothing more than prosthetic arms & makeup effects . \n",
              " \n",
              "  xxmaj the acting is pretty standard for this kind of film , with the lead actress ( xxmaj xxunk xxmaj haje ) being the single worst performer on display . xxmaj instead of being joyed at the news she is pregnant , she acts all whiny & sullen . xxmaj her co - stars are much better , xxmaj malcolm mcdowell being the usual gangster type who enlivens the scenes he appears in & xxmaj richard xxmaj lynch has a lot of fun as the chief villain . xxmaj of particular note is xxmaj andrew xxmaj xxunk , playing xxmaj lynch 's right hand man , who would later appear in xxup the xxmaj texas xxup chainsaw xxup massacre remake & its prequel .,xxbos i firmly believe that the best xxmaj oscar ceremony in recent years was in 2003 for two reasons : \n",
              " \n",
              "  1 ) xxmaj host xxmaj steve xxmaj martin was at his most wittiest : \" i saw the teamsters help xxmaj michael xxmaj moore into the trunk of his limo \" and \" i 'll better not mention the gay mafia in case i wake up with a poodle 's head in my bed \" \n",
              " \n",
              "  2 ) xxmaj surprise winners : xxmaj no one had xxmaj adrien xxmaj brody down for best actor ( xxmaj genuine applause ) or xxmaj roman xxmaj polanski for best director ( xxmaj genuine jeers and boos ) but they won \n",
              " \n",
              "  xxmaj last year 's award ceremony was n't too bad but there was little in the way of surprises and i was happy to see xxup return xxup of xxup the xxup king sweep the awards even if it was n't the best in the trilogy ( xxup fellowship was much better ) but what let the xxup bbc coverage down was xxmaj jonathan xxmaj ross getting a few of his sycophantic mates round and pretending they were hilarious when they were anything but . xxmaj so when i heard xxmaj sky were doing the coverage for xxmaj british xxup tv i was expecting xxmaj barry xxmaj norman and xxmaj mark xxmaj kermode to be doing the links , but instead we ended up with xxmaj jamie xxmaj xxunk and xxmaj sharon xxmaj osbourne ! xxmaj oh gawd if xxmaj british xxup tv are desperate for film critics ( xxmaj obviously they are ) i 'm sure both xxmaj bob xxmaj the xxmaj moo and xxmaj theo xxmaj robertson will happily fly over to xxup la to give their honest opinions on the winners and losers \n",
              " \n",
              "  xxmaj chris xxmaj rock was n't too bad , but he 's no xxmaj steve xxmaj martin while the location seemed to resemble a sports hall with seats put in ! xxmaj not much of a glitzy arena in my opinion . xxmaj the main problem i had with the ceremony was the format with the \" minor \" xxmaj oscars handed out to the winners who were sitting in their seats ! xxmaj there 's no such thing as a \" minor \" xxmaj oscar and just because the award is for xxmaj best xxmaj animated xxmaj short or xxmaj best xxmaj costume xxmaj design they 're as well deserved as xxmaj best xxmaj picture or xxmaj best xxmaj director . xxmaj all the winners should be allowed to march up to the podium . xxmaj what a bunch of arrogant snobs the xxmaj academy are becoming and i quite agree with the comments that this format is disgraceful and if it was n't for the surprises this could possibly have been the worst ceremony in history . xxmaj as for the awards themselves \n",
              " \n",
              "  xxmaj best xxmaj supporting xxmaj actress - xxmaj cate xxmaj blanchett . xxmaj no great surprise for a competitive category \n",
              " \n",
              "  xxmaj best xxmaj supporting xxmaj actor - xxmaj morgan xxmaj freeman . xxmaj no real complaints since xxmaj freeman is one of xxmaj america 's greatest living character actors \n",
              " \n",
              "  xxmaj best xxmaj actor - xxmaj jamie xxmaj foxx . xxmaj most predictable award of the night . xxmaj yawn \n",
              " \n",
              "  xxmaj best xxmaj actress - xxmaj hilary xxmaj swank . xxmaj major surprise since everyone thought xxmaj annette xxmaj benning was going to win simply down to academy politics but xxmaj swank did deserve it and gave the best speech of the night \n",
              " \n",
              "  xxmaj best xxmaj director - xxmaj clint xxmaj eastwood . xxmaj major surprise since everyone thought xxmaj scorsese was going to get the award simply because he 'd never won one . xxmaj actually i 'm glad about this because if he did n't deserve it for xxup taxi xxup driver , xxup raging xxup bull or xxup goodfellas he did n't deserve it for xxup the xxup aviator \n",
              " \n",
              "  xxmaj best xxmaj film - xxup million xxup dollar xxup baby . xxmaj again another major surprise since everyone thought the academy would split the awards for best director and best picture while i thought the xxmaj hollywood friendly plot of xxup the xxup aviator would have made it a dead cert for xxmaj best xxmaj picture while xxup xxunk 's controversial subject matter would have turned a lot of voters off \n",
              " \n",
              "  xxmaj what these awards perhaps illustrate is that this year the voters have decided to ignore xxmaj oscar politics and genuinely give out awards to people who deserve it something they have n't done in the past , i mean a xxup beautiful xxup mind beating xxup the xxup fellowship xxup of xxup the xxup ring for gawd 's sake ! xxmaj and long may the academy vote with their heads instead of their hearts,xxbos xxmaj this film was hard to get a hold of , and when i eventually saw it the disappointment was overwhelming . i mean , this is one of the great stories of the twentieth century : an unknown man takes advantage of the unsuspecting airline industry and xxup gets xxup away with millions in ransom without hurting anyone or bungling the attempt . xxmaj with all of this built - in interest , how could anyone make such a lackluster , talk - laden flick of this true - life event . xxmaj while xxmaj williams is always interesting , the screenwriters assumed that the xxup d.b. xxmaj cooper persona was stereotypically heroic like a movie star , s what we get is a type - without any engaging details or insights into the mind of a person daring enough and clever enough to have pulled it off . xxmaj harrold practically steals the movie with her spunk and pure beauty , but the real letdown was in the handling of the plot and the lame direction . xxmaj shame on this film for even existing .\n",
              "y: CategoryList\n",
              "neg,neg,neg,neg,neg\n",
              "Path: /root/.fastai/data/imdb;\n",
              "\n",
              "Valid: LabelList (25000 items)\n",
              "x: TextList\n",
              "xxbos xxmaj oh xxmaj sex xxmaj lives of the xxmaj potato xxmaj men , what foul demon created thee ? xxmaj this is a film that you watch , smirk a little during the runtime and then when you mention it to others having seen it , you just can not help but smile as you talk . xxmaj but it 's not that xxmaj sex xxmaj lives of the xxmaj potato xxmaj men is actually a funny film and one that inspires you to smile when talking or thinking about it , it 's just that the film is so bizarre ; is so insulting and is no shameless in its attempt to get across a meek laugh to do with sex and sex lives in general that you just can not help but have your mouth break out into a grin . xxmaj do bear in mind that what follows the smirk is a sinking of the head ; a consequent shake of the head and a raise of the index finger and thumb to both eyebrows as you gently rub them in an attempt to reminisce about your time watching this trash . \n",
              " \n",
              "  xxmaj but that 's what the film is , it 's trash ; it 's very brave and shameless trash but trash none - the - less . xxmaj whoever came up with this idea , put it to paper and then spread it around the industry trying to get it made must either be very brave or very desperate . xxmaj it 's strange to have a film that is most definitely ' about ' something but one that does not have , under any sort of circumstance , a decisive narrative . xxmaj this follows on from that idea that most of xxmaj european cinema is artistic and its stories are ambiguous and open - ended and themes take precedence over most other things . xxmaj in xxmaj sex xxmaj lives of the xxmaj potato xxmaj men , the same situation and technically the same joke are replayed over and over again and that is an xxunk that consists of : ' sex is a very , very funny thing . ' xxmaj these ideas are perhaps more suited to an xxmaj american film so it 's no wonder that after a while watching this film , things start to feel a little out of sorts . \n",
              " \n",
              "  xxmaj the film begins and ends in the same manner , creating a feeling of a circular journey ; a circular journey that has gone absolutely nowhere and absolutely nothing has been achieved . xxmaj three blokes sit around a table talking and what - not . xxmaj their boss joins them and the conversation is limited to whatever crude and disgusting stories , situations or scenarios each can possibly think of . xxmaj the odd thing here , being that whenever one man says something nasty , the other grimaces but has an equally filthy story to give in return creating a contradiction in what these men find to cross the line and what they do not . xxmaj the men are xxmaj dave ( xxmaj vegas ) and xxmaj ferris ( xxmaj crook ) , two people joined by xxmaj xxunk ( xxmaj coleman ) whenever the film sees fit to throw in a third face to crack some more nasty sex jokes or break some peculiar stories . xxmaj they are employed by xxmaj jeremy ( xxmaj xxunk ) , a man who has deeper issues and problems but issues of which the film is more concerned with exploiting for the sake of humour rather than study . \n",
              " \n",
              "  xxmaj so what 's the situation in xxmaj sex xxmaj lives of the xxmaj potato xxmaj men ? xxmaj the three to four men are in a crisis and for the duration of the film , we will adopt the role of the hapless fly on the wall as we witness what foul play these people get up to over the period of about a week . xxmaj if the humour revolving around xxmaj dave and xxmaj ferris is disgusting and repulsive , then for xxmaj jeremy things are just spooky . xxmaj it all begins rather innocently and it appears there is a female he likes and one who equally likes him in return but when the essence that xxmaj jeremy is merely a stalker creeps in , that 's when the jaws drop . xxmaj the character of xxmaj jeremy is used and put across in a way that makes unrequited love and stalking in general merely look ' funny ' . xxmaj jeremy sits in his apartment listening to classical music and writing out letters of abuse to xxmaj ruth ( xxmaj davis ) , echoing some sort of psychotic persona more associated with xxmaj hannibal xxmaj lecter writing his letter 's to xxmaj clarice in 2001 's xxmaj hannibal . xxmaj but whatever sympathy we might have for him at this point is rendered absolutely false when , later on , it is revealed the true origin of their relationship . xxmaj suddenly , we as an audience feel cheated into feeling a mite sorry for him earlier on and for whatever reason he did do what he did in the first place just seems cowardly and distasteful . xxmaj to say what it was would ruin whatever few surprises lurk within the film . \n",
              " \n",
              "  xxmaj quite sad how , in one of xxmaj jeremy 's letters , he writes about something - or - other exclaiming it to have \" xxmaj no artistic vision  just one big mess \" . i hate it when words said by the characters echo the film they 're in . xxmaj sex xxmaj lives of the xxmaj potato xxmaj men does not explore someone 's psyche or particular interest in a fetish or why they feel the need to go around having as much sex as possible , it just uses them as a front to pile on ridiculously unfunny jokes and situations . xxmaj rather than take group sex and explore what drives a person to seek it down , it makes a daft joke out of it ( tickets with numbers on ! ? ) ; rather than get into the mindset of a fan of xxmaj sadomasochism , the film has someone hang from a basement ceiling and warn everyone of ' incoming salt and vinegar ' as he climaxes . xxmaj ferris covers his face in disgust and the camera fades to the next scene without too much of a fuss . xxmaj it 's a relief the film got to no audiences abroad . xxmaj this is one section of xxmaj british culture , indeed of the xxmaj british mentality that i pray will be confined to our shores and ignored accordingly .,xxbos xxmaj not as bad as 1992 's \" xxmaj nails \" ( where xxmaj hopper plays an \" unstable \" cop ) but pretty bad . xxmaj how can a movie with such a great cast go so wrong ? xxmaj this film manages to find a way . xxmaj the story was pretty stupid and xxmaj hopper 's direction seemed like he had never directed before . xxmaj all of the long shots in the beginning were bothersome . xxmaj lots of meaningless scenes with a lot of meaningless dialogue .,xxbos xxmaj this is a stereotype plot . a young fighter tries to enter a competition when he is not ready and is not selected to represent his fighting school . xxmaj this leads to separation from the fighting school and naturally he finds a strange new master to teach him to fight . \n",
              " \n",
              "  xxmaj the fights are not of high standards . xxmaj they are way too \" simple \" in a way that 1 + 1 is simple to every adult . xxmaj the fighter has trained and enters the ring , but does not do what he trained and gets an ass kicking . xxmaj the coach yells do this and do that with no success . xxmaj and after some more of this ridiculous beating he suddenly does what he is told and hits his opponent once . xxmaj this results in a turning point in the fight , although our hero has been taking a beating of his life up until that point . xxmaj think about the xxmaj rocky movies and you 'll have a good point of reference of how much beating he really takes . xxmaj the fights are also shot poorly . \n",
              " \n",
              "  xxmaj there final thing that screws this film up is the stupid romance . xxmaj cheesy music and awkward moments are not what i call entertainment . \n",
              " \n",
              "  xxmaj these guys really could have made some quality entertainment , but the director was n't up to the task . xxmaj or the other crew in my opinion . xxmaj maybe they had a small budget , i do n't know , but what matters in the end is that this movie is bad and deserves the rating of 3 out of 10 .,xxbos well i 'd probably agree with all the bad comments about this movie cos honestly i thought it was such a piece of crap i mean the actors had done a terrible acting job and the script was all terrible . xxmaj although the special effects was n't a bit bad but i think the should have thought a lot harder than that . i mean how did xxmaj clara xxmaj bryant get successfully put into this film i mean she 'd do a lot better if she looked a bit further and that goes the same with xxmaj kristen honey , i mean her character dies and she does n't bother to try and defend herself i mean it 's got ta be a total joke . xxmaj she should at least do a lot better than what she an do like become a soldier or more of a heroine or something along the lines of bravery . xxmaj but the point is the actors did a complete soulless lousy job and so did the director and the writer who made this film . they should 've went into film school to think up some better ideas and i hope everyone agrees with my methods cos they are probably thinking the same thing .,xxbos xxmaj this is a big disappointment . xxmaj the main problem is the acting . xxmaj xxunk le xxmaj touzel is pretty poor as xxmaj fanny , and the rest are not much better , everybody is very stilted and unnatural . xxmaj also the camerawork is very 1980 's ie cramped and jumpy , compared with the likes of 1995 's xxup p&p , for example . \n",
              " \n",
              "  xxmaj the script is , if anything too faithful to the book , and there are some cringe worthy expressions that should have been cut . \n",
              " \n",
              "  xxmaj in every way this is far inferior to the recent film version , which though it took huge liberties with the book , seemed far more faithful to the spirit of the book and was far more enjoyable .\n",
              "y: CategoryList\n",
              "neg,neg,neg,neg,neg\n",
              "Path: /root/.fastai/data/imdb;\n",
              "\n",
              "Test: None, model=SequentialRNN(\n",
              "  (0): MultiBatchEncoder(\n",
              "    (module): AWD_LSTM(\n",
              "      (encoder): Embedding(60003, 400, padding_idx=1)\n",
              "      (encoder_dp): EmbeddingDropout(\n",
              "        (emb): Embedding(60003, 400, padding_idx=1)\n",
              "      )\n",
              "      (rnns): ModuleList(\n",
              "        (0): WeightDropout(\n",
              "          (module): LSTM(400, 1150, batch_first=True)\n",
              "        )\n",
              "        (1): WeightDropout(\n",
              "          (module): LSTM(1150, 1150, batch_first=True)\n",
              "        )\n",
              "        (2): WeightDropout(\n",
              "          (module): LSTM(1150, 400, batch_first=True)\n",
              "        )\n",
              "      )\n",
              "      (input_dp): RNNDropout()\n",
              "      (hidden_dps): ModuleList(\n",
              "        (0): RNNDropout()\n",
              "        (1): RNNDropout()\n",
              "        (2): RNNDropout()\n",
              "      )\n",
              "    )\n",
              "  )\n",
              "  (1): PoolingLinearClassifier(\n",
              "    (layers): Sequential(\n",
              "      (0): BatchNorm1d(1200, eps=1e-05, momentum=0.1, affine=True, track_running_stats=True)\n",
              "      (1): Dropout(p=0.2)\n",
              "      (2): Linear(in_features=1200, out_features=50, bias=True)\n",
              "      (3): ReLU(inplace)\n",
              "      (4): BatchNorm1d(50, eps=1e-05, momentum=0.1, affine=True, track_running_stats=True)\n",
              "      (5): Dropout(p=0.1)\n",
              "      (6): Linear(in_features=50, out_features=2, bias=True)\n",
              "    )\n",
              "  )\n",
              "), opt_func=functools.partial(<class 'torch.optim.adam.Adam'>, betas=(0.9, 0.99)), loss_func=FlattenedLoss of CrossEntropyLoss(), metrics=[<function accuracy at 0x7fd56f7c8bf8>], true_wd=True, bn_wd=True, wd=0.01, train_bn=True, path=PosixPath('/root/.fastai/data/imdb'), model_dir='models', callback_fns=[functools.partial(<class 'fastai.basic_train.Recorder'>, add_time=True)], callbacks=[RNNTrainer\n",
              "learn: RNNLearner(data=TextClasDataBunch;\n",
              "\n",
              "Train: LabelList (25000 items)\n",
              "x: TextList\n",
              "xxbos i vowed a long time ago to xxup never , xxup ever watch a movie that has xxup anyone who xxup ever was a regular cast member of \" xxmaj saturday xxmaj night xxmaj live \" . i did n't rent \" xxmaj corky xxmaj romano \" but i was forced by my unfailing good manners to watch it for half an hour . xxmaj then my good manners failed . xxmaj stupid , not funny . xxmaj tedious , not hilarious . xxmaj bad , not good . xxmaj that in a nutshell is all i can say for this video .,xxbos xxmaj the worst kind of film . xxmaj basically , the xxup us xxmaj declaration of xxmaj independence was replaced with a plasma screen and this fooled the museum 's security for several days . xxmaj eh ? \n",
              " \n",
              "  xxmaj the plasma screen that would theoretically run for less than 2 seconds off that watch battery , assuming it had a low enough internal resistance to deliver the required current , which it would n't . \n",
              " \n",
              "  xxmaj it would be possible with a dozen large car batteries and an xxunk , but that system would n't fit into the case . xxmaj sorry to be anal , but this is n't even close to being plausible . xxmaj the rest of the film was n't a great deal better and i 'm left wondering why the budget could n't have been donated to charity or me .,xxbos xxmaj years after the fall of the last of the great corporations , the world has fallen into a new dark age where cyborgs are harvested for their parts . xxmaj cash , a female cyborg , travels to a wasteland doctor to receive news that she is pregnant . xxmaj on the run from xxmaj xxunk ( bounty hunters who hunt cyborgs ) , xxmaj cash tries to find her way to xxmaj xxunk , the mythical refuge for cyborgs . \n",
              " \n",
              "  \" xxmaj cyborg 3 : xxmaj the xxmaj xxunk \" is the third ( & last so far ) entry in the xxup cyborg trilogy . xxmaj the first film was originally planned to be a sequel to xxup masters xxup of xxup the xxup universe , but was quickly rewritten into a standard post - apocalyptic martial - arts fest that became something of a cult classic due to its cheesy action scenes . xxup cyborg 2 : xxup glass xxup shadow was a sequel that actually improved upon its predecessor but was not widely seen ( & was dismissed by those few who saw it as cheap fodder ) . \n",
              " \n",
              "  xxmaj this film , for one thing , tries to be a meld of the first two films ( the first was a cheesy action film while the second was a smart xxmaj cyberpunk story ) but unfortunately falls short on both counts . xxmaj the budget was obviously lower than xxup cyborg 2 , with the film being set in the desert wastelands ( like so many post - apocalyptic action films of the 90s were ) , shot around old industrial buildings to conserve costs . \n",
              " \n",
              "  xxmaj the film 's story centres on a plot device , that of a pregnant cyborg , that is as interesting as it is absurd ( this film is not the first to try that idea ; the anime xxup ova series xxup armitage xxup iii uses it to a greater extent ) . xxmaj but the film falls into the same trap that so many low - budget sci - fi action films fall victim to , in the fact that the snags ( synthetic organisms ) featured are nothing more than androids . xxmaj the visual effects amount to nothing more than prosthetic arms & makeup effects . \n",
              " \n",
              "  xxmaj the acting is pretty standard for this kind of film , with the lead actress ( xxmaj xxunk xxmaj haje ) being the single worst performer on display . xxmaj instead of being joyed at the news she is pregnant , she acts all whiny & sullen . xxmaj her co - stars are much better , xxmaj malcolm mcdowell being the usual gangster type who enlivens the scenes he appears in & xxmaj richard xxmaj lynch has a lot of fun as the chief villain . xxmaj of particular note is xxmaj andrew xxmaj xxunk , playing xxmaj lynch 's right hand man , who would later appear in xxup the xxmaj texas xxup chainsaw xxup massacre remake & its prequel .,xxbos i firmly believe that the best xxmaj oscar ceremony in recent years was in 2003 for two reasons : \n",
              " \n",
              "  1 ) xxmaj host xxmaj steve xxmaj martin was at his most wittiest : \" i saw the teamsters help xxmaj michael xxmaj moore into the trunk of his limo \" and \" i 'll better not mention the gay mafia in case i wake up with a poodle 's head in my bed \" \n",
              " \n",
              "  2 ) xxmaj surprise winners : xxmaj no one had xxmaj adrien xxmaj brody down for best actor ( xxmaj genuine applause ) or xxmaj roman xxmaj polanski for best director ( xxmaj genuine jeers and boos ) but they won \n",
              " \n",
              "  xxmaj last year 's award ceremony was n't too bad but there was little in the way of surprises and i was happy to see xxup return xxup of xxup the xxup king sweep the awards even if it was n't the best in the trilogy ( xxup fellowship was much better ) but what let the xxup bbc coverage down was xxmaj jonathan xxmaj ross getting a few of his sycophantic mates round and pretending they were hilarious when they were anything but . xxmaj so when i heard xxmaj sky were doing the coverage for xxmaj british xxup tv i was expecting xxmaj barry xxmaj norman and xxmaj mark xxmaj kermode to be doing the links , but instead we ended up with xxmaj jamie xxmaj xxunk and xxmaj sharon xxmaj osbourne ! xxmaj oh gawd if xxmaj british xxup tv are desperate for film critics ( xxmaj obviously they are ) i 'm sure both xxmaj bob xxmaj the xxmaj moo and xxmaj theo xxmaj robertson will happily fly over to xxup la to give their honest opinions on the winners and losers \n",
              " \n",
              "  xxmaj chris xxmaj rock was n't too bad , but he 's no xxmaj steve xxmaj martin while the location seemed to resemble a sports hall with seats put in ! xxmaj not much of a glitzy arena in my opinion . xxmaj the main problem i had with the ceremony was the format with the \" minor \" xxmaj oscars handed out to the winners who were sitting in their seats ! xxmaj there 's no such thing as a \" minor \" xxmaj oscar and just because the award is for xxmaj best xxmaj animated xxmaj short or xxmaj best xxmaj costume xxmaj design they 're as well deserved as xxmaj best xxmaj picture or xxmaj best xxmaj director . xxmaj all the winners should be allowed to march up to the podium . xxmaj what a bunch of arrogant snobs the xxmaj academy are becoming and i quite agree with the comments that this format is disgraceful and if it was n't for the surprises this could possibly have been the worst ceremony in history . xxmaj as for the awards themselves \n",
              " \n",
              "  xxmaj best xxmaj supporting xxmaj actress - xxmaj cate xxmaj blanchett . xxmaj no great surprise for a competitive category \n",
              " \n",
              "  xxmaj best xxmaj supporting xxmaj actor - xxmaj morgan xxmaj freeman . xxmaj no real complaints since xxmaj freeman is one of xxmaj america 's greatest living character actors \n",
              " \n",
              "  xxmaj best xxmaj actor - xxmaj jamie xxmaj foxx . xxmaj most predictable award of the night . xxmaj yawn \n",
              " \n",
              "  xxmaj best xxmaj actress - xxmaj hilary xxmaj swank . xxmaj major surprise since everyone thought xxmaj annette xxmaj benning was going to win simply down to academy politics but xxmaj swank did deserve it and gave the best speech of the night \n",
              " \n",
              "  xxmaj best xxmaj director - xxmaj clint xxmaj eastwood . xxmaj major surprise since everyone thought xxmaj scorsese was going to get the award simply because he 'd never won one . xxmaj actually i 'm glad about this because if he did n't deserve it for xxup taxi xxup driver , xxup raging xxup bull or xxup goodfellas he did n't deserve it for xxup the xxup aviator \n",
              " \n",
              "  xxmaj best xxmaj film - xxup million xxup dollar xxup baby . xxmaj again another major surprise since everyone thought the academy would split the awards for best director and best picture while i thought the xxmaj hollywood friendly plot of xxup the xxup aviator would have made it a dead cert for xxmaj best xxmaj picture while xxup xxunk 's controversial subject matter would have turned a lot of voters off \n",
              " \n",
              "  xxmaj what these awards perhaps illustrate is that this year the voters have decided to ignore xxmaj oscar politics and genuinely give out awards to people who deserve it something they have n't done in the past , i mean a xxup beautiful xxup mind beating xxup the xxup fellowship xxup of xxup the xxup ring for gawd 's sake ! xxmaj and long may the academy vote with their heads instead of their hearts,xxbos xxmaj this film was hard to get a hold of , and when i eventually saw it the disappointment was overwhelming . i mean , this is one of the great stories of the twentieth century : an unknown man takes advantage of the unsuspecting airline industry and xxup gets xxup away with millions in ransom without hurting anyone or bungling the attempt . xxmaj with all of this built - in interest , how could anyone make such a lackluster , talk - laden flick of this true - life event . xxmaj while xxmaj williams is always interesting , the screenwriters assumed that the xxup d.b. xxmaj cooper persona was stereotypically heroic like a movie star , s what we get is a type - without any engaging details or insights into the mind of a person daring enough and clever enough to have pulled it off . xxmaj harrold practically steals the movie with her spunk and pure beauty , but the real letdown was in the handling of the plot and the lame direction . xxmaj shame on this film for even existing .\n",
              "y: CategoryList\n",
              "neg,neg,neg,neg,neg\n",
              "Path: /root/.fastai/data/imdb;\n",
              "\n",
              "Valid: LabelList (25000 items)\n",
              "x: TextList\n",
              "xxbos xxmaj oh xxmaj sex xxmaj lives of the xxmaj potato xxmaj men , what foul demon created thee ? xxmaj this is a film that you watch , smirk a little during the runtime and then when you mention it to others having seen it , you just can not help but smile as you talk . xxmaj but it 's not that xxmaj sex xxmaj lives of the xxmaj potato xxmaj men is actually a funny film and one that inspires you to smile when talking or thinking about it , it 's just that the film is so bizarre ; is so insulting and is no shameless in its attempt to get across a meek laugh to do with sex and sex lives in general that you just can not help but have your mouth break out into a grin . xxmaj do bear in mind that what follows the smirk is a sinking of the head ; a consequent shake of the head and a raise of the index finger and thumb to both eyebrows as you gently rub them in an attempt to reminisce about your time watching this trash . \n",
              " \n",
              "  xxmaj but that 's what the film is , it 's trash ; it 's very brave and shameless trash but trash none - the - less . xxmaj whoever came up with this idea , put it to paper and then spread it around the industry trying to get it made must either be very brave or very desperate . xxmaj it 's strange to have a film that is most definitely ' about ' something but one that does not have , under any sort of circumstance , a decisive narrative . xxmaj this follows on from that idea that most of xxmaj european cinema is artistic and its stories are ambiguous and open - ended and themes take precedence over most other things . xxmaj in xxmaj sex xxmaj lives of the xxmaj potato xxmaj men , the same situation and technically the same joke are replayed over and over again and that is an xxunk that consists of : ' sex is a very , very funny thing . ' xxmaj these ideas are perhaps more suited to an xxmaj american film so it 's no wonder that after a while watching this film , things start to feel a little out of sorts . \n",
              " \n",
              "  xxmaj the film begins and ends in the same manner , creating a feeling of a circular journey ; a circular journey that has gone absolutely nowhere and absolutely nothing has been achieved . xxmaj three blokes sit around a table talking and what - not . xxmaj their boss joins them and the conversation is limited to whatever crude and disgusting stories , situations or scenarios each can possibly think of . xxmaj the odd thing here , being that whenever one man says something nasty , the other grimaces but has an equally filthy story to give in return creating a contradiction in what these men find to cross the line and what they do not . xxmaj the men are xxmaj dave ( xxmaj vegas ) and xxmaj ferris ( xxmaj crook ) , two people joined by xxmaj xxunk ( xxmaj coleman ) whenever the film sees fit to throw in a third face to crack some more nasty sex jokes or break some peculiar stories . xxmaj they are employed by xxmaj jeremy ( xxmaj xxunk ) , a man who has deeper issues and problems but issues of which the film is more concerned with exploiting for the sake of humour rather than study . \n",
              " \n",
              "  xxmaj so what 's the situation in xxmaj sex xxmaj lives of the xxmaj potato xxmaj men ? xxmaj the three to four men are in a crisis and for the duration of the film , we will adopt the role of the hapless fly on the wall as we witness what foul play these people get up to over the period of about a week . xxmaj if the humour revolving around xxmaj dave and xxmaj ferris is disgusting and repulsive , then for xxmaj jeremy things are just spooky . xxmaj it all begins rather innocently and it appears there is a female he likes and one who equally likes him in return but when the essence that xxmaj jeremy is merely a stalker creeps in , that 's when the jaws drop . xxmaj the character of xxmaj jeremy is used and put across in a way that makes unrequited love and stalking in general merely look ' funny ' . xxmaj jeremy sits in his apartment listening to classical music and writing out letters of abuse to xxmaj ruth ( xxmaj davis ) , echoing some sort of psychotic persona more associated with xxmaj hannibal xxmaj lecter writing his letter 's to xxmaj clarice in 2001 's xxmaj hannibal . xxmaj but whatever sympathy we might have for him at this point is rendered absolutely false when , later on , it is revealed the true origin of their relationship . xxmaj suddenly , we as an audience feel cheated into feeling a mite sorry for him earlier on and for whatever reason he did do what he did in the first place just seems cowardly and distasteful . xxmaj to say what it was would ruin whatever few surprises lurk within the film . \n",
              " \n",
              "  xxmaj quite sad how , in one of xxmaj jeremy 's letters , he writes about something - or - other exclaiming it to have \" xxmaj no artistic vision  just one big mess \" . i hate it when words said by the characters echo the film they 're in . xxmaj sex xxmaj lives of the xxmaj potato xxmaj men does not explore someone 's psyche or particular interest in a fetish or why they feel the need to go around having as much sex as possible , it just uses them as a front to pile on ridiculously unfunny jokes and situations . xxmaj rather than take group sex and explore what drives a person to seek it down , it makes a daft joke out of it ( tickets with numbers on ! ? ) ; rather than get into the mindset of a fan of xxmaj sadomasochism , the film has someone hang from a basement ceiling and warn everyone of ' incoming salt and vinegar ' as he climaxes . xxmaj ferris covers his face in disgust and the camera fades to the next scene without too much of a fuss . xxmaj it 's a relief the film got to no audiences abroad . xxmaj this is one section of xxmaj british culture , indeed of the xxmaj british mentality that i pray will be confined to our shores and ignored accordingly .,xxbos xxmaj not as bad as 1992 's \" xxmaj nails \" ( where xxmaj hopper plays an \" unstable \" cop ) but pretty bad . xxmaj how can a movie with such a great cast go so wrong ? xxmaj this film manages to find a way . xxmaj the story was pretty stupid and xxmaj hopper 's direction seemed like he had never directed before . xxmaj all of the long shots in the beginning were bothersome . xxmaj lots of meaningless scenes with a lot of meaningless dialogue .,xxbos xxmaj this is a stereotype plot . a young fighter tries to enter a competition when he is not ready and is not selected to represent his fighting school . xxmaj this leads to separation from the fighting school and naturally he finds a strange new master to teach him to fight . \n",
              " \n",
              "  xxmaj the fights are not of high standards . xxmaj they are way too \" simple \" in a way that 1 + 1 is simple to every adult . xxmaj the fighter has trained and enters the ring , but does not do what he trained and gets an ass kicking . xxmaj the coach yells do this and do that with no success . xxmaj and after some more of this ridiculous beating he suddenly does what he is told and hits his opponent once . xxmaj this results in a turning point in the fight , although our hero has been taking a beating of his life up until that point . xxmaj think about the xxmaj rocky movies and you 'll have a good point of reference of how much beating he really takes . xxmaj the fights are also shot poorly . \n",
              " \n",
              "  xxmaj there final thing that screws this film up is the stupid romance . xxmaj cheesy music and awkward moments are not what i call entertainment . \n",
              " \n",
              "  xxmaj these guys really could have made some quality entertainment , but the director was n't up to the task . xxmaj or the other crew in my opinion . xxmaj maybe they had a small budget , i do n't know , but what matters in the end is that this movie is bad and deserves the rating of 3 out of 10 .,xxbos well i 'd probably agree with all the bad comments about this movie cos honestly i thought it was such a piece of crap i mean the actors had done a terrible acting job and the script was all terrible . xxmaj although the special effects was n't a bit bad but i think the should have thought a lot harder than that . i mean how did xxmaj clara xxmaj bryant get successfully put into this film i mean she 'd do a lot better if she looked a bit further and that goes the same with xxmaj kristen honey , i mean her character dies and she does n't bother to try and defend herself i mean it 's got ta be a total joke . xxmaj she should at least do a lot better than what she an do like become a soldier or more of a heroine or something along the lines of bravery . xxmaj but the point is the actors did a complete soulless lousy job and so did the director and the writer who made this film . they should 've went into film school to think up some better ideas and i hope everyone agrees with my methods cos they are probably thinking the same thing .,xxbos xxmaj this is a big disappointment . xxmaj the main problem is the acting . xxmaj xxunk le xxmaj touzel is pretty poor as xxmaj fanny , and the rest are not much better , everybody is very stilted and unnatural . xxmaj also the camerawork is very 1980 's ie cramped and jumpy , compared with the likes of 1995 's xxup p&p , for example . \n",
              " \n",
              "  xxmaj the script is , if anything too faithful to the book , and there are some cringe worthy expressions that should have been cut . \n",
              " \n",
              "  xxmaj in every way this is far inferior to the recent film version , which though it took huge liberties with the book , seemed far more faithful to the spirit of the book and was far more enjoyable .\n",
              "y: CategoryList\n",
              "neg,neg,neg,neg,neg\n",
              "Path: /root/.fastai/data/imdb;\n",
              "\n",
              "Test: None, model=SequentialRNN(\n",
              "  (0): MultiBatchEncoder(\n",
              "    (module): AWD_LSTM(\n",
              "      (encoder): Embedding(60003, 400, padding_idx=1)\n",
              "      (encoder_dp): EmbeddingDropout(\n",
              "        (emb): Embedding(60003, 400, padding_idx=1)\n",
              "      )\n",
              "      (rnns): ModuleList(\n",
              "        (0): WeightDropout(\n",
              "          (module): LSTM(400, 1150, batch_first=True)\n",
              "        )\n",
              "        (1): WeightDropout(\n",
              "          (module): LSTM(1150, 1150, batch_first=True)\n",
              "        )\n",
              "        (2): WeightDropout(\n",
              "          (module): LSTM(1150, 400, batch_first=True)\n",
              "        )\n",
              "      )\n",
              "      (input_dp): RNNDropout()\n",
              "      (hidden_dps): ModuleList(\n",
              "        (0): RNNDropout()\n",
              "        (1): RNNDropout()\n",
              "        (2): RNNDropout()\n",
              "      )\n",
              "    )\n",
              "  )\n",
              "  (1): PoolingLinearClassifier(\n",
              "    (layers): Sequential(\n",
              "      (0): BatchNorm1d(1200, eps=1e-05, momentum=0.1, affine=True, track_running_stats=True)\n",
              "      (1): Dropout(p=0.2)\n",
              "      (2): Linear(in_features=1200, out_features=50, bias=True)\n",
              "      (3): ReLU(inplace)\n",
              "      (4): BatchNorm1d(50, eps=1e-05, momentum=0.1, affine=True, track_running_stats=True)\n",
              "      (5): Dropout(p=0.1)\n",
              "      (6): Linear(in_features=50, out_features=2, bias=True)\n",
              "    )\n",
              "  )\n",
              "), opt_func=functools.partial(<class 'torch.optim.adam.Adam'>, betas=(0.9, 0.99)), loss_func=FlattenedLoss of CrossEntropyLoss(), metrics=[<function accuracy at 0x7fd56f7c8bf8>], true_wd=True, bn_wd=True, wd=0.01, train_bn=True, path=PosixPath('/root/.fastai/data/imdb'), model_dir='models', callback_fns=[functools.partial(<class 'fastai.basic_train.Recorder'>, add_time=True)], callbacks=[...], layer_groups=[Sequential(\n",
              "  (0): Embedding(60003, 400, padding_idx=1)\n",
              "  (1): EmbeddingDropout(\n",
              "    (emb): Embedding(60003, 400, padding_idx=1)\n",
              "  )\n",
              "), Sequential(\n",
              "  (0): WeightDropout(\n",
              "    (module): LSTM(400, 1150, batch_first=True)\n",
              "  )\n",
              "  (1): RNNDropout()\n",
              "), Sequential(\n",
              "  (0): WeightDropout(\n",
              "    (module): LSTM(1150, 1150, batch_first=True)\n",
              "  )\n",
              "  (1): RNNDropout()\n",
              "), Sequential(\n",
              "  (0): WeightDropout(\n",
              "    (module): LSTM(1150, 400, batch_first=True)\n",
              "  )\n",
              "  (1): RNNDropout()\n",
              "), Sequential(\n",
              "  (0): PoolingLinearClassifier(\n",
              "    (layers): Sequential(\n",
              "      (0): BatchNorm1d(1200, eps=1e-05, momentum=0.1, affine=True, track_running_stats=True)\n",
              "      (1): Dropout(p=0.2)\n",
              "      (2): Linear(in_features=1200, out_features=50, bias=True)\n",
              "      (3): ReLU(inplace)\n",
              "      (4): BatchNorm1d(50, eps=1e-05, momentum=0.1, affine=True, track_running_stats=True)\n",
              "      (5): Dropout(p=0.1)\n",
              "      (6): Linear(in_features=50, out_features=2, bias=True)\n",
              "    )\n",
              "  )\n",
              ")], add_time=True)\n",
              "alpha: 2.0\n",
              "beta: 1.0], layer_groups=[Sequential(\n",
              "  (0): Embedding(60003, 400, padding_idx=1)\n",
              "  (1): EmbeddingDropout(\n",
              "    (emb): Embedding(60003, 400, padding_idx=1)\n",
              "  )\n",
              "), Sequential(\n",
              "  (0): WeightDropout(\n",
              "    (module): LSTM(400, 1150, batch_first=True)\n",
              "  )\n",
              "  (1): RNNDropout()\n",
              "), Sequential(\n",
              "  (0): WeightDropout(\n",
              "    (module): LSTM(1150, 1150, batch_first=True)\n",
              "  )\n",
              "  (1): RNNDropout()\n",
              "), Sequential(\n",
              "  (0): WeightDropout(\n",
              "    (module): LSTM(1150, 400, batch_first=True)\n",
              "  )\n",
              "  (1): RNNDropout()\n",
              "), Sequential(\n",
              "  (0): PoolingLinearClassifier(\n",
              "    (layers): Sequential(\n",
              "      (0): BatchNorm1d(1200, eps=1e-05, momentum=0.1, affine=True, track_running_stats=True)\n",
              "      (1): Dropout(p=0.2)\n",
              "      (2): Linear(in_features=1200, out_features=50, bias=True)\n",
              "      (3): ReLU(inplace)\n",
              "      (4): BatchNorm1d(50, eps=1e-05, momentum=0.1, affine=True, track_running_stats=True)\n",
              "      (5): Dropout(p=0.1)\n",
              "      (6): Linear(in_features=50, out_features=2, bias=True)\n",
              "    )\n",
              "  )\n",
              ")], add_time=True)"
            ]
          },
          "metadata": {
            "tags": []
          },
          "execution_count": 77
        }
      ]
    },
    {
      "metadata": {
        "id": "9jEK6yo4DMtB",
        "colab_type": "code",
        "colab": {
          "base_uri": "https://localhost:8080/",
          "height": 103
        },
        "outputId": "87af9245-9fdb-4c04-b74e-474f97d56a02"
      },
      "cell_type": "code",
      "source": [
        "learn.freeze_to(-2)\n",
        "learn.fit_one_cycle(1, slice(1e-2/(2.6**4),1e-2), moms=(0.8,0.7))"
      ],
      "execution_count": 78,
      "outputs": [
        {
          "output_type": "display_data",
          "data": {
            "text/html": [
              "Total time: 12:48 <p><table border=\"1\" class=\"dataframe\">\n",
              "  <thead>\n",
              "    <tr style=\"text-align: left;\">\n",
              "      <th>epoch</th>\n",
              "      <th>train_loss</th>\n",
              "      <th>valid_loss</th>\n",
              "      <th>accuracy</th>\n",
              "      <th>time</th>\n",
              "    </tr>\n",
              "  </thead>\n",
              "  <tbody>\n",
              "    <tr>\n",
              "      <td>0</td>\n",
              "      <td>0.292317</td>\n",
              "      <td>0.205541</td>\n",
              "      <td>0.918240</td>\n",
              "      <td>12:48</td>\n",
              "    </tr>\n",
              "  </tbody>\n",
              "</table>"
            ],
            "text/plain": [
              "<IPython.core.display.HTML object>"
            ]
          },
          "metadata": {
            "tags": []
          }
        }
      ]
    },
    {
      "metadata": {
        "id": "BlZ6F72IDMwG",
        "colab_type": "code",
        "colab": {}
      },
      "cell_type": "code",
      "source": [
        "learn.save('second')"
      ],
      "execution_count": 0,
      "outputs": []
    },
    {
      "metadata": {
        "id": "7MOl8JdHDMyG",
        "colab_type": "code",
        "colab": {
          "base_uri": "https://localhost:8080/",
          "height": 4930
        },
        "outputId": "7827c30a-6650-4b71-c0da-3cbe02544f55"
      },
      "cell_type": "code",
      "source": [
        "learn.load('second')"
      ],
      "execution_count": 80,
      "outputs": [
        {
          "output_type": "execute_result",
          "data": {
            "text/plain": [
              "RNNLearner(data=TextClasDataBunch;\n",
              "\n",
              "Train: LabelList (25000 items)\n",
              "x: TextList\n",
              "xxbos i vowed a long time ago to xxup never , xxup ever watch a movie that has xxup anyone who xxup ever was a regular cast member of \" xxmaj saturday xxmaj night xxmaj live \" . i did n't rent \" xxmaj corky xxmaj romano \" but i was forced by my unfailing good manners to watch it for half an hour . xxmaj then my good manners failed . xxmaj stupid , not funny . xxmaj tedious , not hilarious . xxmaj bad , not good . xxmaj that in a nutshell is all i can say for this video .,xxbos xxmaj the worst kind of film . xxmaj basically , the xxup us xxmaj declaration of xxmaj independence was replaced with a plasma screen and this fooled the museum 's security for several days . xxmaj eh ? \n",
              " \n",
              "  xxmaj the plasma screen that would theoretically run for less than 2 seconds off that watch battery , assuming it had a low enough internal resistance to deliver the required current , which it would n't . \n",
              " \n",
              "  xxmaj it would be possible with a dozen large car batteries and an xxunk , but that system would n't fit into the case . xxmaj sorry to be anal , but this is n't even close to being plausible . xxmaj the rest of the film was n't a great deal better and i 'm left wondering why the budget could n't have been donated to charity or me .,xxbos xxmaj years after the fall of the last of the great corporations , the world has fallen into a new dark age where cyborgs are harvested for their parts . xxmaj cash , a female cyborg , travels to a wasteland doctor to receive news that she is pregnant . xxmaj on the run from xxmaj xxunk ( bounty hunters who hunt cyborgs ) , xxmaj cash tries to find her way to xxmaj xxunk , the mythical refuge for cyborgs . \n",
              " \n",
              "  \" xxmaj cyborg 3 : xxmaj the xxmaj xxunk \" is the third ( & last so far ) entry in the xxup cyborg trilogy . xxmaj the first film was originally planned to be a sequel to xxup masters xxup of xxup the xxup universe , but was quickly rewritten into a standard post - apocalyptic martial - arts fest that became something of a cult classic due to its cheesy action scenes . xxup cyborg 2 : xxup glass xxup shadow was a sequel that actually improved upon its predecessor but was not widely seen ( & was dismissed by those few who saw it as cheap fodder ) . \n",
              " \n",
              "  xxmaj this film , for one thing , tries to be a meld of the first two films ( the first was a cheesy action film while the second was a smart xxmaj cyberpunk story ) but unfortunately falls short on both counts . xxmaj the budget was obviously lower than xxup cyborg 2 , with the film being set in the desert wastelands ( like so many post - apocalyptic action films of the 90s were ) , shot around old industrial buildings to conserve costs . \n",
              " \n",
              "  xxmaj the film 's story centres on a plot device , that of a pregnant cyborg , that is as interesting as it is absurd ( this film is not the first to try that idea ; the anime xxup ova series xxup armitage xxup iii uses it to a greater extent ) . xxmaj but the film falls into the same trap that so many low - budget sci - fi action films fall victim to , in the fact that the snags ( synthetic organisms ) featured are nothing more than androids . xxmaj the visual effects amount to nothing more than prosthetic arms & makeup effects . \n",
              " \n",
              "  xxmaj the acting is pretty standard for this kind of film , with the lead actress ( xxmaj xxunk xxmaj haje ) being the single worst performer on display . xxmaj instead of being joyed at the news she is pregnant , she acts all whiny & sullen . xxmaj her co - stars are much better , xxmaj malcolm mcdowell being the usual gangster type who enlivens the scenes he appears in & xxmaj richard xxmaj lynch has a lot of fun as the chief villain . xxmaj of particular note is xxmaj andrew xxmaj xxunk , playing xxmaj lynch 's right hand man , who would later appear in xxup the xxmaj texas xxup chainsaw xxup massacre remake & its prequel .,xxbos i firmly believe that the best xxmaj oscar ceremony in recent years was in 2003 for two reasons : \n",
              " \n",
              "  1 ) xxmaj host xxmaj steve xxmaj martin was at his most wittiest : \" i saw the teamsters help xxmaj michael xxmaj moore into the trunk of his limo \" and \" i 'll better not mention the gay mafia in case i wake up with a poodle 's head in my bed \" \n",
              " \n",
              "  2 ) xxmaj surprise winners : xxmaj no one had xxmaj adrien xxmaj brody down for best actor ( xxmaj genuine applause ) or xxmaj roman xxmaj polanski for best director ( xxmaj genuine jeers and boos ) but they won \n",
              " \n",
              "  xxmaj last year 's award ceremony was n't too bad but there was little in the way of surprises and i was happy to see xxup return xxup of xxup the xxup king sweep the awards even if it was n't the best in the trilogy ( xxup fellowship was much better ) but what let the xxup bbc coverage down was xxmaj jonathan xxmaj ross getting a few of his sycophantic mates round and pretending they were hilarious when they were anything but . xxmaj so when i heard xxmaj sky were doing the coverage for xxmaj british xxup tv i was expecting xxmaj barry xxmaj norman and xxmaj mark xxmaj kermode to be doing the links , but instead we ended up with xxmaj jamie xxmaj xxunk and xxmaj sharon xxmaj osbourne ! xxmaj oh gawd if xxmaj british xxup tv are desperate for film critics ( xxmaj obviously they are ) i 'm sure both xxmaj bob xxmaj the xxmaj moo and xxmaj theo xxmaj robertson will happily fly over to xxup la to give their honest opinions on the winners and losers \n",
              " \n",
              "  xxmaj chris xxmaj rock was n't too bad , but he 's no xxmaj steve xxmaj martin while the location seemed to resemble a sports hall with seats put in ! xxmaj not much of a glitzy arena in my opinion . xxmaj the main problem i had with the ceremony was the format with the \" minor \" xxmaj oscars handed out to the winners who were sitting in their seats ! xxmaj there 's no such thing as a \" minor \" xxmaj oscar and just because the award is for xxmaj best xxmaj animated xxmaj short or xxmaj best xxmaj costume xxmaj design they 're as well deserved as xxmaj best xxmaj picture or xxmaj best xxmaj director . xxmaj all the winners should be allowed to march up to the podium . xxmaj what a bunch of arrogant snobs the xxmaj academy are becoming and i quite agree with the comments that this format is disgraceful and if it was n't for the surprises this could possibly have been the worst ceremony in history . xxmaj as for the awards themselves \n",
              " \n",
              "  xxmaj best xxmaj supporting xxmaj actress - xxmaj cate xxmaj blanchett . xxmaj no great surprise for a competitive category \n",
              " \n",
              "  xxmaj best xxmaj supporting xxmaj actor - xxmaj morgan xxmaj freeman . xxmaj no real complaints since xxmaj freeman is one of xxmaj america 's greatest living character actors \n",
              " \n",
              "  xxmaj best xxmaj actor - xxmaj jamie xxmaj foxx . xxmaj most predictable award of the night . xxmaj yawn \n",
              " \n",
              "  xxmaj best xxmaj actress - xxmaj hilary xxmaj swank . xxmaj major surprise since everyone thought xxmaj annette xxmaj benning was going to win simply down to academy politics but xxmaj swank did deserve it and gave the best speech of the night \n",
              " \n",
              "  xxmaj best xxmaj director - xxmaj clint xxmaj eastwood . xxmaj major surprise since everyone thought xxmaj scorsese was going to get the award simply because he 'd never won one . xxmaj actually i 'm glad about this because if he did n't deserve it for xxup taxi xxup driver , xxup raging xxup bull or xxup goodfellas he did n't deserve it for xxup the xxup aviator \n",
              " \n",
              "  xxmaj best xxmaj film - xxup million xxup dollar xxup baby . xxmaj again another major surprise since everyone thought the academy would split the awards for best director and best picture while i thought the xxmaj hollywood friendly plot of xxup the xxup aviator would have made it a dead cert for xxmaj best xxmaj picture while xxup xxunk 's controversial subject matter would have turned a lot of voters off \n",
              " \n",
              "  xxmaj what these awards perhaps illustrate is that this year the voters have decided to ignore xxmaj oscar politics and genuinely give out awards to people who deserve it something they have n't done in the past , i mean a xxup beautiful xxup mind beating xxup the xxup fellowship xxup of xxup the xxup ring for gawd 's sake ! xxmaj and long may the academy vote with their heads instead of their hearts,xxbos xxmaj this film was hard to get a hold of , and when i eventually saw it the disappointment was overwhelming . i mean , this is one of the great stories of the twentieth century : an unknown man takes advantage of the unsuspecting airline industry and xxup gets xxup away with millions in ransom without hurting anyone or bungling the attempt . xxmaj with all of this built - in interest , how could anyone make such a lackluster , talk - laden flick of this true - life event . xxmaj while xxmaj williams is always interesting , the screenwriters assumed that the xxup d.b. xxmaj cooper persona was stereotypically heroic like a movie star , s what we get is a type - without any engaging details or insights into the mind of a person daring enough and clever enough to have pulled it off . xxmaj harrold practically steals the movie with her spunk and pure beauty , but the real letdown was in the handling of the plot and the lame direction . xxmaj shame on this film for even existing .\n",
              "y: CategoryList\n",
              "neg,neg,neg,neg,neg\n",
              "Path: /root/.fastai/data/imdb;\n",
              "\n",
              "Valid: LabelList (25000 items)\n",
              "x: TextList\n",
              "xxbos xxmaj oh xxmaj sex xxmaj lives of the xxmaj potato xxmaj men , what foul demon created thee ? xxmaj this is a film that you watch , smirk a little during the runtime and then when you mention it to others having seen it , you just can not help but smile as you talk . xxmaj but it 's not that xxmaj sex xxmaj lives of the xxmaj potato xxmaj men is actually a funny film and one that inspires you to smile when talking or thinking about it , it 's just that the film is so bizarre ; is so insulting and is no shameless in its attempt to get across a meek laugh to do with sex and sex lives in general that you just can not help but have your mouth break out into a grin . xxmaj do bear in mind that what follows the smirk is a sinking of the head ; a consequent shake of the head and a raise of the index finger and thumb to both eyebrows as you gently rub them in an attempt to reminisce about your time watching this trash . \n",
              " \n",
              "  xxmaj but that 's what the film is , it 's trash ; it 's very brave and shameless trash but trash none - the - less . xxmaj whoever came up with this idea , put it to paper and then spread it around the industry trying to get it made must either be very brave or very desperate . xxmaj it 's strange to have a film that is most definitely ' about ' something but one that does not have , under any sort of circumstance , a decisive narrative . xxmaj this follows on from that idea that most of xxmaj european cinema is artistic and its stories are ambiguous and open - ended and themes take precedence over most other things . xxmaj in xxmaj sex xxmaj lives of the xxmaj potato xxmaj men , the same situation and technically the same joke are replayed over and over again and that is an xxunk that consists of : ' sex is a very , very funny thing . ' xxmaj these ideas are perhaps more suited to an xxmaj american film so it 's no wonder that after a while watching this film , things start to feel a little out of sorts . \n",
              " \n",
              "  xxmaj the film begins and ends in the same manner , creating a feeling of a circular journey ; a circular journey that has gone absolutely nowhere and absolutely nothing has been achieved . xxmaj three blokes sit around a table talking and what - not . xxmaj their boss joins them and the conversation is limited to whatever crude and disgusting stories , situations or scenarios each can possibly think of . xxmaj the odd thing here , being that whenever one man says something nasty , the other grimaces but has an equally filthy story to give in return creating a contradiction in what these men find to cross the line and what they do not . xxmaj the men are xxmaj dave ( xxmaj vegas ) and xxmaj ferris ( xxmaj crook ) , two people joined by xxmaj xxunk ( xxmaj coleman ) whenever the film sees fit to throw in a third face to crack some more nasty sex jokes or break some peculiar stories . xxmaj they are employed by xxmaj jeremy ( xxmaj xxunk ) , a man who has deeper issues and problems but issues of which the film is more concerned with exploiting for the sake of humour rather than study . \n",
              " \n",
              "  xxmaj so what 's the situation in xxmaj sex xxmaj lives of the xxmaj potato xxmaj men ? xxmaj the three to four men are in a crisis and for the duration of the film , we will adopt the role of the hapless fly on the wall as we witness what foul play these people get up to over the period of about a week . xxmaj if the humour revolving around xxmaj dave and xxmaj ferris is disgusting and repulsive , then for xxmaj jeremy things are just spooky . xxmaj it all begins rather innocently and it appears there is a female he likes and one who equally likes him in return but when the essence that xxmaj jeremy is merely a stalker creeps in , that 's when the jaws drop . xxmaj the character of xxmaj jeremy is used and put across in a way that makes unrequited love and stalking in general merely look ' funny ' . xxmaj jeremy sits in his apartment listening to classical music and writing out letters of abuse to xxmaj ruth ( xxmaj davis ) , echoing some sort of psychotic persona more associated with xxmaj hannibal xxmaj lecter writing his letter 's to xxmaj clarice in 2001 's xxmaj hannibal . xxmaj but whatever sympathy we might have for him at this point is rendered absolutely false when , later on , it is revealed the true origin of their relationship . xxmaj suddenly , we as an audience feel cheated into feeling a mite sorry for him earlier on and for whatever reason he did do what he did in the first place just seems cowardly and distasteful . xxmaj to say what it was would ruin whatever few surprises lurk within the film . \n",
              " \n",
              "  xxmaj quite sad how , in one of xxmaj jeremy 's letters , he writes about something - or - other exclaiming it to have \" xxmaj no artistic vision  just one big mess \" . i hate it when words said by the characters echo the film they 're in . xxmaj sex xxmaj lives of the xxmaj potato xxmaj men does not explore someone 's psyche or particular interest in a fetish or why they feel the need to go around having as much sex as possible , it just uses them as a front to pile on ridiculously unfunny jokes and situations . xxmaj rather than take group sex and explore what drives a person to seek it down , it makes a daft joke out of it ( tickets with numbers on ! ? ) ; rather than get into the mindset of a fan of xxmaj sadomasochism , the film has someone hang from a basement ceiling and warn everyone of ' incoming salt and vinegar ' as he climaxes . xxmaj ferris covers his face in disgust and the camera fades to the next scene without too much of a fuss . xxmaj it 's a relief the film got to no audiences abroad . xxmaj this is one section of xxmaj british culture , indeed of the xxmaj british mentality that i pray will be confined to our shores and ignored accordingly .,xxbos xxmaj not as bad as 1992 's \" xxmaj nails \" ( where xxmaj hopper plays an \" unstable \" cop ) but pretty bad . xxmaj how can a movie with such a great cast go so wrong ? xxmaj this film manages to find a way . xxmaj the story was pretty stupid and xxmaj hopper 's direction seemed like he had never directed before . xxmaj all of the long shots in the beginning were bothersome . xxmaj lots of meaningless scenes with a lot of meaningless dialogue .,xxbos xxmaj this is a stereotype plot . a young fighter tries to enter a competition when he is not ready and is not selected to represent his fighting school . xxmaj this leads to separation from the fighting school and naturally he finds a strange new master to teach him to fight . \n",
              " \n",
              "  xxmaj the fights are not of high standards . xxmaj they are way too \" simple \" in a way that 1 + 1 is simple to every adult . xxmaj the fighter has trained and enters the ring , but does not do what he trained and gets an ass kicking . xxmaj the coach yells do this and do that with no success . xxmaj and after some more of this ridiculous beating he suddenly does what he is told and hits his opponent once . xxmaj this results in a turning point in the fight , although our hero has been taking a beating of his life up until that point . xxmaj think about the xxmaj rocky movies and you 'll have a good point of reference of how much beating he really takes . xxmaj the fights are also shot poorly . \n",
              " \n",
              "  xxmaj there final thing that screws this film up is the stupid romance . xxmaj cheesy music and awkward moments are not what i call entertainment . \n",
              " \n",
              "  xxmaj these guys really could have made some quality entertainment , but the director was n't up to the task . xxmaj or the other crew in my opinion . xxmaj maybe they had a small budget , i do n't know , but what matters in the end is that this movie is bad and deserves the rating of 3 out of 10 .,xxbos well i 'd probably agree with all the bad comments about this movie cos honestly i thought it was such a piece of crap i mean the actors had done a terrible acting job and the script was all terrible . xxmaj although the special effects was n't a bit bad but i think the should have thought a lot harder than that . i mean how did xxmaj clara xxmaj bryant get successfully put into this film i mean she 'd do a lot better if she looked a bit further and that goes the same with xxmaj kristen honey , i mean her character dies and she does n't bother to try and defend herself i mean it 's got ta be a total joke . xxmaj she should at least do a lot better than what she an do like become a soldier or more of a heroine or something along the lines of bravery . xxmaj but the point is the actors did a complete soulless lousy job and so did the director and the writer who made this film . they should 've went into film school to think up some better ideas and i hope everyone agrees with my methods cos they are probably thinking the same thing .,xxbos xxmaj this is a big disappointment . xxmaj the main problem is the acting . xxmaj xxunk le xxmaj touzel is pretty poor as xxmaj fanny , and the rest are not much better , everybody is very stilted and unnatural . xxmaj also the camerawork is very 1980 's ie cramped and jumpy , compared with the likes of 1995 's xxup p&p , for example . \n",
              " \n",
              "  xxmaj the script is , if anything too faithful to the book , and there are some cringe worthy expressions that should have been cut . \n",
              " \n",
              "  xxmaj in every way this is far inferior to the recent film version , which though it took huge liberties with the book , seemed far more faithful to the spirit of the book and was far more enjoyable .\n",
              "y: CategoryList\n",
              "neg,neg,neg,neg,neg\n",
              "Path: /root/.fastai/data/imdb;\n",
              "\n",
              "Test: None, model=SequentialRNN(\n",
              "  (0): MultiBatchEncoder(\n",
              "    (module): AWD_LSTM(\n",
              "      (encoder): Embedding(60003, 400, padding_idx=1)\n",
              "      (encoder_dp): EmbeddingDropout(\n",
              "        (emb): Embedding(60003, 400, padding_idx=1)\n",
              "      )\n",
              "      (rnns): ModuleList(\n",
              "        (0): WeightDropout(\n",
              "          (module): LSTM(400, 1150, batch_first=True)\n",
              "        )\n",
              "        (1): WeightDropout(\n",
              "          (module): LSTM(1150, 1150, batch_first=True)\n",
              "        )\n",
              "        (2): WeightDropout(\n",
              "          (module): LSTM(1150, 400, batch_first=True)\n",
              "        )\n",
              "      )\n",
              "      (input_dp): RNNDropout()\n",
              "      (hidden_dps): ModuleList(\n",
              "        (0): RNNDropout()\n",
              "        (1): RNNDropout()\n",
              "        (2): RNNDropout()\n",
              "      )\n",
              "    )\n",
              "  )\n",
              "  (1): PoolingLinearClassifier(\n",
              "    (layers): Sequential(\n",
              "      (0): BatchNorm1d(1200, eps=1e-05, momentum=0.1, affine=True, track_running_stats=True)\n",
              "      (1): Dropout(p=0.2)\n",
              "      (2): Linear(in_features=1200, out_features=50, bias=True)\n",
              "      (3): ReLU(inplace)\n",
              "      (4): BatchNorm1d(50, eps=1e-05, momentum=0.1, affine=True, track_running_stats=True)\n",
              "      (5): Dropout(p=0.1)\n",
              "      (6): Linear(in_features=50, out_features=2, bias=True)\n",
              "    )\n",
              "  )\n",
              "), opt_func=functools.partial(<class 'torch.optim.adam.Adam'>, betas=(0.9, 0.99)), loss_func=FlattenedLoss of CrossEntropyLoss(), metrics=[<function accuracy at 0x7fd56f7c8bf8>], true_wd=True, bn_wd=True, wd=0.01, train_bn=True, path=PosixPath('/root/.fastai/data/imdb'), model_dir='models', callback_fns=[functools.partial(<class 'fastai.basic_train.Recorder'>, add_time=True)], callbacks=[RNNTrainer\n",
              "learn: RNNLearner(data=TextClasDataBunch;\n",
              "\n",
              "Train: LabelList (25000 items)\n",
              "x: TextList\n",
              "xxbos i vowed a long time ago to xxup never , xxup ever watch a movie that has xxup anyone who xxup ever was a regular cast member of \" xxmaj saturday xxmaj night xxmaj live \" . i did n't rent \" xxmaj corky xxmaj romano \" but i was forced by my unfailing good manners to watch it for half an hour . xxmaj then my good manners failed . xxmaj stupid , not funny . xxmaj tedious , not hilarious . xxmaj bad , not good . xxmaj that in a nutshell is all i can say for this video .,xxbos xxmaj the worst kind of film . xxmaj basically , the xxup us xxmaj declaration of xxmaj independence was replaced with a plasma screen and this fooled the museum 's security for several days . xxmaj eh ? \n",
              " \n",
              "  xxmaj the plasma screen that would theoretically run for less than 2 seconds off that watch battery , assuming it had a low enough internal resistance to deliver the required current , which it would n't . \n",
              " \n",
              "  xxmaj it would be possible with a dozen large car batteries and an xxunk , but that system would n't fit into the case . xxmaj sorry to be anal , but this is n't even close to being plausible . xxmaj the rest of the film was n't a great deal better and i 'm left wondering why the budget could n't have been donated to charity or me .,xxbos xxmaj years after the fall of the last of the great corporations , the world has fallen into a new dark age where cyborgs are harvested for their parts . xxmaj cash , a female cyborg , travels to a wasteland doctor to receive news that she is pregnant . xxmaj on the run from xxmaj xxunk ( bounty hunters who hunt cyborgs ) , xxmaj cash tries to find her way to xxmaj xxunk , the mythical refuge for cyborgs . \n",
              " \n",
              "  \" xxmaj cyborg 3 : xxmaj the xxmaj xxunk \" is the third ( & last so far ) entry in the xxup cyborg trilogy . xxmaj the first film was originally planned to be a sequel to xxup masters xxup of xxup the xxup universe , but was quickly rewritten into a standard post - apocalyptic martial - arts fest that became something of a cult classic due to its cheesy action scenes . xxup cyborg 2 : xxup glass xxup shadow was a sequel that actually improved upon its predecessor but was not widely seen ( & was dismissed by those few who saw it as cheap fodder ) . \n",
              " \n",
              "  xxmaj this film , for one thing , tries to be a meld of the first two films ( the first was a cheesy action film while the second was a smart xxmaj cyberpunk story ) but unfortunately falls short on both counts . xxmaj the budget was obviously lower than xxup cyborg 2 , with the film being set in the desert wastelands ( like so many post - apocalyptic action films of the 90s were ) , shot around old industrial buildings to conserve costs . \n",
              " \n",
              "  xxmaj the film 's story centres on a plot device , that of a pregnant cyborg , that is as interesting as it is absurd ( this film is not the first to try that idea ; the anime xxup ova series xxup armitage xxup iii uses it to a greater extent ) . xxmaj but the film falls into the same trap that so many low - budget sci - fi action films fall victim to , in the fact that the snags ( synthetic organisms ) featured are nothing more than androids . xxmaj the visual effects amount to nothing more than prosthetic arms & makeup effects . \n",
              " \n",
              "  xxmaj the acting is pretty standard for this kind of film , with the lead actress ( xxmaj xxunk xxmaj haje ) being the single worst performer on display . xxmaj instead of being joyed at the news she is pregnant , she acts all whiny & sullen . xxmaj her co - stars are much better , xxmaj malcolm mcdowell being the usual gangster type who enlivens the scenes he appears in & xxmaj richard xxmaj lynch has a lot of fun as the chief villain . xxmaj of particular note is xxmaj andrew xxmaj xxunk , playing xxmaj lynch 's right hand man , who would later appear in xxup the xxmaj texas xxup chainsaw xxup massacre remake & its prequel .,xxbos i firmly believe that the best xxmaj oscar ceremony in recent years was in 2003 for two reasons : \n",
              " \n",
              "  1 ) xxmaj host xxmaj steve xxmaj martin was at his most wittiest : \" i saw the teamsters help xxmaj michael xxmaj moore into the trunk of his limo \" and \" i 'll better not mention the gay mafia in case i wake up with a poodle 's head in my bed \" \n",
              " \n",
              "  2 ) xxmaj surprise winners : xxmaj no one had xxmaj adrien xxmaj brody down for best actor ( xxmaj genuine applause ) or xxmaj roman xxmaj polanski for best director ( xxmaj genuine jeers and boos ) but they won \n",
              " \n",
              "  xxmaj last year 's award ceremony was n't too bad but there was little in the way of surprises and i was happy to see xxup return xxup of xxup the xxup king sweep the awards even if it was n't the best in the trilogy ( xxup fellowship was much better ) but what let the xxup bbc coverage down was xxmaj jonathan xxmaj ross getting a few of his sycophantic mates round and pretending they were hilarious when they were anything but . xxmaj so when i heard xxmaj sky were doing the coverage for xxmaj british xxup tv i was expecting xxmaj barry xxmaj norman and xxmaj mark xxmaj kermode to be doing the links , but instead we ended up with xxmaj jamie xxmaj xxunk and xxmaj sharon xxmaj osbourne ! xxmaj oh gawd if xxmaj british xxup tv are desperate for film critics ( xxmaj obviously they are ) i 'm sure both xxmaj bob xxmaj the xxmaj moo and xxmaj theo xxmaj robertson will happily fly over to xxup la to give their honest opinions on the winners and losers \n",
              " \n",
              "  xxmaj chris xxmaj rock was n't too bad , but he 's no xxmaj steve xxmaj martin while the location seemed to resemble a sports hall with seats put in ! xxmaj not much of a glitzy arena in my opinion . xxmaj the main problem i had with the ceremony was the format with the \" minor \" xxmaj oscars handed out to the winners who were sitting in their seats ! xxmaj there 's no such thing as a \" minor \" xxmaj oscar and just because the award is for xxmaj best xxmaj animated xxmaj short or xxmaj best xxmaj costume xxmaj design they 're as well deserved as xxmaj best xxmaj picture or xxmaj best xxmaj director . xxmaj all the winners should be allowed to march up to the podium . xxmaj what a bunch of arrogant snobs the xxmaj academy are becoming and i quite agree with the comments that this format is disgraceful and if it was n't for the surprises this could possibly have been the worst ceremony in history . xxmaj as for the awards themselves \n",
              " \n",
              "  xxmaj best xxmaj supporting xxmaj actress - xxmaj cate xxmaj blanchett . xxmaj no great surprise for a competitive category \n",
              " \n",
              "  xxmaj best xxmaj supporting xxmaj actor - xxmaj morgan xxmaj freeman . xxmaj no real complaints since xxmaj freeman is one of xxmaj america 's greatest living character actors \n",
              " \n",
              "  xxmaj best xxmaj actor - xxmaj jamie xxmaj foxx . xxmaj most predictable award of the night . xxmaj yawn \n",
              " \n",
              "  xxmaj best xxmaj actress - xxmaj hilary xxmaj swank . xxmaj major surprise since everyone thought xxmaj annette xxmaj benning was going to win simply down to academy politics but xxmaj swank did deserve it and gave the best speech of the night \n",
              " \n",
              "  xxmaj best xxmaj director - xxmaj clint xxmaj eastwood . xxmaj major surprise since everyone thought xxmaj scorsese was going to get the award simply because he 'd never won one . xxmaj actually i 'm glad about this because if he did n't deserve it for xxup taxi xxup driver , xxup raging xxup bull or xxup goodfellas he did n't deserve it for xxup the xxup aviator \n",
              " \n",
              "  xxmaj best xxmaj film - xxup million xxup dollar xxup baby . xxmaj again another major surprise since everyone thought the academy would split the awards for best director and best picture while i thought the xxmaj hollywood friendly plot of xxup the xxup aviator would have made it a dead cert for xxmaj best xxmaj picture while xxup xxunk 's controversial subject matter would have turned a lot of voters off \n",
              " \n",
              "  xxmaj what these awards perhaps illustrate is that this year the voters have decided to ignore xxmaj oscar politics and genuinely give out awards to people who deserve it something they have n't done in the past , i mean a xxup beautiful xxup mind beating xxup the xxup fellowship xxup of xxup the xxup ring for gawd 's sake ! xxmaj and long may the academy vote with their heads instead of their hearts,xxbos xxmaj this film was hard to get a hold of , and when i eventually saw it the disappointment was overwhelming . i mean , this is one of the great stories of the twentieth century : an unknown man takes advantage of the unsuspecting airline industry and xxup gets xxup away with millions in ransom without hurting anyone or bungling the attempt . xxmaj with all of this built - in interest , how could anyone make such a lackluster , talk - laden flick of this true - life event . xxmaj while xxmaj williams is always interesting , the screenwriters assumed that the xxup d.b. xxmaj cooper persona was stereotypically heroic like a movie star , s what we get is a type - without any engaging details or insights into the mind of a person daring enough and clever enough to have pulled it off . xxmaj harrold practically steals the movie with her spunk and pure beauty , but the real letdown was in the handling of the plot and the lame direction . xxmaj shame on this film for even existing .\n",
              "y: CategoryList\n",
              "neg,neg,neg,neg,neg\n",
              "Path: /root/.fastai/data/imdb;\n",
              "\n",
              "Valid: LabelList (25000 items)\n",
              "x: TextList\n",
              "xxbos xxmaj oh xxmaj sex xxmaj lives of the xxmaj potato xxmaj men , what foul demon created thee ? xxmaj this is a film that you watch , smirk a little during the runtime and then when you mention it to others having seen it , you just can not help but smile as you talk . xxmaj but it 's not that xxmaj sex xxmaj lives of the xxmaj potato xxmaj men is actually a funny film and one that inspires you to smile when talking or thinking about it , it 's just that the film is so bizarre ; is so insulting and is no shameless in its attempt to get across a meek laugh to do with sex and sex lives in general that you just can not help but have your mouth break out into a grin . xxmaj do bear in mind that what follows the smirk is a sinking of the head ; a consequent shake of the head and a raise of the index finger and thumb to both eyebrows as you gently rub them in an attempt to reminisce about your time watching this trash . \n",
              " \n",
              "  xxmaj but that 's what the film is , it 's trash ; it 's very brave and shameless trash but trash none - the - less . xxmaj whoever came up with this idea , put it to paper and then spread it around the industry trying to get it made must either be very brave or very desperate . xxmaj it 's strange to have a film that is most definitely ' about ' something but one that does not have , under any sort of circumstance , a decisive narrative . xxmaj this follows on from that idea that most of xxmaj european cinema is artistic and its stories are ambiguous and open - ended and themes take precedence over most other things . xxmaj in xxmaj sex xxmaj lives of the xxmaj potato xxmaj men , the same situation and technically the same joke are replayed over and over again and that is an xxunk that consists of : ' sex is a very , very funny thing . ' xxmaj these ideas are perhaps more suited to an xxmaj american film so it 's no wonder that after a while watching this film , things start to feel a little out of sorts . \n",
              " \n",
              "  xxmaj the film begins and ends in the same manner , creating a feeling of a circular journey ; a circular journey that has gone absolutely nowhere and absolutely nothing has been achieved . xxmaj three blokes sit around a table talking and what - not . xxmaj their boss joins them and the conversation is limited to whatever crude and disgusting stories , situations or scenarios each can possibly think of . xxmaj the odd thing here , being that whenever one man says something nasty , the other grimaces but has an equally filthy story to give in return creating a contradiction in what these men find to cross the line and what they do not . xxmaj the men are xxmaj dave ( xxmaj vegas ) and xxmaj ferris ( xxmaj crook ) , two people joined by xxmaj xxunk ( xxmaj coleman ) whenever the film sees fit to throw in a third face to crack some more nasty sex jokes or break some peculiar stories . xxmaj they are employed by xxmaj jeremy ( xxmaj xxunk ) , a man who has deeper issues and problems but issues of which the film is more concerned with exploiting for the sake of humour rather than study . \n",
              " \n",
              "  xxmaj so what 's the situation in xxmaj sex xxmaj lives of the xxmaj potato xxmaj men ? xxmaj the three to four men are in a crisis and for the duration of the film , we will adopt the role of the hapless fly on the wall as we witness what foul play these people get up to over the period of about a week . xxmaj if the humour revolving around xxmaj dave and xxmaj ferris is disgusting and repulsive , then for xxmaj jeremy things are just spooky . xxmaj it all begins rather innocently and it appears there is a female he likes and one who equally likes him in return but when the essence that xxmaj jeremy is merely a stalker creeps in , that 's when the jaws drop . xxmaj the character of xxmaj jeremy is used and put across in a way that makes unrequited love and stalking in general merely look ' funny ' . xxmaj jeremy sits in his apartment listening to classical music and writing out letters of abuse to xxmaj ruth ( xxmaj davis ) , echoing some sort of psychotic persona more associated with xxmaj hannibal xxmaj lecter writing his letter 's to xxmaj clarice in 2001 's xxmaj hannibal . xxmaj but whatever sympathy we might have for him at this point is rendered absolutely false when , later on , it is revealed the true origin of their relationship . xxmaj suddenly , we as an audience feel cheated into feeling a mite sorry for him earlier on and for whatever reason he did do what he did in the first place just seems cowardly and distasteful . xxmaj to say what it was would ruin whatever few surprises lurk within the film . \n",
              " \n",
              "  xxmaj quite sad how , in one of xxmaj jeremy 's letters , he writes about something - or - other exclaiming it to have \" xxmaj no artistic vision  just one big mess \" . i hate it when words said by the characters echo the film they 're in . xxmaj sex xxmaj lives of the xxmaj potato xxmaj men does not explore someone 's psyche or particular interest in a fetish or why they feel the need to go around having as much sex as possible , it just uses them as a front to pile on ridiculously unfunny jokes and situations . xxmaj rather than take group sex and explore what drives a person to seek it down , it makes a daft joke out of it ( tickets with numbers on ! ? ) ; rather than get into the mindset of a fan of xxmaj sadomasochism , the film has someone hang from a basement ceiling and warn everyone of ' incoming salt and vinegar ' as he climaxes . xxmaj ferris covers his face in disgust and the camera fades to the next scene without too much of a fuss . xxmaj it 's a relief the film got to no audiences abroad . xxmaj this is one section of xxmaj british culture , indeed of the xxmaj british mentality that i pray will be confined to our shores and ignored accordingly .,xxbos xxmaj not as bad as 1992 's \" xxmaj nails \" ( where xxmaj hopper plays an \" unstable \" cop ) but pretty bad . xxmaj how can a movie with such a great cast go so wrong ? xxmaj this film manages to find a way . xxmaj the story was pretty stupid and xxmaj hopper 's direction seemed like he had never directed before . xxmaj all of the long shots in the beginning were bothersome . xxmaj lots of meaningless scenes with a lot of meaningless dialogue .,xxbos xxmaj this is a stereotype plot . a young fighter tries to enter a competition when he is not ready and is not selected to represent his fighting school . xxmaj this leads to separation from the fighting school and naturally he finds a strange new master to teach him to fight . \n",
              " \n",
              "  xxmaj the fights are not of high standards . xxmaj they are way too \" simple \" in a way that 1 + 1 is simple to every adult . xxmaj the fighter has trained and enters the ring , but does not do what he trained and gets an ass kicking . xxmaj the coach yells do this and do that with no success . xxmaj and after some more of this ridiculous beating he suddenly does what he is told and hits his opponent once . xxmaj this results in a turning point in the fight , although our hero has been taking a beating of his life up until that point . xxmaj think about the xxmaj rocky movies and you 'll have a good point of reference of how much beating he really takes . xxmaj the fights are also shot poorly . \n",
              " \n",
              "  xxmaj there final thing that screws this film up is the stupid romance . xxmaj cheesy music and awkward moments are not what i call entertainment . \n",
              " \n",
              "  xxmaj these guys really could have made some quality entertainment , but the director was n't up to the task . xxmaj or the other crew in my opinion . xxmaj maybe they had a small budget , i do n't know , but what matters in the end is that this movie is bad and deserves the rating of 3 out of 10 .,xxbos well i 'd probably agree with all the bad comments about this movie cos honestly i thought it was such a piece of crap i mean the actors had done a terrible acting job and the script was all terrible . xxmaj although the special effects was n't a bit bad but i think the should have thought a lot harder than that . i mean how did xxmaj clara xxmaj bryant get successfully put into this film i mean she 'd do a lot better if she looked a bit further and that goes the same with xxmaj kristen honey , i mean her character dies and she does n't bother to try and defend herself i mean it 's got ta be a total joke . xxmaj she should at least do a lot better than what she an do like become a soldier or more of a heroine or something along the lines of bravery . xxmaj but the point is the actors did a complete soulless lousy job and so did the director and the writer who made this film . they should 've went into film school to think up some better ideas and i hope everyone agrees with my methods cos they are probably thinking the same thing .,xxbos xxmaj this is a big disappointment . xxmaj the main problem is the acting . xxmaj xxunk le xxmaj touzel is pretty poor as xxmaj fanny , and the rest are not much better , everybody is very stilted and unnatural . xxmaj also the camerawork is very 1980 's ie cramped and jumpy , compared with the likes of 1995 's xxup p&p , for example . \n",
              " \n",
              "  xxmaj the script is , if anything too faithful to the book , and there are some cringe worthy expressions that should have been cut . \n",
              " \n",
              "  xxmaj in every way this is far inferior to the recent film version , which though it took huge liberties with the book , seemed far more faithful to the spirit of the book and was far more enjoyable .\n",
              "y: CategoryList\n",
              "neg,neg,neg,neg,neg\n",
              "Path: /root/.fastai/data/imdb;\n",
              "\n",
              "Test: None, model=SequentialRNN(\n",
              "  (0): MultiBatchEncoder(\n",
              "    (module): AWD_LSTM(\n",
              "      (encoder): Embedding(60003, 400, padding_idx=1)\n",
              "      (encoder_dp): EmbeddingDropout(\n",
              "        (emb): Embedding(60003, 400, padding_idx=1)\n",
              "      )\n",
              "      (rnns): ModuleList(\n",
              "        (0): WeightDropout(\n",
              "          (module): LSTM(400, 1150, batch_first=True)\n",
              "        )\n",
              "        (1): WeightDropout(\n",
              "          (module): LSTM(1150, 1150, batch_first=True)\n",
              "        )\n",
              "        (2): WeightDropout(\n",
              "          (module): LSTM(1150, 400, batch_first=True)\n",
              "        )\n",
              "      )\n",
              "      (input_dp): RNNDropout()\n",
              "      (hidden_dps): ModuleList(\n",
              "        (0): RNNDropout()\n",
              "        (1): RNNDropout()\n",
              "        (2): RNNDropout()\n",
              "      )\n",
              "    )\n",
              "  )\n",
              "  (1): PoolingLinearClassifier(\n",
              "    (layers): Sequential(\n",
              "      (0): BatchNorm1d(1200, eps=1e-05, momentum=0.1, affine=True, track_running_stats=True)\n",
              "      (1): Dropout(p=0.2)\n",
              "      (2): Linear(in_features=1200, out_features=50, bias=True)\n",
              "      (3): ReLU(inplace)\n",
              "      (4): BatchNorm1d(50, eps=1e-05, momentum=0.1, affine=True, track_running_stats=True)\n",
              "      (5): Dropout(p=0.1)\n",
              "      (6): Linear(in_features=50, out_features=2, bias=True)\n",
              "    )\n",
              "  )\n",
              "), opt_func=functools.partial(<class 'torch.optim.adam.Adam'>, betas=(0.9, 0.99)), loss_func=FlattenedLoss of CrossEntropyLoss(), metrics=[<function accuracy at 0x7fd56f7c8bf8>], true_wd=True, bn_wd=True, wd=0.01, train_bn=True, path=PosixPath('/root/.fastai/data/imdb'), model_dir='models', callback_fns=[functools.partial(<class 'fastai.basic_train.Recorder'>, add_time=True)], callbacks=[...], layer_groups=[Sequential(\n",
              "  (0): Embedding(60003, 400, padding_idx=1)\n",
              "  (1): EmbeddingDropout(\n",
              "    (emb): Embedding(60003, 400, padding_idx=1)\n",
              "  )\n",
              "), Sequential(\n",
              "  (0): WeightDropout(\n",
              "    (module): LSTM(400, 1150, batch_first=True)\n",
              "  )\n",
              "  (1): RNNDropout()\n",
              "), Sequential(\n",
              "  (0): WeightDropout(\n",
              "    (module): LSTM(1150, 1150, batch_first=True)\n",
              "  )\n",
              "  (1): RNNDropout()\n",
              "), Sequential(\n",
              "  (0): WeightDropout(\n",
              "    (module): LSTM(1150, 400, batch_first=True)\n",
              "  )\n",
              "  (1): RNNDropout()\n",
              "), Sequential(\n",
              "  (0): PoolingLinearClassifier(\n",
              "    (layers): Sequential(\n",
              "      (0): BatchNorm1d(1200, eps=1e-05, momentum=0.1, affine=True, track_running_stats=True)\n",
              "      (1): Dropout(p=0.2)\n",
              "      (2): Linear(in_features=1200, out_features=50, bias=True)\n",
              "      (3): ReLU(inplace)\n",
              "      (4): BatchNorm1d(50, eps=1e-05, momentum=0.1, affine=True, track_running_stats=True)\n",
              "      (5): Dropout(p=0.1)\n",
              "      (6): Linear(in_features=50, out_features=2, bias=True)\n",
              "    )\n",
              "  )\n",
              ")], add_time=True)\n",
              "alpha: 2.0\n",
              "beta: 1.0], layer_groups=[Sequential(\n",
              "  (0): Embedding(60003, 400, padding_idx=1)\n",
              "  (1): EmbeddingDropout(\n",
              "    (emb): Embedding(60003, 400, padding_idx=1)\n",
              "  )\n",
              "), Sequential(\n",
              "  (0): WeightDropout(\n",
              "    (module): LSTM(400, 1150, batch_first=True)\n",
              "  )\n",
              "  (1): RNNDropout()\n",
              "), Sequential(\n",
              "  (0): WeightDropout(\n",
              "    (module): LSTM(1150, 1150, batch_first=True)\n",
              "  )\n",
              "  (1): RNNDropout()\n",
              "), Sequential(\n",
              "  (0): WeightDropout(\n",
              "    (module): LSTM(1150, 400, batch_first=True)\n",
              "  )\n",
              "  (1): RNNDropout()\n",
              "), Sequential(\n",
              "  (0): PoolingLinearClassifier(\n",
              "    (layers): Sequential(\n",
              "      (0): BatchNorm1d(1200, eps=1e-05, momentum=0.1, affine=True, track_running_stats=True)\n",
              "      (1): Dropout(p=0.2)\n",
              "      (2): Linear(in_features=1200, out_features=50, bias=True)\n",
              "      (3): ReLU(inplace)\n",
              "      (4): BatchNorm1d(50, eps=1e-05, momentum=0.1, affine=True, track_running_stats=True)\n",
              "      (5): Dropout(p=0.1)\n",
              "      (6): Linear(in_features=50, out_features=2, bias=True)\n",
              "    )\n",
              "  )\n",
              ")], add_time=True)"
            ]
          },
          "metadata": {
            "tags": []
          },
          "execution_count": 80
        }
      ]
    },
    {
      "metadata": {
        "id": "NGM95130DM1l",
        "colab_type": "code",
        "colab": {
          "base_uri": "https://localhost:8080/",
          "height": 103
        },
        "outputId": "59441b7a-6c57-47f3-96af-28b1017910aa"
      },
      "cell_type": "code",
      "source": [
        "learn.freeze_to(-3)\n",
        "learn.fit_one_cycle(1, slice(5e-3/(2.6**4),5e-3), moms=(0.8,0.7))"
      ],
      "execution_count": 81,
      "outputs": [
        {
          "output_type": "display_data",
          "data": {
            "text/html": [
              "Total time: 18:15 <p><table border=\"1\" class=\"dataframe\">\n",
              "  <thead>\n",
              "    <tr style=\"text-align: left;\">\n",
              "      <th>epoch</th>\n",
              "      <th>train_loss</th>\n",
              "      <th>valid_loss</th>\n",
              "      <th>accuracy</th>\n",
              "      <th>time</th>\n",
              "    </tr>\n",
              "  </thead>\n",
              "  <tbody>\n",
              "    <tr>\n",
              "      <td>0</td>\n",
              "      <td>0.246231</td>\n",
              "      <td>0.176457</td>\n",
              "      <td>0.931880</td>\n",
              "      <td>18:15</td>\n",
              "    </tr>\n",
              "  </tbody>\n",
              "</table>"
            ],
            "text/plain": [
              "<IPython.core.display.HTML object>"
            ]
          },
          "metadata": {
            "tags": []
          }
        }
      ]
    },
    {
      "metadata": {
        "id": "Mf9MBzdTDM3F",
        "colab_type": "code",
        "colab": {}
      },
      "cell_type": "code",
      "source": [
        "learn.save('third')"
      ],
      "execution_count": 0,
      "outputs": []
    },
    {
      "metadata": {
        "id": "7kCj4UfWDM9Z",
        "colab_type": "code",
        "colab": {
          "base_uri": "https://localhost:8080/",
          "height": 4930
        },
        "outputId": "2ecba832-82a4-4c82-b658-8af514805b74"
      },
      "cell_type": "code",
      "source": [
        "learn.load('third')"
      ],
      "execution_count": 83,
      "outputs": [
        {
          "output_type": "execute_result",
          "data": {
            "text/plain": [
              "RNNLearner(data=TextClasDataBunch;\n",
              "\n",
              "Train: LabelList (25000 items)\n",
              "x: TextList\n",
              "xxbos i vowed a long time ago to xxup never , xxup ever watch a movie that has xxup anyone who xxup ever was a regular cast member of \" xxmaj saturday xxmaj night xxmaj live \" . i did n't rent \" xxmaj corky xxmaj romano \" but i was forced by my unfailing good manners to watch it for half an hour . xxmaj then my good manners failed . xxmaj stupid , not funny . xxmaj tedious , not hilarious . xxmaj bad , not good . xxmaj that in a nutshell is all i can say for this video .,xxbos xxmaj the worst kind of film . xxmaj basically , the xxup us xxmaj declaration of xxmaj independence was replaced with a plasma screen and this fooled the museum 's security for several days . xxmaj eh ? \n",
              " \n",
              "  xxmaj the plasma screen that would theoretically run for less than 2 seconds off that watch battery , assuming it had a low enough internal resistance to deliver the required current , which it would n't . \n",
              " \n",
              "  xxmaj it would be possible with a dozen large car batteries and an xxunk , but that system would n't fit into the case . xxmaj sorry to be anal , but this is n't even close to being plausible . xxmaj the rest of the film was n't a great deal better and i 'm left wondering why the budget could n't have been donated to charity or me .,xxbos xxmaj years after the fall of the last of the great corporations , the world has fallen into a new dark age where cyborgs are harvested for their parts . xxmaj cash , a female cyborg , travels to a wasteland doctor to receive news that she is pregnant . xxmaj on the run from xxmaj xxunk ( bounty hunters who hunt cyborgs ) , xxmaj cash tries to find her way to xxmaj xxunk , the mythical refuge for cyborgs . \n",
              " \n",
              "  \" xxmaj cyborg 3 : xxmaj the xxmaj xxunk \" is the third ( & last so far ) entry in the xxup cyborg trilogy . xxmaj the first film was originally planned to be a sequel to xxup masters xxup of xxup the xxup universe , but was quickly rewritten into a standard post - apocalyptic martial - arts fest that became something of a cult classic due to its cheesy action scenes . xxup cyborg 2 : xxup glass xxup shadow was a sequel that actually improved upon its predecessor but was not widely seen ( & was dismissed by those few who saw it as cheap fodder ) . \n",
              " \n",
              "  xxmaj this film , for one thing , tries to be a meld of the first two films ( the first was a cheesy action film while the second was a smart xxmaj cyberpunk story ) but unfortunately falls short on both counts . xxmaj the budget was obviously lower than xxup cyborg 2 , with the film being set in the desert wastelands ( like so many post - apocalyptic action films of the 90s were ) , shot around old industrial buildings to conserve costs . \n",
              " \n",
              "  xxmaj the film 's story centres on a plot device , that of a pregnant cyborg , that is as interesting as it is absurd ( this film is not the first to try that idea ; the anime xxup ova series xxup armitage xxup iii uses it to a greater extent ) . xxmaj but the film falls into the same trap that so many low - budget sci - fi action films fall victim to , in the fact that the snags ( synthetic organisms ) featured are nothing more than androids . xxmaj the visual effects amount to nothing more than prosthetic arms & makeup effects . \n",
              " \n",
              "  xxmaj the acting is pretty standard for this kind of film , with the lead actress ( xxmaj xxunk xxmaj haje ) being the single worst performer on display . xxmaj instead of being joyed at the news she is pregnant , she acts all whiny & sullen . xxmaj her co - stars are much better , xxmaj malcolm mcdowell being the usual gangster type who enlivens the scenes he appears in & xxmaj richard xxmaj lynch has a lot of fun as the chief villain . xxmaj of particular note is xxmaj andrew xxmaj xxunk , playing xxmaj lynch 's right hand man , who would later appear in xxup the xxmaj texas xxup chainsaw xxup massacre remake & its prequel .,xxbos i firmly believe that the best xxmaj oscar ceremony in recent years was in 2003 for two reasons : \n",
              " \n",
              "  1 ) xxmaj host xxmaj steve xxmaj martin was at his most wittiest : \" i saw the teamsters help xxmaj michael xxmaj moore into the trunk of his limo \" and \" i 'll better not mention the gay mafia in case i wake up with a poodle 's head in my bed \" \n",
              " \n",
              "  2 ) xxmaj surprise winners : xxmaj no one had xxmaj adrien xxmaj brody down for best actor ( xxmaj genuine applause ) or xxmaj roman xxmaj polanski for best director ( xxmaj genuine jeers and boos ) but they won \n",
              " \n",
              "  xxmaj last year 's award ceremony was n't too bad but there was little in the way of surprises and i was happy to see xxup return xxup of xxup the xxup king sweep the awards even if it was n't the best in the trilogy ( xxup fellowship was much better ) but what let the xxup bbc coverage down was xxmaj jonathan xxmaj ross getting a few of his sycophantic mates round and pretending they were hilarious when they were anything but . xxmaj so when i heard xxmaj sky were doing the coverage for xxmaj british xxup tv i was expecting xxmaj barry xxmaj norman and xxmaj mark xxmaj kermode to be doing the links , but instead we ended up with xxmaj jamie xxmaj xxunk and xxmaj sharon xxmaj osbourne ! xxmaj oh gawd if xxmaj british xxup tv are desperate for film critics ( xxmaj obviously they are ) i 'm sure both xxmaj bob xxmaj the xxmaj moo and xxmaj theo xxmaj robertson will happily fly over to xxup la to give their honest opinions on the winners and losers \n",
              " \n",
              "  xxmaj chris xxmaj rock was n't too bad , but he 's no xxmaj steve xxmaj martin while the location seemed to resemble a sports hall with seats put in ! xxmaj not much of a glitzy arena in my opinion . xxmaj the main problem i had with the ceremony was the format with the \" minor \" xxmaj oscars handed out to the winners who were sitting in their seats ! xxmaj there 's no such thing as a \" minor \" xxmaj oscar and just because the award is for xxmaj best xxmaj animated xxmaj short or xxmaj best xxmaj costume xxmaj design they 're as well deserved as xxmaj best xxmaj picture or xxmaj best xxmaj director . xxmaj all the winners should be allowed to march up to the podium . xxmaj what a bunch of arrogant snobs the xxmaj academy are becoming and i quite agree with the comments that this format is disgraceful and if it was n't for the surprises this could possibly have been the worst ceremony in history . xxmaj as for the awards themselves \n",
              " \n",
              "  xxmaj best xxmaj supporting xxmaj actress - xxmaj cate xxmaj blanchett . xxmaj no great surprise for a competitive category \n",
              " \n",
              "  xxmaj best xxmaj supporting xxmaj actor - xxmaj morgan xxmaj freeman . xxmaj no real complaints since xxmaj freeman is one of xxmaj america 's greatest living character actors \n",
              " \n",
              "  xxmaj best xxmaj actor - xxmaj jamie xxmaj foxx . xxmaj most predictable award of the night . xxmaj yawn \n",
              " \n",
              "  xxmaj best xxmaj actress - xxmaj hilary xxmaj swank . xxmaj major surprise since everyone thought xxmaj annette xxmaj benning was going to win simply down to academy politics but xxmaj swank did deserve it and gave the best speech of the night \n",
              " \n",
              "  xxmaj best xxmaj director - xxmaj clint xxmaj eastwood . xxmaj major surprise since everyone thought xxmaj scorsese was going to get the award simply because he 'd never won one . xxmaj actually i 'm glad about this because if he did n't deserve it for xxup taxi xxup driver , xxup raging xxup bull or xxup goodfellas he did n't deserve it for xxup the xxup aviator \n",
              " \n",
              "  xxmaj best xxmaj film - xxup million xxup dollar xxup baby . xxmaj again another major surprise since everyone thought the academy would split the awards for best director and best picture while i thought the xxmaj hollywood friendly plot of xxup the xxup aviator would have made it a dead cert for xxmaj best xxmaj picture while xxup xxunk 's controversial subject matter would have turned a lot of voters off \n",
              " \n",
              "  xxmaj what these awards perhaps illustrate is that this year the voters have decided to ignore xxmaj oscar politics and genuinely give out awards to people who deserve it something they have n't done in the past , i mean a xxup beautiful xxup mind beating xxup the xxup fellowship xxup of xxup the xxup ring for gawd 's sake ! xxmaj and long may the academy vote with their heads instead of their hearts,xxbos xxmaj this film was hard to get a hold of , and when i eventually saw it the disappointment was overwhelming . i mean , this is one of the great stories of the twentieth century : an unknown man takes advantage of the unsuspecting airline industry and xxup gets xxup away with millions in ransom without hurting anyone or bungling the attempt . xxmaj with all of this built - in interest , how could anyone make such a lackluster , talk - laden flick of this true - life event . xxmaj while xxmaj williams is always interesting , the screenwriters assumed that the xxup d.b. xxmaj cooper persona was stereotypically heroic like a movie star , s what we get is a type - without any engaging details or insights into the mind of a person daring enough and clever enough to have pulled it off . xxmaj harrold practically steals the movie with her spunk and pure beauty , but the real letdown was in the handling of the plot and the lame direction . xxmaj shame on this film for even existing .\n",
              "y: CategoryList\n",
              "neg,neg,neg,neg,neg\n",
              "Path: /root/.fastai/data/imdb;\n",
              "\n",
              "Valid: LabelList (25000 items)\n",
              "x: TextList\n",
              "xxbos xxmaj oh xxmaj sex xxmaj lives of the xxmaj potato xxmaj men , what foul demon created thee ? xxmaj this is a film that you watch , smirk a little during the runtime and then when you mention it to others having seen it , you just can not help but smile as you talk . xxmaj but it 's not that xxmaj sex xxmaj lives of the xxmaj potato xxmaj men is actually a funny film and one that inspires you to smile when talking or thinking about it , it 's just that the film is so bizarre ; is so insulting and is no shameless in its attempt to get across a meek laugh to do with sex and sex lives in general that you just can not help but have your mouth break out into a grin . xxmaj do bear in mind that what follows the smirk is a sinking of the head ; a consequent shake of the head and a raise of the index finger and thumb to both eyebrows as you gently rub them in an attempt to reminisce about your time watching this trash . \n",
              " \n",
              "  xxmaj but that 's what the film is , it 's trash ; it 's very brave and shameless trash but trash none - the - less . xxmaj whoever came up with this idea , put it to paper and then spread it around the industry trying to get it made must either be very brave or very desperate . xxmaj it 's strange to have a film that is most definitely ' about ' something but one that does not have , under any sort of circumstance , a decisive narrative . xxmaj this follows on from that idea that most of xxmaj european cinema is artistic and its stories are ambiguous and open - ended and themes take precedence over most other things . xxmaj in xxmaj sex xxmaj lives of the xxmaj potato xxmaj men , the same situation and technically the same joke are replayed over and over again and that is an xxunk that consists of : ' sex is a very , very funny thing . ' xxmaj these ideas are perhaps more suited to an xxmaj american film so it 's no wonder that after a while watching this film , things start to feel a little out of sorts . \n",
              " \n",
              "  xxmaj the film begins and ends in the same manner , creating a feeling of a circular journey ; a circular journey that has gone absolutely nowhere and absolutely nothing has been achieved . xxmaj three blokes sit around a table talking and what - not . xxmaj their boss joins them and the conversation is limited to whatever crude and disgusting stories , situations or scenarios each can possibly think of . xxmaj the odd thing here , being that whenever one man says something nasty , the other grimaces but has an equally filthy story to give in return creating a contradiction in what these men find to cross the line and what they do not . xxmaj the men are xxmaj dave ( xxmaj vegas ) and xxmaj ferris ( xxmaj crook ) , two people joined by xxmaj xxunk ( xxmaj coleman ) whenever the film sees fit to throw in a third face to crack some more nasty sex jokes or break some peculiar stories . xxmaj they are employed by xxmaj jeremy ( xxmaj xxunk ) , a man who has deeper issues and problems but issues of which the film is more concerned with exploiting for the sake of humour rather than study . \n",
              " \n",
              "  xxmaj so what 's the situation in xxmaj sex xxmaj lives of the xxmaj potato xxmaj men ? xxmaj the three to four men are in a crisis and for the duration of the film , we will adopt the role of the hapless fly on the wall as we witness what foul play these people get up to over the period of about a week . xxmaj if the humour revolving around xxmaj dave and xxmaj ferris is disgusting and repulsive , then for xxmaj jeremy things are just spooky . xxmaj it all begins rather innocently and it appears there is a female he likes and one who equally likes him in return but when the essence that xxmaj jeremy is merely a stalker creeps in , that 's when the jaws drop . xxmaj the character of xxmaj jeremy is used and put across in a way that makes unrequited love and stalking in general merely look ' funny ' . xxmaj jeremy sits in his apartment listening to classical music and writing out letters of abuse to xxmaj ruth ( xxmaj davis ) , echoing some sort of psychotic persona more associated with xxmaj hannibal xxmaj lecter writing his letter 's to xxmaj clarice in 2001 's xxmaj hannibal . xxmaj but whatever sympathy we might have for him at this point is rendered absolutely false when , later on , it is revealed the true origin of their relationship . xxmaj suddenly , we as an audience feel cheated into feeling a mite sorry for him earlier on and for whatever reason he did do what he did in the first place just seems cowardly and distasteful . xxmaj to say what it was would ruin whatever few surprises lurk within the film . \n",
              " \n",
              "  xxmaj quite sad how , in one of xxmaj jeremy 's letters , he writes about something - or - other exclaiming it to have \" xxmaj no artistic vision  just one big mess \" . i hate it when words said by the characters echo the film they 're in . xxmaj sex xxmaj lives of the xxmaj potato xxmaj men does not explore someone 's psyche or particular interest in a fetish or why they feel the need to go around having as much sex as possible , it just uses them as a front to pile on ridiculously unfunny jokes and situations . xxmaj rather than take group sex and explore what drives a person to seek it down , it makes a daft joke out of it ( tickets with numbers on ! ? ) ; rather than get into the mindset of a fan of xxmaj sadomasochism , the film has someone hang from a basement ceiling and warn everyone of ' incoming salt and vinegar ' as he climaxes . xxmaj ferris covers his face in disgust and the camera fades to the next scene without too much of a fuss . xxmaj it 's a relief the film got to no audiences abroad . xxmaj this is one section of xxmaj british culture , indeed of the xxmaj british mentality that i pray will be confined to our shores and ignored accordingly .,xxbos xxmaj not as bad as 1992 's \" xxmaj nails \" ( where xxmaj hopper plays an \" unstable \" cop ) but pretty bad . xxmaj how can a movie with such a great cast go so wrong ? xxmaj this film manages to find a way . xxmaj the story was pretty stupid and xxmaj hopper 's direction seemed like he had never directed before . xxmaj all of the long shots in the beginning were bothersome . xxmaj lots of meaningless scenes with a lot of meaningless dialogue .,xxbos xxmaj this is a stereotype plot . a young fighter tries to enter a competition when he is not ready and is not selected to represent his fighting school . xxmaj this leads to separation from the fighting school and naturally he finds a strange new master to teach him to fight . \n",
              " \n",
              "  xxmaj the fights are not of high standards . xxmaj they are way too \" simple \" in a way that 1 + 1 is simple to every adult . xxmaj the fighter has trained and enters the ring , but does not do what he trained and gets an ass kicking . xxmaj the coach yells do this and do that with no success . xxmaj and after some more of this ridiculous beating he suddenly does what he is told and hits his opponent once . xxmaj this results in a turning point in the fight , although our hero has been taking a beating of his life up until that point . xxmaj think about the xxmaj rocky movies and you 'll have a good point of reference of how much beating he really takes . xxmaj the fights are also shot poorly . \n",
              " \n",
              "  xxmaj there final thing that screws this film up is the stupid romance . xxmaj cheesy music and awkward moments are not what i call entertainment . \n",
              " \n",
              "  xxmaj these guys really could have made some quality entertainment , but the director was n't up to the task . xxmaj or the other crew in my opinion . xxmaj maybe they had a small budget , i do n't know , but what matters in the end is that this movie is bad and deserves the rating of 3 out of 10 .,xxbos well i 'd probably agree with all the bad comments about this movie cos honestly i thought it was such a piece of crap i mean the actors had done a terrible acting job and the script was all terrible . xxmaj although the special effects was n't a bit bad but i think the should have thought a lot harder than that . i mean how did xxmaj clara xxmaj bryant get successfully put into this film i mean she 'd do a lot better if she looked a bit further and that goes the same with xxmaj kristen honey , i mean her character dies and she does n't bother to try and defend herself i mean it 's got ta be a total joke . xxmaj she should at least do a lot better than what she an do like become a soldier or more of a heroine or something along the lines of bravery . xxmaj but the point is the actors did a complete soulless lousy job and so did the director and the writer who made this film . they should 've went into film school to think up some better ideas and i hope everyone agrees with my methods cos they are probably thinking the same thing .,xxbos xxmaj this is a big disappointment . xxmaj the main problem is the acting . xxmaj xxunk le xxmaj touzel is pretty poor as xxmaj fanny , and the rest are not much better , everybody is very stilted and unnatural . xxmaj also the camerawork is very 1980 's ie cramped and jumpy , compared with the likes of 1995 's xxup p&p , for example . \n",
              " \n",
              "  xxmaj the script is , if anything too faithful to the book , and there are some cringe worthy expressions that should have been cut . \n",
              " \n",
              "  xxmaj in every way this is far inferior to the recent film version , which though it took huge liberties with the book , seemed far more faithful to the spirit of the book and was far more enjoyable .\n",
              "y: CategoryList\n",
              "neg,neg,neg,neg,neg\n",
              "Path: /root/.fastai/data/imdb;\n",
              "\n",
              "Test: None, model=SequentialRNN(\n",
              "  (0): MultiBatchEncoder(\n",
              "    (module): AWD_LSTM(\n",
              "      (encoder): Embedding(60003, 400, padding_idx=1)\n",
              "      (encoder_dp): EmbeddingDropout(\n",
              "        (emb): Embedding(60003, 400, padding_idx=1)\n",
              "      )\n",
              "      (rnns): ModuleList(\n",
              "        (0): WeightDropout(\n",
              "          (module): LSTM(400, 1150, batch_first=True)\n",
              "        )\n",
              "        (1): WeightDropout(\n",
              "          (module): LSTM(1150, 1150, batch_first=True)\n",
              "        )\n",
              "        (2): WeightDropout(\n",
              "          (module): LSTM(1150, 400, batch_first=True)\n",
              "        )\n",
              "      )\n",
              "      (input_dp): RNNDropout()\n",
              "      (hidden_dps): ModuleList(\n",
              "        (0): RNNDropout()\n",
              "        (1): RNNDropout()\n",
              "        (2): RNNDropout()\n",
              "      )\n",
              "    )\n",
              "  )\n",
              "  (1): PoolingLinearClassifier(\n",
              "    (layers): Sequential(\n",
              "      (0): BatchNorm1d(1200, eps=1e-05, momentum=0.1, affine=True, track_running_stats=True)\n",
              "      (1): Dropout(p=0.2)\n",
              "      (2): Linear(in_features=1200, out_features=50, bias=True)\n",
              "      (3): ReLU(inplace)\n",
              "      (4): BatchNorm1d(50, eps=1e-05, momentum=0.1, affine=True, track_running_stats=True)\n",
              "      (5): Dropout(p=0.1)\n",
              "      (6): Linear(in_features=50, out_features=2, bias=True)\n",
              "    )\n",
              "  )\n",
              "), opt_func=functools.partial(<class 'torch.optim.adam.Adam'>, betas=(0.9, 0.99)), loss_func=FlattenedLoss of CrossEntropyLoss(), metrics=[<function accuracy at 0x7fd56f7c8bf8>], true_wd=True, bn_wd=True, wd=0.01, train_bn=True, path=PosixPath('/root/.fastai/data/imdb'), model_dir='models', callback_fns=[functools.partial(<class 'fastai.basic_train.Recorder'>, add_time=True)], callbacks=[RNNTrainer\n",
              "learn: RNNLearner(data=TextClasDataBunch;\n",
              "\n",
              "Train: LabelList (25000 items)\n",
              "x: TextList\n",
              "xxbos i vowed a long time ago to xxup never , xxup ever watch a movie that has xxup anyone who xxup ever was a regular cast member of \" xxmaj saturday xxmaj night xxmaj live \" . i did n't rent \" xxmaj corky xxmaj romano \" but i was forced by my unfailing good manners to watch it for half an hour . xxmaj then my good manners failed . xxmaj stupid , not funny . xxmaj tedious , not hilarious . xxmaj bad , not good . xxmaj that in a nutshell is all i can say for this video .,xxbos xxmaj the worst kind of film . xxmaj basically , the xxup us xxmaj declaration of xxmaj independence was replaced with a plasma screen and this fooled the museum 's security for several days . xxmaj eh ? \n",
              " \n",
              "  xxmaj the plasma screen that would theoretically run for less than 2 seconds off that watch battery , assuming it had a low enough internal resistance to deliver the required current , which it would n't . \n",
              " \n",
              "  xxmaj it would be possible with a dozen large car batteries and an xxunk , but that system would n't fit into the case . xxmaj sorry to be anal , but this is n't even close to being plausible . xxmaj the rest of the film was n't a great deal better and i 'm left wondering why the budget could n't have been donated to charity or me .,xxbos xxmaj years after the fall of the last of the great corporations , the world has fallen into a new dark age where cyborgs are harvested for their parts . xxmaj cash , a female cyborg , travels to a wasteland doctor to receive news that she is pregnant . xxmaj on the run from xxmaj xxunk ( bounty hunters who hunt cyborgs ) , xxmaj cash tries to find her way to xxmaj xxunk , the mythical refuge for cyborgs . \n",
              " \n",
              "  \" xxmaj cyborg 3 : xxmaj the xxmaj xxunk \" is the third ( & last so far ) entry in the xxup cyborg trilogy . xxmaj the first film was originally planned to be a sequel to xxup masters xxup of xxup the xxup universe , but was quickly rewritten into a standard post - apocalyptic martial - arts fest that became something of a cult classic due to its cheesy action scenes . xxup cyborg 2 : xxup glass xxup shadow was a sequel that actually improved upon its predecessor but was not widely seen ( & was dismissed by those few who saw it as cheap fodder ) . \n",
              " \n",
              "  xxmaj this film , for one thing , tries to be a meld of the first two films ( the first was a cheesy action film while the second was a smart xxmaj cyberpunk story ) but unfortunately falls short on both counts . xxmaj the budget was obviously lower than xxup cyborg 2 , with the film being set in the desert wastelands ( like so many post - apocalyptic action films of the 90s were ) , shot around old industrial buildings to conserve costs . \n",
              " \n",
              "  xxmaj the film 's story centres on a plot device , that of a pregnant cyborg , that is as interesting as it is absurd ( this film is not the first to try that idea ; the anime xxup ova series xxup armitage xxup iii uses it to a greater extent ) . xxmaj but the film falls into the same trap that so many low - budget sci - fi action films fall victim to , in the fact that the snags ( synthetic organisms ) featured are nothing more than androids . xxmaj the visual effects amount to nothing more than prosthetic arms & makeup effects . \n",
              " \n",
              "  xxmaj the acting is pretty standard for this kind of film , with the lead actress ( xxmaj xxunk xxmaj haje ) being the single worst performer on display . xxmaj instead of being joyed at the news she is pregnant , she acts all whiny & sullen . xxmaj her co - stars are much better , xxmaj malcolm mcdowell being the usual gangster type who enlivens the scenes he appears in & xxmaj richard xxmaj lynch has a lot of fun as the chief villain . xxmaj of particular note is xxmaj andrew xxmaj xxunk , playing xxmaj lynch 's right hand man , who would later appear in xxup the xxmaj texas xxup chainsaw xxup massacre remake & its prequel .,xxbos i firmly believe that the best xxmaj oscar ceremony in recent years was in 2003 for two reasons : \n",
              " \n",
              "  1 ) xxmaj host xxmaj steve xxmaj martin was at his most wittiest : \" i saw the teamsters help xxmaj michael xxmaj moore into the trunk of his limo \" and \" i 'll better not mention the gay mafia in case i wake up with a poodle 's head in my bed \" \n",
              " \n",
              "  2 ) xxmaj surprise winners : xxmaj no one had xxmaj adrien xxmaj brody down for best actor ( xxmaj genuine applause ) or xxmaj roman xxmaj polanski for best director ( xxmaj genuine jeers and boos ) but they won \n",
              " \n",
              "  xxmaj last year 's award ceremony was n't too bad but there was little in the way of surprises and i was happy to see xxup return xxup of xxup the xxup king sweep the awards even if it was n't the best in the trilogy ( xxup fellowship was much better ) but what let the xxup bbc coverage down was xxmaj jonathan xxmaj ross getting a few of his sycophantic mates round and pretending they were hilarious when they were anything but . xxmaj so when i heard xxmaj sky were doing the coverage for xxmaj british xxup tv i was expecting xxmaj barry xxmaj norman and xxmaj mark xxmaj kermode to be doing the links , but instead we ended up with xxmaj jamie xxmaj xxunk and xxmaj sharon xxmaj osbourne ! xxmaj oh gawd if xxmaj british xxup tv are desperate for film critics ( xxmaj obviously they are ) i 'm sure both xxmaj bob xxmaj the xxmaj moo and xxmaj theo xxmaj robertson will happily fly over to xxup la to give their honest opinions on the winners and losers \n",
              " \n",
              "  xxmaj chris xxmaj rock was n't too bad , but he 's no xxmaj steve xxmaj martin while the location seemed to resemble a sports hall with seats put in ! xxmaj not much of a glitzy arena in my opinion . xxmaj the main problem i had with the ceremony was the format with the \" minor \" xxmaj oscars handed out to the winners who were sitting in their seats ! xxmaj there 's no such thing as a \" minor \" xxmaj oscar and just because the award is for xxmaj best xxmaj animated xxmaj short or xxmaj best xxmaj costume xxmaj design they 're as well deserved as xxmaj best xxmaj picture or xxmaj best xxmaj director . xxmaj all the winners should be allowed to march up to the podium . xxmaj what a bunch of arrogant snobs the xxmaj academy are becoming and i quite agree with the comments that this format is disgraceful and if it was n't for the surprises this could possibly have been the worst ceremony in history . xxmaj as for the awards themselves \n",
              " \n",
              "  xxmaj best xxmaj supporting xxmaj actress - xxmaj cate xxmaj blanchett . xxmaj no great surprise for a competitive category \n",
              " \n",
              "  xxmaj best xxmaj supporting xxmaj actor - xxmaj morgan xxmaj freeman . xxmaj no real complaints since xxmaj freeman is one of xxmaj america 's greatest living character actors \n",
              " \n",
              "  xxmaj best xxmaj actor - xxmaj jamie xxmaj foxx . xxmaj most predictable award of the night . xxmaj yawn \n",
              " \n",
              "  xxmaj best xxmaj actress - xxmaj hilary xxmaj swank . xxmaj major surprise since everyone thought xxmaj annette xxmaj benning was going to win simply down to academy politics but xxmaj swank did deserve it and gave the best speech of the night \n",
              " \n",
              "  xxmaj best xxmaj director - xxmaj clint xxmaj eastwood . xxmaj major surprise since everyone thought xxmaj scorsese was going to get the award simply because he 'd never won one . xxmaj actually i 'm glad about this because if he did n't deserve it for xxup taxi xxup driver , xxup raging xxup bull or xxup goodfellas he did n't deserve it for xxup the xxup aviator \n",
              " \n",
              "  xxmaj best xxmaj film - xxup million xxup dollar xxup baby . xxmaj again another major surprise since everyone thought the academy would split the awards for best director and best picture while i thought the xxmaj hollywood friendly plot of xxup the xxup aviator would have made it a dead cert for xxmaj best xxmaj picture while xxup xxunk 's controversial subject matter would have turned a lot of voters off \n",
              " \n",
              "  xxmaj what these awards perhaps illustrate is that this year the voters have decided to ignore xxmaj oscar politics and genuinely give out awards to people who deserve it something they have n't done in the past , i mean a xxup beautiful xxup mind beating xxup the xxup fellowship xxup of xxup the xxup ring for gawd 's sake ! xxmaj and long may the academy vote with their heads instead of their hearts,xxbos xxmaj this film was hard to get a hold of , and when i eventually saw it the disappointment was overwhelming . i mean , this is one of the great stories of the twentieth century : an unknown man takes advantage of the unsuspecting airline industry and xxup gets xxup away with millions in ransom without hurting anyone or bungling the attempt . xxmaj with all of this built - in interest , how could anyone make such a lackluster , talk - laden flick of this true - life event . xxmaj while xxmaj williams is always interesting , the screenwriters assumed that the xxup d.b. xxmaj cooper persona was stereotypically heroic like a movie star , s what we get is a type - without any engaging details or insights into the mind of a person daring enough and clever enough to have pulled it off . xxmaj harrold practically steals the movie with her spunk and pure beauty , but the real letdown was in the handling of the plot and the lame direction . xxmaj shame on this film for even existing .\n",
              "y: CategoryList\n",
              "neg,neg,neg,neg,neg\n",
              "Path: /root/.fastai/data/imdb;\n",
              "\n",
              "Valid: LabelList (25000 items)\n",
              "x: TextList\n",
              "xxbos xxmaj oh xxmaj sex xxmaj lives of the xxmaj potato xxmaj men , what foul demon created thee ? xxmaj this is a film that you watch , smirk a little during the runtime and then when you mention it to others having seen it , you just can not help but smile as you talk . xxmaj but it 's not that xxmaj sex xxmaj lives of the xxmaj potato xxmaj men is actually a funny film and one that inspires you to smile when talking or thinking about it , it 's just that the film is so bizarre ; is so insulting and is no shameless in its attempt to get across a meek laugh to do with sex and sex lives in general that you just can not help but have your mouth break out into a grin . xxmaj do bear in mind that what follows the smirk is a sinking of the head ; a consequent shake of the head and a raise of the index finger and thumb to both eyebrows as you gently rub them in an attempt to reminisce about your time watching this trash . \n",
              " \n",
              "  xxmaj but that 's what the film is , it 's trash ; it 's very brave and shameless trash but trash none - the - less . xxmaj whoever came up with this idea , put it to paper and then spread it around the industry trying to get it made must either be very brave or very desperate . xxmaj it 's strange to have a film that is most definitely ' about ' something but one that does not have , under any sort of circumstance , a decisive narrative . xxmaj this follows on from that idea that most of xxmaj european cinema is artistic and its stories are ambiguous and open - ended and themes take precedence over most other things . xxmaj in xxmaj sex xxmaj lives of the xxmaj potato xxmaj men , the same situation and technically the same joke are replayed over and over again and that is an xxunk that consists of : ' sex is a very , very funny thing . ' xxmaj these ideas are perhaps more suited to an xxmaj american film so it 's no wonder that after a while watching this film , things start to feel a little out of sorts . \n",
              " \n",
              "  xxmaj the film begins and ends in the same manner , creating a feeling of a circular journey ; a circular journey that has gone absolutely nowhere and absolutely nothing has been achieved . xxmaj three blokes sit around a table talking and what - not . xxmaj their boss joins them and the conversation is limited to whatever crude and disgusting stories , situations or scenarios each can possibly think of . xxmaj the odd thing here , being that whenever one man says something nasty , the other grimaces but has an equally filthy story to give in return creating a contradiction in what these men find to cross the line and what they do not . xxmaj the men are xxmaj dave ( xxmaj vegas ) and xxmaj ferris ( xxmaj crook ) , two people joined by xxmaj xxunk ( xxmaj coleman ) whenever the film sees fit to throw in a third face to crack some more nasty sex jokes or break some peculiar stories . xxmaj they are employed by xxmaj jeremy ( xxmaj xxunk ) , a man who has deeper issues and problems but issues of which the film is more concerned with exploiting for the sake of humour rather than study . \n",
              " \n",
              "  xxmaj so what 's the situation in xxmaj sex xxmaj lives of the xxmaj potato xxmaj men ? xxmaj the three to four men are in a crisis and for the duration of the film , we will adopt the role of the hapless fly on the wall as we witness what foul play these people get up to over the period of about a week . xxmaj if the humour revolving around xxmaj dave and xxmaj ferris is disgusting and repulsive , then for xxmaj jeremy things are just spooky . xxmaj it all begins rather innocently and it appears there is a female he likes and one who equally likes him in return but when the essence that xxmaj jeremy is merely a stalker creeps in , that 's when the jaws drop . xxmaj the character of xxmaj jeremy is used and put across in a way that makes unrequited love and stalking in general merely look ' funny ' . xxmaj jeremy sits in his apartment listening to classical music and writing out letters of abuse to xxmaj ruth ( xxmaj davis ) , echoing some sort of psychotic persona more associated with xxmaj hannibal xxmaj lecter writing his letter 's to xxmaj clarice in 2001 's xxmaj hannibal . xxmaj but whatever sympathy we might have for him at this point is rendered absolutely false when , later on , it is revealed the true origin of their relationship . xxmaj suddenly , we as an audience feel cheated into feeling a mite sorry for him earlier on and for whatever reason he did do what he did in the first place just seems cowardly and distasteful . xxmaj to say what it was would ruin whatever few surprises lurk within the film . \n",
              " \n",
              "  xxmaj quite sad how , in one of xxmaj jeremy 's letters , he writes about something - or - other exclaiming it to have \" xxmaj no artistic vision  just one big mess \" . i hate it when words said by the characters echo the film they 're in . xxmaj sex xxmaj lives of the xxmaj potato xxmaj men does not explore someone 's psyche or particular interest in a fetish or why they feel the need to go around having as much sex as possible , it just uses them as a front to pile on ridiculously unfunny jokes and situations . xxmaj rather than take group sex and explore what drives a person to seek it down , it makes a daft joke out of it ( tickets with numbers on ! ? ) ; rather than get into the mindset of a fan of xxmaj sadomasochism , the film has someone hang from a basement ceiling and warn everyone of ' incoming salt and vinegar ' as he climaxes . xxmaj ferris covers his face in disgust and the camera fades to the next scene without too much of a fuss . xxmaj it 's a relief the film got to no audiences abroad . xxmaj this is one section of xxmaj british culture , indeed of the xxmaj british mentality that i pray will be confined to our shores and ignored accordingly .,xxbos xxmaj not as bad as 1992 's \" xxmaj nails \" ( where xxmaj hopper plays an \" unstable \" cop ) but pretty bad . xxmaj how can a movie with such a great cast go so wrong ? xxmaj this film manages to find a way . xxmaj the story was pretty stupid and xxmaj hopper 's direction seemed like he had never directed before . xxmaj all of the long shots in the beginning were bothersome . xxmaj lots of meaningless scenes with a lot of meaningless dialogue .,xxbos xxmaj this is a stereotype plot . a young fighter tries to enter a competition when he is not ready and is not selected to represent his fighting school . xxmaj this leads to separation from the fighting school and naturally he finds a strange new master to teach him to fight . \n",
              " \n",
              "  xxmaj the fights are not of high standards . xxmaj they are way too \" simple \" in a way that 1 + 1 is simple to every adult . xxmaj the fighter has trained and enters the ring , but does not do what he trained and gets an ass kicking . xxmaj the coach yells do this and do that with no success . xxmaj and after some more of this ridiculous beating he suddenly does what he is told and hits his opponent once . xxmaj this results in a turning point in the fight , although our hero has been taking a beating of his life up until that point . xxmaj think about the xxmaj rocky movies and you 'll have a good point of reference of how much beating he really takes . xxmaj the fights are also shot poorly . \n",
              " \n",
              "  xxmaj there final thing that screws this film up is the stupid romance . xxmaj cheesy music and awkward moments are not what i call entertainment . \n",
              " \n",
              "  xxmaj these guys really could have made some quality entertainment , but the director was n't up to the task . xxmaj or the other crew in my opinion . xxmaj maybe they had a small budget , i do n't know , but what matters in the end is that this movie is bad and deserves the rating of 3 out of 10 .,xxbos well i 'd probably agree with all the bad comments about this movie cos honestly i thought it was such a piece of crap i mean the actors had done a terrible acting job and the script was all terrible . xxmaj although the special effects was n't a bit bad but i think the should have thought a lot harder than that . i mean how did xxmaj clara xxmaj bryant get successfully put into this film i mean she 'd do a lot better if she looked a bit further and that goes the same with xxmaj kristen honey , i mean her character dies and she does n't bother to try and defend herself i mean it 's got ta be a total joke . xxmaj she should at least do a lot better than what she an do like become a soldier or more of a heroine or something along the lines of bravery . xxmaj but the point is the actors did a complete soulless lousy job and so did the director and the writer who made this film . they should 've went into film school to think up some better ideas and i hope everyone agrees with my methods cos they are probably thinking the same thing .,xxbos xxmaj this is a big disappointment . xxmaj the main problem is the acting . xxmaj xxunk le xxmaj touzel is pretty poor as xxmaj fanny , and the rest are not much better , everybody is very stilted and unnatural . xxmaj also the camerawork is very 1980 's ie cramped and jumpy , compared with the likes of 1995 's xxup p&p , for example . \n",
              " \n",
              "  xxmaj the script is , if anything too faithful to the book , and there are some cringe worthy expressions that should have been cut . \n",
              " \n",
              "  xxmaj in every way this is far inferior to the recent film version , which though it took huge liberties with the book , seemed far more faithful to the spirit of the book and was far more enjoyable .\n",
              "y: CategoryList\n",
              "neg,neg,neg,neg,neg\n",
              "Path: /root/.fastai/data/imdb;\n",
              "\n",
              "Test: None, model=SequentialRNN(\n",
              "  (0): MultiBatchEncoder(\n",
              "    (module): AWD_LSTM(\n",
              "      (encoder): Embedding(60003, 400, padding_idx=1)\n",
              "      (encoder_dp): EmbeddingDropout(\n",
              "        (emb): Embedding(60003, 400, padding_idx=1)\n",
              "      )\n",
              "      (rnns): ModuleList(\n",
              "        (0): WeightDropout(\n",
              "          (module): LSTM(400, 1150, batch_first=True)\n",
              "        )\n",
              "        (1): WeightDropout(\n",
              "          (module): LSTM(1150, 1150, batch_first=True)\n",
              "        )\n",
              "        (2): WeightDropout(\n",
              "          (module): LSTM(1150, 400, batch_first=True)\n",
              "        )\n",
              "      )\n",
              "      (input_dp): RNNDropout()\n",
              "      (hidden_dps): ModuleList(\n",
              "        (0): RNNDropout()\n",
              "        (1): RNNDropout()\n",
              "        (2): RNNDropout()\n",
              "      )\n",
              "    )\n",
              "  )\n",
              "  (1): PoolingLinearClassifier(\n",
              "    (layers): Sequential(\n",
              "      (0): BatchNorm1d(1200, eps=1e-05, momentum=0.1, affine=True, track_running_stats=True)\n",
              "      (1): Dropout(p=0.2)\n",
              "      (2): Linear(in_features=1200, out_features=50, bias=True)\n",
              "      (3): ReLU(inplace)\n",
              "      (4): BatchNorm1d(50, eps=1e-05, momentum=0.1, affine=True, track_running_stats=True)\n",
              "      (5): Dropout(p=0.1)\n",
              "      (6): Linear(in_features=50, out_features=2, bias=True)\n",
              "    )\n",
              "  )\n",
              "), opt_func=functools.partial(<class 'torch.optim.adam.Adam'>, betas=(0.9, 0.99)), loss_func=FlattenedLoss of CrossEntropyLoss(), metrics=[<function accuracy at 0x7fd56f7c8bf8>], true_wd=True, bn_wd=True, wd=0.01, train_bn=True, path=PosixPath('/root/.fastai/data/imdb'), model_dir='models', callback_fns=[functools.partial(<class 'fastai.basic_train.Recorder'>, add_time=True)], callbacks=[...], layer_groups=[Sequential(\n",
              "  (0): Embedding(60003, 400, padding_idx=1)\n",
              "  (1): EmbeddingDropout(\n",
              "    (emb): Embedding(60003, 400, padding_idx=1)\n",
              "  )\n",
              "), Sequential(\n",
              "  (0): WeightDropout(\n",
              "    (module): LSTM(400, 1150, batch_first=True)\n",
              "  )\n",
              "  (1): RNNDropout()\n",
              "), Sequential(\n",
              "  (0): WeightDropout(\n",
              "    (module): LSTM(1150, 1150, batch_first=True)\n",
              "  )\n",
              "  (1): RNNDropout()\n",
              "), Sequential(\n",
              "  (0): WeightDropout(\n",
              "    (module): LSTM(1150, 400, batch_first=True)\n",
              "  )\n",
              "  (1): RNNDropout()\n",
              "), Sequential(\n",
              "  (0): PoolingLinearClassifier(\n",
              "    (layers): Sequential(\n",
              "      (0): BatchNorm1d(1200, eps=1e-05, momentum=0.1, affine=True, track_running_stats=True)\n",
              "      (1): Dropout(p=0.2)\n",
              "      (2): Linear(in_features=1200, out_features=50, bias=True)\n",
              "      (3): ReLU(inplace)\n",
              "      (4): BatchNorm1d(50, eps=1e-05, momentum=0.1, affine=True, track_running_stats=True)\n",
              "      (5): Dropout(p=0.1)\n",
              "      (6): Linear(in_features=50, out_features=2, bias=True)\n",
              "    )\n",
              "  )\n",
              ")], add_time=True)\n",
              "alpha: 2.0\n",
              "beta: 1.0], layer_groups=[Sequential(\n",
              "  (0): Embedding(60003, 400, padding_idx=1)\n",
              "  (1): EmbeddingDropout(\n",
              "    (emb): Embedding(60003, 400, padding_idx=1)\n",
              "  )\n",
              "), Sequential(\n",
              "  (0): WeightDropout(\n",
              "    (module): LSTM(400, 1150, batch_first=True)\n",
              "  )\n",
              "  (1): RNNDropout()\n",
              "), Sequential(\n",
              "  (0): WeightDropout(\n",
              "    (module): LSTM(1150, 1150, batch_first=True)\n",
              "  )\n",
              "  (1): RNNDropout()\n",
              "), Sequential(\n",
              "  (0): WeightDropout(\n",
              "    (module): LSTM(1150, 400, batch_first=True)\n",
              "  )\n",
              "  (1): RNNDropout()\n",
              "), Sequential(\n",
              "  (0): PoolingLinearClassifier(\n",
              "    (layers): Sequential(\n",
              "      (0): BatchNorm1d(1200, eps=1e-05, momentum=0.1, affine=True, track_running_stats=True)\n",
              "      (1): Dropout(p=0.2)\n",
              "      (2): Linear(in_features=1200, out_features=50, bias=True)\n",
              "      (3): ReLU(inplace)\n",
              "      (4): BatchNorm1d(50, eps=1e-05, momentum=0.1, affine=True, track_running_stats=True)\n",
              "      (5): Dropout(p=0.1)\n",
              "      (6): Linear(in_features=50, out_features=2, bias=True)\n",
              "    )\n",
              "  )\n",
              ")], add_time=True)"
            ]
          },
          "metadata": {
            "tags": []
          },
          "execution_count": 83
        }
      ]
    },
    {
      "metadata": {
        "id": "3oRur4dQDajH",
        "colab_type": "code",
        "colab": {
          "base_uri": "https://localhost:8080/",
          "height": 103
        },
        "outputId": "a3ad8fea-5c3d-459f-b4f9-7f967e968249"
      },
      "cell_type": "code",
      "source": [
        "learn.unfreeze()\n",
        "learn.fit_one_cycle(1, slice(1e-3/(2.6**4),1e-3), moms=(0.8,0.7))"
      ],
      "execution_count": 84,
      "outputs": [
        {
          "output_type": "display_data",
          "data": {
            "text/html": [
              "Total time: 24:37 <p><table border=\"1\" class=\"dataframe\">\n",
              "  <thead>\n",
              "    <tr style=\"text-align: left;\">\n",
              "      <th>epoch</th>\n",
              "      <th>train_loss</th>\n",
              "      <th>valid_loss</th>\n",
              "      <th>accuracy</th>\n",
              "      <th>time</th>\n",
              "    </tr>\n",
              "  </thead>\n",
              "  <tbody>\n",
              "    <tr>\n",
              "      <td>0</td>\n",
              "      <td>0.213888</td>\n",
              "      <td>0.168152</td>\n",
              "      <td>0.936520</td>\n",
              "      <td>24:37</td>\n",
              "    </tr>\n",
              "  </tbody>\n",
              "</table>"
            ],
            "text/plain": [
              "<IPython.core.display.HTML object>"
            ]
          },
          "metadata": {
            "tags": []
          }
        }
      ]
    },
    {
      "metadata": {
        "id": "N9mnEHxvv3dB",
        "colab_type": "text"
      },
      "cell_type": "markdown",
      "source": [
        "Even in this case I faced the Runtime Error: CUDA out of memory, so I changed the cycle length to 1 instead of 2."
      ]
    },
    {
      "metadata": {
        "id": "g8R6_h3oDak_",
        "colab_type": "code",
        "colab": {
          "base_uri": "https://localhost:8080/",
          "height": 35
        },
        "outputId": "980df971-e644-44cf-9517-d36e29df97dd"
      },
      "cell_type": "code",
      "source": [
        "learn.predict(\"I really loved that movie, it was awesome!\")"
      ],
      "execution_count": 85,
      "outputs": [
        {
          "output_type": "execute_result",
          "data": {
            "text/plain": [
              "(Category pos, tensor(1), tensor([1.2576e-05, 9.9999e-01]))"
            ]
          },
          "metadata": {
            "tags": []
          },
          "execution_count": 85
        }
      ]
    },
    {
      "metadata": {
        "id": "UZRnlz7FDaoU",
        "colab_type": "code",
        "colab": {}
      },
      "cell_type": "code",
      "source": [
        ""
      ],
      "execution_count": 0,
      "outputs": []
    },
    {
      "metadata": {
        "id": "4fVdSShsDM66",
        "colab_type": "code",
        "colab": {}
      },
      "cell_type": "code",
      "source": [
        ""
      ],
      "execution_count": 0,
      "outputs": []
    }
  ]
}
